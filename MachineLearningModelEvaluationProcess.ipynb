{
  "nbformat": 4,
  "nbformat_minor": 0,
  "metadata": {
    "colab": {
      "provenance": [],
      "collapsed_sections": [],
      "include_colab_link": true
    },
    "kernelspec": {
      "name": "python3",
      "display_name": "Python 3"
    }
  },
  "cells": [
    {
      "cell_type": "markdown",
      "metadata": {
        "id": "view-in-github",
        "colab_type": "text"
      },
      "source": [
        "<a href=\"https://colab.research.google.com/github/Daniel-Brett-Stark/PortfolioProjects/blob/main/MachineLearningModelEvaluationProcess.ipynb\" target=\"_parent\"><img src=\"https://colab.research.google.com/assets/colab-badge.svg\" alt=\"Open In Colab\"/></a>"
      ]
    },
    {
      "cell_type": "code",
      "source": [
        "#%matplotlib inline"
      ],
      "metadata": {
        "id": "lzKPsE3ysVs0"
      },
      "execution_count": 1,
      "outputs": []
    },
    {
      "cell_type": "code",
      "metadata": {
        "id": "TzFDXTTnWM9c"
      },
      "source": [
        "import numpy as np"
      ],
      "execution_count": 2,
      "outputs": []
    },
    {
      "cell_type": "markdown",
      "metadata": {
        "id": "UamL0RdiWM9h"
      },
      "source": [
        "## 1. Question to answer"
      ]
    },
    {
      "cell_type": "markdown",
      "metadata": {
        "id": "LQ7P55DJWM9h"
      },
      "source": [
        "Would two people with identical observed characteristics but different race be predicted to have their loan applications treated differently?"
      ]
    },
    {
      "cell_type": "markdown",
      "metadata": {
        "id": "A6zoctZZWM9h"
      },
      "source": [
        "## 2. Obtain a labeled dataset"
      ]
    },
    {
      "cell_type": "code",
      "metadata": {
        "id": "y3wmGngUWM9i"
      },
      "source": [
        "import pandas as pd\n"
      ],
      "execution_count": 3,
      "outputs": []
    },
    {
      "cell_type": "code",
      "metadata": {
        "id": "Fer02-GdWM9k",
        "colab": {
          "base_uri": "https://localhost:8080/"
        },
        "outputId": "131d1919-8ece-4561-ff3e-8e3f7676d947"
      },
      "source": [
        "#Don't do restart runtime. Just rerun it. You need to upload mortgagedenials.csv every time I use this\n",
        "from google.colab import drive\n",
        "drive.mount('/content/gdrive')\n",
        "df1 = pd.read_csv('/content/gdrive/My Drive/Econ 484/mortgagedenials.csv')\n",
        "#MortgageDenials=pd.read_csv('mortgagedenials.csv')\n",
        "MortageDenials = df1\n",
        "y = MortageDenials.filter(items=['deny'])\n",
        "#filter-->These are the columns you want to use for y (specified)\n",
        "X = MortageDenials.drop(columns='deny')\n",
        "#https://pandas.pydata.org/docs/reference/api/pandas.DataFrame.drop.html\n",
        "print('our y vector is:\\n',y.head)\n",
        "print('our X matrix is:\\n',X.head)\n",
        "from sklearn.preprocessing import StandardScaler\n",
        "scaler = StandardScaler()\n",
        "scaler.fit(X)\n",
        "X = scaler.transform(X)"
      ],
      "execution_count": 4,
      "outputs": [
        {
          "output_type": "stream",
          "name": "stdout",
          "text": [
            "Mounted at /content/gdrive\n",
            "our y vector is:\n",
            " <bound method NDFrame.head of       deny\n",
            "0        0\n",
            "1        0\n",
            "2        1\n",
            "3        0\n",
            "4        0\n",
            "...    ...\n",
            "2375     0\n",
            "2376     1\n",
            "2377     0\n",
            "2378     0\n",
            "2379     0\n",
            "\n",
            "[2380 rows x 1 columns]>\n",
            "our X matrix is:\n",
            " <bound method NDFrame.head of       p_irat  black  hse_inc  loan_val  ccred  mcred  pubrec  denpmi  selfemp  \\\n",
            "0     0.2170      0   0.2130  0.638889      1      1       0       0        0   \n",
            "1     0.2600      0   0.2200  0.945946      6      2       0       0        0   \n",
            "2     0.4600      0   0.2700  0.840000      5      2       0       0        0   \n",
            "3     0.4900      0   0.2700  0.199482      1      1       0       0        0   \n",
            "4     0.2600      0   0.2600  0.366667      1      2       0       0        0   \n",
            "...      ...    ...      ...       ...    ...    ...     ...     ...      ...   \n",
            "2375  0.2800      1   0.2400  0.438462      1      2       0       0        0   \n",
            "2376  0.3207      1   0.2522  0.900000      1      2       0       0        0   \n",
            "2377  0.3810      1   0.2960  0.897436      1      1       0       0        0   \n",
            "2378  0.3150      1   0.2870  0.901316      1      1       0       0        0   \n",
            "2379  0.3749      1   0.3071  0.878431      1      1       0       0        0   \n",
            "\n",
            "      single  hischl  probunmp  condo  ltv_med  ltv_high  \n",
            "0          0       1       3.2      0        0         0  \n",
            "1          0       1       3.9      0        1         0  \n",
            "2          1       1       5.3      0        1         0  \n",
            "3          0       1       3.2      0        0         0  \n",
            "4          0       1       4.3      0        0         0  \n",
            "...      ...     ...       ...    ...      ...       ...  \n",
            "2375       1       1       3.2      1        0         0  \n",
            "2376       1       1       5.3      1        1         0  \n",
            "2377       0       1       3.1      0        1         0  \n",
            "2378       0       1       3.2      0        1         0  \n",
            "2379       0       1       3.1      0        1         0  \n",
            "\n",
            "[2380 rows x 15 columns]>\n"
          ]
        }
      ]
    },
    {
      "cell_type": "code",
      "metadata": {
        "id": "GMpxIqiHWM9m"
      },
      "source": [
        "y = MortageDenials.filter(items=['deny'])\n",
        "#filter-->These are the columns you want to use for y (specified)\n",
        "X = MortageDenials.drop(columns='deny')\n",
        "#https://pandas.pydata.org/docs/reference/api/pandas.DataFrame.drop.html"
      ],
      "execution_count": 5,
      "outputs": []
    },
    {
      "cell_type": "code",
      "metadata": {
        "id": "rNiZolJcXv6C",
        "colab": {
          "base_uri": "https://localhost:8080/"
        },
        "outputId": "99234c12-6066-402c-b799-ba0a6ee6cc5a"
      },
      "source": [
        "from sklearn import linear_model\n",
        "from sklearn.preprocessing import StandardScaler\n",
        "scaler = StandardScaler()\n",
        "scaler.fit(X)\n",
        "X_scaled = scaler.transform(X)\n",
        "X_scaled.shape"
      ],
      "execution_count": 6,
      "outputs": [
        {
          "output_type": "execute_result",
          "data": {
            "text/plain": [
              "(2380, 15)"
            ]
          },
          "metadata": {},
          "execution_count": 6
        }
      ]
    },
    {
      "cell_type": "markdown",
      "metadata": {
        "id": "cSuEbRMKWM9o"
      },
      "source": [
        "## 3. Divide into training and set sets"
      ]
    },
    {
      "cell_type": "code",
      "metadata": {
        "id": "cpTtWuWsWM9p"
      },
      "source": [
        "from sklearn.model_selection import train_test_split\n",
        "X_train, X_test, y_train, y_test = train_test_split(X,y,random_state=42,test_size=.25)"
      ],
      "execution_count": 7,
      "outputs": []
    },
    {
      "cell_type": "code",
      "metadata": {
        "id": "im4z_YPAWM9r"
      },
      "source": [
        "from sklearn.model_selection import train_test_split\n",
        "X_train, X_test, y_train, y_test = train_test_split(X,y,random_state=42,test_size=.25)\n"
      ],
      "execution_count": 8,
      "outputs": []
    },
    {
      "cell_type": "markdown",
      "metadata": {
        "id": "FzVMOGgrWM9t"
      },
      "source": [
        "## 4. Pick an appropriate method"
      ]
    },
    {
      "cell_type": "code",
      "metadata": {
        "id": "g0rbHexoWM9u"
      },
      "source": [
        "from sklearn.tree import DecisionTreeClassifier\n",
        "from sklearn.tree import export_graphviz\n",
        "import graphviz\n",
        "import os"
      ],
      "execution_count": 9,
      "outputs": []
    },
    {
      "cell_type": "markdown",
      "metadata": {
        "id": "tI0muOgJWM9y"
      },
      "source": [
        "## 5. Choose regularization parameters via cross-validation on the training set"
      ]
    },
    {
      "cell_type": "code",
      "source": [
        "from sklearn.model_selection import GridSearchCV  #43 min\n",
        "tree=DecisionTreeClassifier()\n",
        "\n",
        "parameters = {'max_depth':range(3,20), \"min_samples_leaf\":range(1,5)}\n",
        "grid_search = GridSearchCV(tree, parameters, n_jobs=4)\n",
        "best_model=grid_search.fit(X_train, y_train)\n",
        "tree_model = grid_search.best_estimator_\n",
        "print (grid_search.best_score_, grid_search.best_params_) \n",
        "\n",
        "optimal_tree=DecisionTreeClassifier(max_depth=5,min_samples_leaf=4)"
      ],
      "metadata": {
        "colab": {
          "base_uri": "https://localhost:8080/"
        },
        "id": "dn6wJrWhcerv",
        "outputId": "0f854298-77a9-4b0a-adb9-18b476980c35"
      },
      "execution_count": 10,
      "outputs": [
        {
          "output_type": "stream",
          "name": "stdout",
          "text": [
            "0.8957983193277311 {'max_depth': 5, 'min_samples_leaf': 4}\n"
          ]
        }
      ]
    },
    {
      "cell_type": "code",
      "metadata": {
        "id": "N2Cm_rNVWM9y",
        "colab": {
          "base_uri": "https://localhost:8080/"
        },
        "outputId": "306d71bd-7417-42c3-a079-994cf3bdfc06"
      },
      "source": [
        "#Do I need this? \n",
        "tree = DecisionTreeClassifier(max_depth=3, min_samples_leaf = 14,random_state=0)\n",
        "tree.fit(X_train, y_train)\n",
        "#Need to do cross validation in Decision Trees "
      ],
      "execution_count": 11,
      "outputs": [
        {
          "output_type": "execute_result",
          "data": {
            "text/plain": [
              "DecisionTreeClassifier(max_depth=3, min_samples_leaf=14, random_state=0)"
            ]
          },
          "metadata": {},
          "execution_count": 11
        }
      ]
    },
    {
      "cell_type": "markdown",
      "metadata": {
        "id": "4tYVe5fLWM90"
      },
      "source": [
        "## 6. Fit model on whole training set using the cross-validated parameters"
      ]
    },
    {
      "cell_type": "code",
      "metadata": {
        "id": "JUKuEKLoWM90",
        "colab": {
          "base_uri": "https://localhost:8080/"
        },
        "outputId": "479d2a8b-a2d3-41e0-dda3-6ecc43cd21ae"
      },
      "source": [
        "optimal_tree.fit(X_train, y_train)\n",
        "\n",
        "print(\"Accuracy on training set: {:.3f}\".format(optimal_tree.score(X_train, y_train)))\n",
        "\n",
        "#https://towardsdatascience.com/how-to-find-decision-tree-depth-via-cross-validation-2bf143f0f3d6"
      ],
      "execution_count": 12,
      "outputs": [
        {
          "output_type": "stream",
          "name": "stdout",
          "text": [
            "Accuracy on training set: 0.913\n"
          ]
        }
      ]
    },
    {
      "cell_type": "markdown",
      "metadata": {
        "id": "0Qg1nZnpWM92"
      },
      "source": [
        "## 7. Evaluate model by applying it to test set"
      ]
    },
    {
      "cell_type": "code",
      "source": [
        "y_pred=optimal_tree.predict(X_test)"
      ],
      "metadata": {
        "id": "rxDgkKYsnNiw"
      },
      "execution_count": 13,
      "outputs": []
    },
    {
      "cell_type": "code",
      "source": [
        "print(\"Accuracy on test set: {:.3f}\".format(optimal_tree.score(X_test, y_test)))"
      ],
      "metadata": {
        "colab": {
          "base_uri": "https://localhost:8080/"
        },
        "id": "LplaGWVMnamC",
        "outputId": "3298ea74-6736-4b62-e945-4cd6f4733bdb"
      },
      "execution_count": 14,
      "outputs": [
        {
          "output_type": "stream",
          "name": "stdout",
          "text": [
            "Accuracy on test set: 0.908\n"
          ]
        }
      ]
    },
    {
      "cell_type": "markdown",
      "metadata": {
        "id": "U2fXVbgRWM94"
      },
      "source": [
        "## 8. Repeat 4-7 for another method"
      ]
    },
    {
      "cell_type": "code",
      "metadata": {
        "id": "sQbfbPeqWM95"
      },
      "source": [
        "#Step 4 Pick an appropriate method\n",
        "#Choose a method appropriate for classification and import its library:\n",
        "from sklearn.svm import LinearSVC\n",
        "from sklearn.svm import SVC\n"
      ],
      "execution_count": 15,
      "outputs": []
    },
    {
      "cell_type": "code",
      "source": [
        "#Step 5 Part 1\n",
        "#Choose regularization parameters via cross-validation on the training set\n",
        "#Search over a grid of values of the regularization parameters for the parameters that perform the best on the left-out folds:\n",
        "\n",
        "param_model = {'C': [.001,.1],'gamma': [1.5],'kernel':['poly']}\n",
        "#C-->.01\n",
        "#gamma-->1.3, 1.7\n",
        "#kernel-->'rbf', 'linear'\n",
        "grid_search = GridSearchCV(SVC(),param_model,cv=5,return_train_score=True)\n",
        "best_model=grid_search.fit(X_train,y_train)\n",
        "print(\"Best C: \",best_model.best_estimator_.get_params()['C'])\n",
        "print(\"Best gamma: \",best_model.best_estimator_.get_params()['gamma'])\n",
        "print(\"Best kernel: \",best_model.best_estimator_.get_params()['kernel'])\n",
        "\n",
        "print(\"Accuracy on training set: {:.3f}\".format(\n",
        "    best_model.score(X_train, y_train)))\n"
      ],
      "metadata": {
        "colab": {
          "base_uri": "https://localhost:8080/"
        },
        "id": "4HVc_7yC4qcS",
        "outputId": "b06fe956-2aad-4f1d-8b40-8fa1daf13c85"
      },
      "execution_count": 16,
      "outputs": [
        {
          "output_type": "stream",
          "name": "stderr",
          "text": [
            "/usr/local/lib/python3.7/dist-packages/sklearn/utils/validation.py:993: DataConversionWarning: A column-vector y was passed when a 1d array was expected. Please change the shape of y to (n_samples, ), for example using ravel().\n",
            "  y = column_or_1d(y, warn=True)\n",
            "/usr/local/lib/python3.7/dist-packages/sklearn/utils/validation.py:993: DataConversionWarning: A column-vector y was passed when a 1d array was expected. Please change the shape of y to (n_samples, ), for example using ravel().\n",
            "  y = column_or_1d(y, warn=True)\n",
            "/usr/local/lib/python3.7/dist-packages/sklearn/utils/validation.py:993: DataConversionWarning: A column-vector y was passed when a 1d array was expected. Please change the shape of y to (n_samples, ), for example using ravel().\n",
            "  y = column_or_1d(y, warn=True)\n",
            "/usr/local/lib/python3.7/dist-packages/sklearn/utils/validation.py:993: DataConversionWarning: A column-vector y was passed when a 1d array was expected. Please change the shape of y to (n_samples, ), for example using ravel().\n",
            "  y = column_or_1d(y, warn=True)\n",
            "/usr/local/lib/python3.7/dist-packages/sklearn/utils/validation.py:993: DataConversionWarning: A column-vector y was passed when a 1d array was expected. Please change the shape of y to (n_samples, ), for example using ravel().\n",
            "  y = column_or_1d(y, warn=True)\n",
            "/usr/local/lib/python3.7/dist-packages/sklearn/utils/validation.py:993: DataConversionWarning: A column-vector y was passed when a 1d array was expected. Please change the shape of y to (n_samples, ), for example using ravel().\n",
            "  y = column_or_1d(y, warn=True)\n",
            "/usr/local/lib/python3.7/dist-packages/sklearn/utils/validation.py:993: DataConversionWarning: A column-vector y was passed when a 1d array was expected. Please change the shape of y to (n_samples, ), for example using ravel().\n",
            "  y = column_or_1d(y, warn=True)\n",
            "/usr/local/lib/python3.7/dist-packages/sklearn/utils/validation.py:993: DataConversionWarning: A column-vector y was passed when a 1d array was expected. Please change the shape of y to (n_samples, ), for example using ravel().\n",
            "  y = column_or_1d(y, warn=True)\n",
            "/usr/local/lib/python3.7/dist-packages/sklearn/utils/validation.py:993: DataConversionWarning: A column-vector y was passed when a 1d array was expected. Please change the shape of y to (n_samples, ), for example using ravel().\n",
            "  y = column_or_1d(y, warn=True)\n",
            "/usr/local/lib/python3.7/dist-packages/sklearn/utils/validation.py:993: DataConversionWarning: A column-vector y was passed when a 1d array was expected. Please change the shape of y to (n_samples, ), for example using ravel().\n",
            "  y = column_or_1d(y, warn=True)\n",
            "/usr/local/lib/python3.7/dist-packages/sklearn/utils/validation.py:993: DataConversionWarning: A column-vector y was passed when a 1d array was expected. Please change the shape of y to (n_samples, ), for example using ravel().\n",
            "  y = column_or_1d(y, warn=True)\n"
          ]
        },
        {
          "output_type": "stream",
          "name": "stdout",
          "text": [
            "Best C:  0.001\n",
            "Best gamma:  1.5\n",
            "Best kernel:  poly\n",
            "Accuracy on training set: 0.917\n"
          ]
        }
      ]
    },
    {
      "cell_type": "code",
      "source": [
        "#Step 5 part 2\n",
        "optimal_param_model=SVC(C=.001,gamma=1.5,kernel='poly')"
      ],
      "metadata": {
        "id": "KljStykeDOYv"
      },
      "execution_count": 18,
      "outputs": []
    },
    {
      "cell_type": "code",
      "source": [
        "#Step 6 Fit model on whole training set using the cross-validated parameters\n",
        "optimal_param_model.fit(X_train, y_train)\n",
        "\n",
        "optimal_param_model.score(X_train, y_train)\n",
        "\n",
        "print(\"Accuracy on training set: {:.3f}\".format(optimal_param_model.score(X_train, y_train)))"
      ],
      "metadata": {
        "colab": {
          "base_uri": "https://localhost:8080/"
        },
        "id": "nC3PD8_pAmD5",
        "outputId": "aa8ad041-0a66-4f6a-904b-39ac737aafcd"
      },
      "execution_count": 19,
      "outputs": [
        {
          "output_type": "stream",
          "name": "stderr",
          "text": [
            "/usr/local/lib/python3.7/dist-packages/sklearn/utils/validation.py:993: DataConversionWarning: A column-vector y was passed when a 1d array was expected. Please change the shape of y to (n_samples, ), for example using ravel().\n",
            "  y = column_or_1d(y, warn=True)\n"
          ]
        },
        {
          "output_type": "stream",
          "name": "stdout",
          "text": [
            "Accuracy on training set: 0.917\n"
          ]
        }
      ]
    },
    {
      "cell_type": "code",
      "source": [
        "#Step 7 Evaluate model by applying it to test set\n",
        "#Compute and print out the \"score\" of the model applied to the test set:\n",
        "y_pred=optimal_param_model.predict(X_test)\n",
        "\n",
        "print(\"Accuracy on test set: {:.3f}\".format(optimal_param_model.score(X_test, y_test)))"
      ],
      "metadata": {
        "id": "ZmLBEpGLoGLC",
        "colab": {
          "base_uri": "https://localhost:8080/"
        },
        "outputId": "54c09c6c-eb04-4be1-95b5-c4ba33135208"
      },
      "execution_count": 20,
      "outputs": [
        {
          "output_type": "stream",
          "name": "stdout",
          "text": [
            "Accuracy on test set: 0.908\n"
          ]
        }
      ]
    },
    {
      "cell_type": "markdown",
      "metadata": {
        "id": "rhyyawznWM96"
      },
      "source": [
        "## 9. Apply the chosen method to new observations for which we have no labels"
      ]
    },
    {
      "cell_type": "code",
      "source": [
        "y"
      ],
      "metadata": {
        "colab": {
          "base_uri": "https://localhost:8080/",
          "height": 424
        },
        "id": "lRLM1qkNbP7w",
        "outputId": "c49083f0-6b90-4794-f49a-b004eb3826e9"
      },
      "execution_count": 21,
      "outputs": [
        {
          "output_type": "execute_result",
          "data": {
            "text/plain": [
              "      deny\n",
              "0        0\n",
              "1        0\n",
              "2        1\n",
              "3        0\n",
              "4        0\n",
              "...    ...\n",
              "2375     0\n",
              "2376     1\n",
              "2377     0\n",
              "2378     0\n",
              "2379     0\n",
              "\n",
              "[2380 rows x 1 columns]"
            ],
            "text/html": [
              "\n",
              "  <div id=\"df-d8fb838a-b407-4c11-89c9-eb450b287500\">\n",
              "    <div class=\"colab-df-container\">\n",
              "      <div>\n",
              "<style scoped>\n",
              "    .dataframe tbody tr th:only-of-type {\n",
              "        vertical-align: middle;\n",
              "    }\n",
              "\n",
              "    .dataframe tbody tr th {\n",
              "        vertical-align: top;\n",
              "    }\n",
              "\n",
              "    .dataframe thead th {\n",
              "        text-align: right;\n",
              "    }\n",
              "</style>\n",
              "<table border=\"1\" class=\"dataframe\">\n",
              "  <thead>\n",
              "    <tr style=\"text-align: right;\">\n",
              "      <th></th>\n",
              "      <th>deny</th>\n",
              "    </tr>\n",
              "  </thead>\n",
              "  <tbody>\n",
              "    <tr>\n",
              "      <th>0</th>\n",
              "      <td>0</td>\n",
              "    </tr>\n",
              "    <tr>\n",
              "      <th>1</th>\n",
              "      <td>0</td>\n",
              "    </tr>\n",
              "    <tr>\n",
              "      <th>2</th>\n",
              "      <td>1</td>\n",
              "    </tr>\n",
              "    <tr>\n",
              "      <th>3</th>\n",
              "      <td>0</td>\n",
              "    </tr>\n",
              "    <tr>\n",
              "      <th>4</th>\n",
              "      <td>0</td>\n",
              "    </tr>\n",
              "    <tr>\n",
              "      <th>...</th>\n",
              "      <td>...</td>\n",
              "    </tr>\n",
              "    <tr>\n",
              "      <th>2375</th>\n",
              "      <td>0</td>\n",
              "    </tr>\n",
              "    <tr>\n",
              "      <th>2376</th>\n",
              "      <td>1</td>\n",
              "    </tr>\n",
              "    <tr>\n",
              "      <th>2377</th>\n",
              "      <td>0</td>\n",
              "    </tr>\n",
              "    <tr>\n",
              "      <th>2378</th>\n",
              "      <td>0</td>\n",
              "    </tr>\n",
              "    <tr>\n",
              "      <th>2379</th>\n",
              "      <td>0</td>\n",
              "    </tr>\n",
              "  </tbody>\n",
              "</table>\n",
              "<p>2380 rows × 1 columns</p>\n",
              "</div>\n",
              "      <button class=\"colab-df-convert\" onclick=\"convertToInteractive('df-d8fb838a-b407-4c11-89c9-eb450b287500')\"\n",
              "              title=\"Convert this dataframe to an interactive table.\"\n",
              "              style=\"display:none;\">\n",
              "        \n",
              "  <svg xmlns=\"http://www.w3.org/2000/svg\" height=\"24px\"viewBox=\"0 0 24 24\"\n",
              "       width=\"24px\">\n",
              "    <path d=\"M0 0h24v24H0V0z\" fill=\"none\"/>\n",
              "    <path d=\"M18.56 5.44l.94 2.06.94-2.06 2.06-.94-2.06-.94-.94-2.06-.94 2.06-2.06.94zm-11 1L8.5 8.5l.94-2.06 2.06-.94-2.06-.94L8.5 2.5l-.94 2.06-2.06.94zm10 10l.94 2.06.94-2.06 2.06-.94-2.06-.94-.94-2.06-.94 2.06-2.06.94z\"/><path d=\"M17.41 7.96l-1.37-1.37c-.4-.4-.92-.59-1.43-.59-.52 0-1.04.2-1.43.59L10.3 9.45l-7.72 7.72c-.78.78-.78 2.05 0 2.83L4 21.41c.39.39.9.59 1.41.59.51 0 1.02-.2 1.41-.59l7.78-7.78 2.81-2.81c.8-.78.8-2.07 0-2.86zM5.41 20L4 18.59l7.72-7.72 1.47 1.35L5.41 20z\"/>\n",
              "  </svg>\n",
              "      </button>\n",
              "      \n",
              "  <style>\n",
              "    .colab-df-container {\n",
              "      display:flex;\n",
              "      flex-wrap:wrap;\n",
              "      gap: 12px;\n",
              "    }\n",
              "\n",
              "    .colab-df-convert {\n",
              "      background-color: #E8F0FE;\n",
              "      border: none;\n",
              "      border-radius: 50%;\n",
              "      cursor: pointer;\n",
              "      display: none;\n",
              "      fill: #1967D2;\n",
              "      height: 32px;\n",
              "      padding: 0 0 0 0;\n",
              "      width: 32px;\n",
              "    }\n",
              "\n",
              "    .colab-df-convert:hover {\n",
              "      background-color: #E2EBFA;\n",
              "      box-shadow: 0px 1px 2px rgba(60, 64, 67, 0.3), 0px 1px 3px 1px rgba(60, 64, 67, 0.15);\n",
              "      fill: #174EA6;\n",
              "    }\n",
              "\n",
              "    [theme=dark] .colab-df-convert {\n",
              "      background-color: #3B4455;\n",
              "      fill: #D2E3FC;\n",
              "    }\n",
              "\n",
              "    [theme=dark] .colab-df-convert:hover {\n",
              "      background-color: #434B5C;\n",
              "      box-shadow: 0px 1px 3px 1px rgba(0, 0, 0, 0.15);\n",
              "      filter: drop-shadow(0px 1px 2px rgba(0, 0, 0, 0.3));\n",
              "      fill: #FFFFFF;\n",
              "    }\n",
              "  </style>\n",
              "\n",
              "      <script>\n",
              "        const buttonEl =\n",
              "          document.querySelector('#df-d8fb838a-b407-4c11-89c9-eb450b287500 button.colab-df-convert');\n",
              "        buttonEl.style.display =\n",
              "          google.colab.kernel.accessAllowed ? 'block' : 'none';\n",
              "\n",
              "        async function convertToInteractive(key) {\n",
              "          const element = document.querySelector('#df-d8fb838a-b407-4c11-89c9-eb450b287500');\n",
              "          const dataTable =\n",
              "            await google.colab.kernel.invokeFunction('convertToInteractive',\n",
              "                                                     [key], {});\n",
              "          if (!dataTable) return;\n",
              "\n",
              "          const docLinkHtml = 'Like what you see? Visit the ' +\n",
              "            '<a target=\"_blank\" href=https://colab.research.google.com/notebooks/data_table.ipynb>data table notebook</a>'\n",
              "            + ' to learn more about interactive tables.';\n",
              "          element.innerHTML = '';\n",
              "          dataTable['output_type'] = 'display_data';\n",
              "          await google.colab.output.renderOutput(dataTable, element);\n",
              "          const docLink = document.createElement('div');\n",
              "          docLink.innerHTML = docLinkHtml;\n",
              "          element.appendChild(docLink);\n",
              "        }\n",
              "      </script>\n",
              "    </div>\n",
              "  </div>\n",
              "  "
            ]
          },
          "metadata": {},
          "execution_count": 21
        }
      ]
    },
    {
      "cell_type": "code",
      "metadata": {
        "id": "LuYK8wA6WM97",
        "colab": {
          "base_uri": "https://localhost:8080/"
        },
        "outputId": "8be2b61c-ed2b-443b-ed61-bcf062c60b3f"
      },
      "source": [
        "#NewApplicants=pd.read_csv('newapplicants.csv')\n",
        "df2 = pd.read_csv('/content/gdrive/My Drive/Econ 484/newapplicants.csv')\n",
        "NewApplicants = df2\n",
        "optimal_param_model.predict(NewApplicants)\n",
        "\n",
        "#The result was the same for both applicatnts (they were both denied). Since the outcome for both was the same it suggest race does not make it more likely for someone to be denied a loan"
      ],
      "execution_count": 22,
      "outputs": [
        {
          "output_type": "execute_result",
          "data": {
            "text/plain": [
              "array([1, 1])"
            ]
          },
          "metadata": {},
          "execution_count": 22
        }
      ]
    },
    {
      "cell_type": "code",
      "source": [
        "NewApplicants.shape\n",
        "#2 people being observed\n",
        "#15 characteristics of those people being observed "
      ],
      "metadata": {
        "colab": {
          "base_uri": "https://localhost:8080/"
        },
        "id": "83nbIAxpdUVW",
        "outputId": "58d64cce-f71c-45da-d4ff-1f9cf6e5b413"
      },
      "execution_count": 23,
      "outputs": [
        {
          "output_type": "execute_result",
          "data": {
            "text/plain": [
              "(2, 15)"
            ]
          },
          "metadata": {},
          "execution_count": 23
        }
      ]
    },
    {
      "cell_type": "code",
      "source": [
        "y\n",
        "#1 means deny"
      ],
      "metadata": {
        "colab": {
          "base_uri": "https://localhost:8080/",
          "height": 424
        },
        "id": "9K1821gbeDLw",
        "outputId": "6d52f72c-2689-43f9-d19a-dbc0e02bf114"
      },
      "execution_count": 24,
      "outputs": [
        {
          "output_type": "execute_result",
          "data": {
            "text/plain": [
              "      deny\n",
              "0        0\n",
              "1        0\n",
              "2        1\n",
              "3        0\n",
              "4        0\n",
              "...    ...\n",
              "2375     0\n",
              "2376     1\n",
              "2377     0\n",
              "2378     0\n",
              "2379     0\n",
              "\n",
              "[2380 rows x 1 columns]"
            ],
            "text/html": [
              "\n",
              "  <div id=\"df-39e04c1b-a5b1-461d-a6d5-7841e6a0edd8\">\n",
              "    <div class=\"colab-df-container\">\n",
              "      <div>\n",
              "<style scoped>\n",
              "    .dataframe tbody tr th:only-of-type {\n",
              "        vertical-align: middle;\n",
              "    }\n",
              "\n",
              "    .dataframe tbody tr th {\n",
              "        vertical-align: top;\n",
              "    }\n",
              "\n",
              "    .dataframe thead th {\n",
              "        text-align: right;\n",
              "    }\n",
              "</style>\n",
              "<table border=\"1\" class=\"dataframe\">\n",
              "  <thead>\n",
              "    <tr style=\"text-align: right;\">\n",
              "      <th></th>\n",
              "      <th>deny</th>\n",
              "    </tr>\n",
              "  </thead>\n",
              "  <tbody>\n",
              "    <tr>\n",
              "      <th>0</th>\n",
              "      <td>0</td>\n",
              "    </tr>\n",
              "    <tr>\n",
              "      <th>1</th>\n",
              "      <td>0</td>\n",
              "    </tr>\n",
              "    <tr>\n",
              "      <th>2</th>\n",
              "      <td>1</td>\n",
              "    </tr>\n",
              "    <tr>\n",
              "      <th>3</th>\n",
              "      <td>0</td>\n",
              "    </tr>\n",
              "    <tr>\n",
              "      <th>4</th>\n",
              "      <td>0</td>\n",
              "    </tr>\n",
              "    <tr>\n",
              "      <th>...</th>\n",
              "      <td>...</td>\n",
              "    </tr>\n",
              "    <tr>\n",
              "      <th>2375</th>\n",
              "      <td>0</td>\n",
              "    </tr>\n",
              "    <tr>\n",
              "      <th>2376</th>\n",
              "      <td>1</td>\n",
              "    </tr>\n",
              "    <tr>\n",
              "      <th>2377</th>\n",
              "      <td>0</td>\n",
              "    </tr>\n",
              "    <tr>\n",
              "      <th>2378</th>\n",
              "      <td>0</td>\n",
              "    </tr>\n",
              "    <tr>\n",
              "      <th>2379</th>\n",
              "      <td>0</td>\n",
              "    </tr>\n",
              "  </tbody>\n",
              "</table>\n",
              "<p>2380 rows × 1 columns</p>\n",
              "</div>\n",
              "      <button class=\"colab-df-convert\" onclick=\"convertToInteractive('df-39e04c1b-a5b1-461d-a6d5-7841e6a0edd8')\"\n",
              "              title=\"Convert this dataframe to an interactive table.\"\n",
              "              style=\"display:none;\">\n",
              "        \n",
              "  <svg xmlns=\"http://www.w3.org/2000/svg\" height=\"24px\"viewBox=\"0 0 24 24\"\n",
              "       width=\"24px\">\n",
              "    <path d=\"M0 0h24v24H0V0z\" fill=\"none\"/>\n",
              "    <path d=\"M18.56 5.44l.94 2.06.94-2.06 2.06-.94-2.06-.94-.94-2.06-.94 2.06-2.06.94zm-11 1L8.5 8.5l.94-2.06 2.06-.94-2.06-.94L8.5 2.5l-.94 2.06-2.06.94zm10 10l.94 2.06.94-2.06 2.06-.94-2.06-.94-.94-2.06-.94 2.06-2.06.94z\"/><path d=\"M17.41 7.96l-1.37-1.37c-.4-.4-.92-.59-1.43-.59-.52 0-1.04.2-1.43.59L10.3 9.45l-7.72 7.72c-.78.78-.78 2.05 0 2.83L4 21.41c.39.39.9.59 1.41.59.51 0 1.02-.2 1.41-.59l7.78-7.78 2.81-2.81c.8-.78.8-2.07 0-2.86zM5.41 20L4 18.59l7.72-7.72 1.47 1.35L5.41 20z\"/>\n",
              "  </svg>\n",
              "      </button>\n",
              "      \n",
              "  <style>\n",
              "    .colab-df-container {\n",
              "      display:flex;\n",
              "      flex-wrap:wrap;\n",
              "      gap: 12px;\n",
              "    }\n",
              "\n",
              "    .colab-df-convert {\n",
              "      background-color: #E8F0FE;\n",
              "      border: none;\n",
              "      border-radius: 50%;\n",
              "      cursor: pointer;\n",
              "      display: none;\n",
              "      fill: #1967D2;\n",
              "      height: 32px;\n",
              "      padding: 0 0 0 0;\n",
              "      width: 32px;\n",
              "    }\n",
              "\n",
              "    .colab-df-convert:hover {\n",
              "      background-color: #E2EBFA;\n",
              "      box-shadow: 0px 1px 2px rgba(60, 64, 67, 0.3), 0px 1px 3px 1px rgba(60, 64, 67, 0.15);\n",
              "      fill: #174EA6;\n",
              "    }\n",
              "\n",
              "    [theme=dark] .colab-df-convert {\n",
              "      background-color: #3B4455;\n",
              "      fill: #D2E3FC;\n",
              "    }\n",
              "\n",
              "    [theme=dark] .colab-df-convert:hover {\n",
              "      background-color: #434B5C;\n",
              "      box-shadow: 0px 1px 3px 1px rgba(0, 0, 0, 0.15);\n",
              "      filter: drop-shadow(0px 1px 2px rgba(0, 0, 0, 0.3));\n",
              "      fill: #FFFFFF;\n",
              "    }\n",
              "  </style>\n",
              "\n",
              "      <script>\n",
              "        const buttonEl =\n",
              "          document.querySelector('#df-39e04c1b-a5b1-461d-a6d5-7841e6a0edd8 button.colab-df-convert');\n",
              "        buttonEl.style.display =\n",
              "          google.colab.kernel.accessAllowed ? 'block' : 'none';\n",
              "\n",
              "        async function convertToInteractive(key) {\n",
              "          const element = document.querySelector('#df-39e04c1b-a5b1-461d-a6d5-7841e6a0edd8');\n",
              "          const dataTable =\n",
              "            await google.colab.kernel.invokeFunction('convertToInteractive',\n",
              "                                                     [key], {});\n",
              "          if (!dataTable) return;\n",
              "\n",
              "          const docLinkHtml = 'Like what you see? Visit the ' +\n",
              "            '<a target=\"_blank\" href=https://colab.research.google.com/notebooks/data_table.ipynb>data table notebook</a>'\n",
              "            + ' to learn more about interactive tables.';\n",
              "          element.innerHTML = '';\n",
              "          dataTable['output_type'] = 'display_data';\n",
              "          await google.colab.output.renderOutput(dataTable, element);\n",
              "          const docLink = document.createElement('div');\n",
              "          docLink.innerHTML = docLinkHtml;\n",
              "          element.appendChild(docLink);\n",
              "        }\n",
              "      </script>\n",
              "    </div>\n",
              "  </div>\n",
              "  "
            ]
          },
          "metadata": {},
          "execution_count": 24
        }
      ]
    },
    {
      "cell_type": "markdown",
      "metadata": {
        "id": "wzPB_fH7WM99"
      },
      "source": [
        "The spreadsheet 'newapplicants.csv' contains information on two new mortgage applicants, the first black, the second non-black, but who otherwise share identical characteristics, namely, they both have monthly debt-to-income and housing expenses to income ratio of .25, both have a loan to property value ratio of .951, both have a category 4 credit and mortgage score, neither has a public record of credit problems, neither was denied mortgage insurance, both are self-employed, both are single, neither graduated from high school, both have occupations with an industry unemployment rate of 9, and neither is purchasing a condo."
      ]
    },
    {
      "cell_type": "markdown",
      "metadata": {
        "id": "fvZIvvAbWM99"
      },
      "source": [
        "Apply the chosen model to predict whether each applicant will be denied or not, and print out the predictions. "
      ]
    },
    {
      "cell_type": "code",
      "metadata": {
        "hide_input": false,
        "id": "6EV3sNlRWM99",
        "colab": {
          "base_uri": "https://localhost:8080/"
        },
        "outputId": "d37584f5-ac73-4ed2-9a88-7242cbd1349d"
      },
      "source": [
        "\n",
        "optimal_param_model.predict(NewApplicants)"
      ],
      "execution_count": 26,
      "outputs": [
        {
          "output_type": "execute_result",
          "data": {
            "text/plain": [
              "array([1, 1])"
            ]
          },
          "metadata": {},
          "execution_count": 26
        }
      ]
    },
    {
      "cell_type": "markdown",
      "metadata": {
        "id": "eC1dWoGPWM9_"
      },
      "source": [
        "Question to answer (from #1): Would two people with identical observed characteristics but different race be predicted to have their loan applications treated differently?"
      ]
    },
    {
      "cell_type": "markdown",
      "metadata": {
        "id": "e1gP8SkZWM9_"
      },
      "source": [
        "MY ANSWER TO THE QUESTION ABOVE: The result was the same for both applicatnts (they were both denied). Since the outcome for both was the same it suggest race does not make it more likely for someone to be denied a loan. It suggests the loan application process is fair (at least in regards to the basis of race) "
      ]
    }
  ]
}
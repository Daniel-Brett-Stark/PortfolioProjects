{
  "nbformat": 4,
  "nbformat_minor": 0,
  "metadata": {
    "kernelspec": {
      "display_name": "Python 3",
      "language": "python",
      "name": "python3"
    },
    "language_info": {
      "codemirror_mode": {
        "name": "ipython",
        "version": 3
      },
      "file_extension": ".py",
      "mimetype": "text/x-python",
      "name": "python",
      "nbconvert_exporter": "python",
      "pygments_lexer": "ipython3",
      "version": "3.7.4"
    },
    "colab": {
      "provenance": [],
      "collapsed_sections": [],
      "include_colab_link": true
    }
  },
  "cells": [
    {
      "cell_type": "markdown",
      "metadata": {
        "id": "view-in-github",
        "colab_type": "text"
      },
      "source": [
        "<a href=\"https://colab.research.google.com/github/Daniel-Brett-Stark/PortfolioProjects/blob/main/MachineLearningProject1.ipynb\" target=\"_parent\"><img src=\"https://colab.research.google.com/assets/colab-badge.svg\" alt=\"Open In Colab\"/></a>"
      ]
    },
    {
      "cell_type": "code",
      "metadata": {
        "id": "8crkZUkf_JBA",
        "colab": {
          "base_uri": "https://localhost:8080/"
        },
        "outputId": "b19bf6b8-fee3-409a-b5bd-0b6b754683ad"
      },
      "source": [
        "# Import the packages and libraries you will use here\n",
        "from pandas.plotting import scatter_matrix\n",
        "import seaborn\n",
        "from matplotlib import pyplot as plt\n",
        "from google.colab import drive\n",
        "drive.mount('/content/gdrive')"
      ],
      "execution_count": 1,
      "outputs": [
        {
          "output_type": "stream",
          "name": "stdout",
          "text": [
            "Mounted at /content/gdrive\n"
          ]
        }
      ]
    },
    {
      "cell_type": "markdown",
      "metadata": {
        "id": "cI12cZhd_JBC"
      },
      "source": [
        "### (a)\n"
      ]
    },
    {
      "cell_type": "code",
      "metadata": {
        "id": "85KixnNZ_JBD",
        "colab": {
          "base_uri": "https://localhost:8080/",
          "height": 363
        },
        "outputId": "d9515f02-c5ee-412f-a85a-f36c34127fac"
      },
      "source": [
        "import pandas as pd\n",
        "import numpy as np\n",
        "df=pd.read_csv('/content/gdrive/My Drive/Econ 484/College.csv')\n",
        "df.head(10)\n",
        "df.tail(10)\n",
        "\n"
      ],
      "execution_count": 2,
      "outputs": [
        {
          "output_type": "execute_result",
          "data": {
            "text/plain": [
              "                          Unnamed: 0 Private   Apps  Accept  Enroll  \\\n",
              "767              Winthrop University      No   2320    1805     769   \n",
              "768       Wisconsin Lutheran College     Yes    152     128      75   \n",
              "769            Wittenberg University     Yes   1979    1739     575   \n",
              "770                  Wofford College     Yes   1501     935     273   \n",
              "771  Worcester Polytechnic Institute     Yes   2768    2314     682   \n",
              "772          Worcester State College      No   2197    1515     543   \n",
              "773                Xavier University     Yes   1959    1805     695   \n",
              "774   Xavier University of Louisiana     Yes   2097    1915     695   \n",
              "775                  Yale University     Yes  10705    2453    1317   \n",
              "776     York College of Pennsylvania     Yes   2989    1855     691   \n",
              "\n",
              "     Top10perc  Top25perc  F.Undergrad  P.Undergrad  Outstate  Room.Board  \\\n",
              "767         24         61         3395          670      6400        3392   \n",
              "768         17         41          282           22      9100        3700   \n",
              "769         42         68         1980          144     15948        4404   \n",
              "770         51         83         1059           34     12680        4150   \n",
              "771         49         86         2802           86     15884        5370   \n",
              "772          4         26         3089         2029      6797        3900   \n",
              "773         24         47         2849         1107     11520        4960   \n",
              "774         34         61         2793          166      6900        4200   \n",
              "775         95         99         5217           83     19840        6510   \n",
              "776         28         63         2988         1726      4990        3560   \n",
              "\n",
              "     Books  Personal  PhD  Terminal  S.F.Ratio  perc.alumni  Expend  Grad.Rate  \n",
              "767    580      2150   71        80       12.8           26    6729         59  \n",
              "768    500      1400   48        48        8.5           26    8960         50  \n",
              "769    400       800   82        95       12.8           29   10414         78  \n",
              "770    605      1440   91        92       15.3           42    7875         75  \n",
              "771    530       730   92        94       15.2           34   10774         82  \n",
              "772    500      1200   60        60       21.0           14    4469         40  \n",
              "773    600      1250   73        75       13.3           31    9189         83  \n",
              "774    617       781   67        75       14.4           20    8323         49  \n",
              "775    630      2115   96        96        5.8           49   40386         99  \n",
              "776    500      1250   75        75       18.1           28    4509         99  "
            ],
            "text/html": [
              "\n",
              "  <div id=\"df-ebb785ad-c19b-4022-8fc1-dacb08204e3d\">\n",
              "    <div class=\"colab-df-container\">\n",
              "      <div>\n",
              "<style scoped>\n",
              "    .dataframe tbody tr th:only-of-type {\n",
              "        vertical-align: middle;\n",
              "    }\n",
              "\n",
              "    .dataframe tbody tr th {\n",
              "        vertical-align: top;\n",
              "    }\n",
              "\n",
              "    .dataframe thead th {\n",
              "        text-align: right;\n",
              "    }\n",
              "</style>\n",
              "<table border=\"1\" class=\"dataframe\">\n",
              "  <thead>\n",
              "    <tr style=\"text-align: right;\">\n",
              "      <th></th>\n",
              "      <th>Unnamed: 0</th>\n",
              "      <th>Private</th>\n",
              "      <th>Apps</th>\n",
              "      <th>Accept</th>\n",
              "      <th>Enroll</th>\n",
              "      <th>Top10perc</th>\n",
              "      <th>Top25perc</th>\n",
              "      <th>F.Undergrad</th>\n",
              "      <th>P.Undergrad</th>\n",
              "      <th>Outstate</th>\n",
              "      <th>Room.Board</th>\n",
              "      <th>Books</th>\n",
              "      <th>Personal</th>\n",
              "      <th>PhD</th>\n",
              "      <th>Terminal</th>\n",
              "      <th>S.F.Ratio</th>\n",
              "      <th>perc.alumni</th>\n",
              "      <th>Expend</th>\n",
              "      <th>Grad.Rate</th>\n",
              "    </tr>\n",
              "  </thead>\n",
              "  <tbody>\n",
              "    <tr>\n",
              "      <th>767</th>\n",
              "      <td>Winthrop University</td>\n",
              "      <td>No</td>\n",
              "      <td>2320</td>\n",
              "      <td>1805</td>\n",
              "      <td>769</td>\n",
              "      <td>24</td>\n",
              "      <td>61</td>\n",
              "      <td>3395</td>\n",
              "      <td>670</td>\n",
              "      <td>6400</td>\n",
              "      <td>3392</td>\n",
              "      <td>580</td>\n",
              "      <td>2150</td>\n",
              "      <td>71</td>\n",
              "      <td>80</td>\n",
              "      <td>12.8</td>\n",
              "      <td>26</td>\n",
              "      <td>6729</td>\n",
              "      <td>59</td>\n",
              "    </tr>\n",
              "    <tr>\n",
              "      <th>768</th>\n",
              "      <td>Wisconsin Lutheran College</td>\n",
              "      <td>Yes</td>\n",
              "      <td>152</td>\n",
              "      <td>128</td>\n",
              "      <td>75</td>\n",
              "      <td>17</td>\n",
              "      <td>41</td>\n",
              "      <td>282</td>\n",
              "      <td>22</td>\n",
              "      <td>9100</td>\n",
              "      <td>3700</td>\n",
              "      <td>500</td>\n",
              "      <td>1400</td>\n",
              "      <td>48</td>\n",
              "      <td>48</td>\n",
              "      <td>8.5</td>\n",
              "      <td>26</td>\n",
              "      <td>8960</td>\n",
              "      <td>50</td>\n",
              "    </tr>\n",
              "    <tr>\n",
              "      <th>769</th>\n",
              "      <td>Wittenberg University</td>\n",
              "      <td>Yes</td>\n",
              "      <td>1979</td>\n",
              "      <td>1739</td>\n",
              "      <td>575</td>\n",
              "      <td>42</td>\n",
              "      <td>68</td>\n",
              "      <td>1980</td>\n",
              "      <td>144</td>\n",
              "      <td>15948</td>\n",
              "      <td>4404</td>\n",
              "      <td>400</td>\n",
              "      <td>800</td>\n",
              "      <td>82</td>\n",
              "      <td>95</td>\n",
              "      <td>12.8</td>\n",
              "      <td>29</td>\n",
              "      <td>10414</td>\n",
              "      <td>78</td>\n",
              "    </tr>\n",
              "    <tr>\n",
              "      <th>770</th>\n",
              "      <td>Wofford College</td>\n",
              "      <td>Yes</td>\n",
              "      <td>1501</td>\n",
              "      <td>935</td>\n",
              "      <td>273</td>\n",
              "      <td>51</td>\n",
              "      <td>83</td>\n",
              "      <td>1059</td>\n",
              "      <td>34</td>\n",
              "      <td>12680</td>\n",
              "      <td>4150</td>\n",
              "      <td>605</td>\n",
              "      <td>1440</td>\n",
              "      <td>91</td>\n",
              "      <td>92</td>\n",
              "      <td>15.3</td>\n",
              "      <td>42</td>\n",
              "      <td>7875</td>\n",
              "      <td>75</td>\n",
              "    </tr>\n",
              "    <tr>\n",
              "      <th>771</th>\n",
              "      <td>Worcester Polytechnic Institute</td>\n",
              "      <td>Yes</td>\n",
              "      <td>2768</td>\n",
              "      <td>2314</td>\n",
              "      <td>682</td>\n",
              "      <td>49</td>\n",
              "      <td>86</td>\n",
              "      <td>2802</td>\n",
              "      <td>86</td>\n",
              "      <td>15884</td>\n",
              "      <td>5370</td>\n",
              "      <td>530</td>\n",
              "      <td>730</td>\n",
              "      <td>92</td>\n",
              "      <td>94</td>\n",
              "      <td>15.2</td>\n",
              "      <td>34</td>\n",
              "      <td>10774</td>\n",
              "      <td>82</td>\n",
              "    </tr>\n",
              "    <tr>\n",
              "      <th>772</th>\n",
              "      <td>Worcester State College</td>\n",
              "      <td>No</td>\n",
              "      <td>2197</td>\n",
              "      <td>1515</td>\n",
              "      <td>543</td>\n",
              "      <td>4</td>\n",
              "      <td>26</td>\n",
              "      <td>3089</td>\n",
              "      <td>2029</td>\n",
              "      <td>6797</td>\n",
              "      <td>3900</td>\n",
              "      <td>500</td>\n",
              "      <td>1200</td>\n",
              "      <td>60</td>\n",
              "      <td>60</td>\n",
              "      <td>21.0</td>\n",
              "      <td>14</td>\n",
              "      <td>4469</td>\n",
              "      <td>40</td>\n",
              "    </tr>\n",
              "    <tr>\n",
              "      <th>773</th>\n",
              "      <td>Xavier University</td>\n",
              "      <td>Yes</td>\n",
              "      <td>1959</td>\n",
              "      <td>1805</td>\n",
              "      <td>695</td>\n",
              "      <td>24</td>\n",
              "      <td>47</td>\n",
              "      <td>2849</td>\n",
              "      <td>1107</td>\n",
              "      <td>11520</td>\n",
              "      <td>4960</td>\n",
              "      <td>600</td>\n",
              "      <td>1250</td>\n",
              "      <td>73</td>\n",
              "      <td>75</td>\n",
              "      <td>13.3</td>\n",
              "      <td>31</td>\n",
              "      <td>9189</td>\n",
              "      <td>83</td>\n",
              "    </tr>\n",
              "    <tr>\n",
              "      <th>774</th>\n",
              "      <td>Xavier University of Louisiana</td>\n",
              "      <td>Yes</td>\n",
              "      <td>2097</td>\n",
              "      <td>1915</td>\n",
              "      <td>695</td>\n",
              "      <td>34</td>\n",
              "      <td>61</td>\n",
              "      <td>2793</td>\n",
              "      <td>166</td>\n",
              "      <td>6900</td>\n",
              "      <td>4200</td>\n",
              "      <td>617</td>\n",
              "      <td>781</td>\n",
              "      <td>67</td>\n",
              "      <td>75</td>\n",
              "      <td>14.4</td>\n",
              "      <td>20</td>\n",
              "      <td>8323</td>\n",
              "      <td>49</td>\n",
              "    </tr>\n",
              "    <tr>\n",
              "      <th>775</th>\n",
              "      <td>Yale University</td>\n",
              "      <td>Yes</td>\n",
              "      <td>10705</td>\n",
              "      <td>2453</td>\n",
              "      <td>1317</td>\n",
              "      <td>95</td>\n",
              "      <td>99</td>\n",
              "      <td>5217</td>\n",
              "      <td>83</td>\n",
              "      <td>19840</td>\n",
              "      <td>6510</td>\n",
              "      <td>630</td>\n",
              "      <td>2115</td>\n",
              "      <td>96</td>\n",
              "      <td>96</td>\n",
              "      <td>5.8</td>\n",
              "      <td>49</td>\n",
              "      <td>40386</td>\n",
              "      <td>99</td>\n",
              "    </tr>\n",
              "    <tr>\n",
              "      <th>776</th>\n",
              "      <td>York College of Pennsylvania</td>\n",
              "      <td>Yes</td>\n",
              "      <td>2989</td>\n",
              "      <td>1855</td>\n",
              "      <td>691</td>\n",
              "      <td>28</td>\n",
              "      <td>63</td>\n",
              "      <td>2988</td>\n",
              "      <td>1726</td>\n",
              "      <td>4990</td>\n",
              "      <td>3560</td>\n",
              "      <td>500</td>\n",
              "      <td>1250</td>\n",
              "      <td>75</td>\n",
              "      <td>75</td>\n",
              "      <td>18.1</td>\n",
              "      <td>28</td>\n",
              "      <td>4509</td>\n",
              "      <td>99</td>\n",
              "    </tr>\n",
              "  </tbody>\n",
              "</table>\n",
              "</div>\n",
              "      <button class=\"colab-df-convert\" onclick=\"convertToInteractive('df-ebb785ad-c19b-4022-8fc1-dacb08204e3d')\"\n",
              "              title=\"Convert this dataframe to an interactive table.\"\n",
              "              style=\"display:none;\">\n",
              "        \n",
              "  <svg xmlns=\"http://www.w3.org/2000/svg\" height=\"24px\"viewBox=\"0 0 24 24\"\n",
              "       width=\"24px\">\n",
              "    <path d=\"M0 0h24v24H0V0z\" fill=\"none\"/>\n",
              "    <path d=\"M18.56 5.44l.94 2.06.94-2.06 2.06-.94-2.06-.94-.94-2.06-.94 2.06-2.06.94zm-11 1L8.5 8.5l.94-2.06 2.06-.94-2.06-.94L8.5 2.5l-.94 2.06-2.06.94zm10 10l.94 2.06.94-2.06 2.06-.94-2.06-.94-.94-2.06-.94 2.06-2.06.94z\"/><path d=\"M17.41 7.96l-1.37-1.37c-.4-.4-.92-.59-1.43-.59-.52 0-1.04.2-1.43.59L10.3 9.45l-7.72 7.72c-.78.78-.78 2.05 0 2.83L4 21.41c.39.39.9.59 1.41.59.51 0 1.02-.2 1.41-.59l7.78-7.78 2.81-2.81c.8-.78.8-2.07 0-2.86zM5.41 20L4 18.59l7.72-7.72 1.47 1.35L5.41 20z\"/>\n",
              "  </svg>\n",
              "      </button>\n",
              "      \n",
              "  <style>\n",
              "    .colab-df-container {\n",
              "      display:flex;\n",
              "      flex-wrap:wrap;\n",
              "      gap: 12px;\n",
              "    }\n",
              "\n",
              "    .colab-df-convert {\n",
              "      background-color: #E8F0FE;\n",
              "      border: none;\n",
              "      border-radius: 50%;\n",
              "      cursor: pointer;\n",
              "      display: none;\n",
              "      fill: #1967D2;\n",
              "      height: 32px;\n",
              "      padding: 0 0 0 0;\n",
              "      width: 32px;\n",
              "    }\n",
              "\n",
              "    .colab-df-convert:hover {\n",
              "      background-color: #E2EBFA;\n",
              "      box-shadow: 0px 1px 2px rgba(60, 64, 67, 0.3), 0px 1px 3px 1px rgba(60, 64, 67, 0.15);\n",
              "      fill: #174EA6;\n",
              "    }\n",
              "\n",
              "    [theme=dark] .colab-df-convert {\n",
              "      background-color: #3B4455;\n",
              "      fill: #D2E3FC;\n",
              "    }\n",
              "\n",
              "    [theme=dark] .colab-df-convert:hover {\n",
              "      background-color: #434B5C;\n",
              "      box-shadow: 0px 1px 3px 1px rgba(0, 0, 0, 0.15);\n",
              "      filter: drop-shadow(0px 1px 2px rgba(0, 0, 0, 0.3));\n",
              "      fill: #FFFFFF;\n",
              "    }\n",
              "  </style>\n",
              "\n",
              "      <script>\n",
              "        const buttonEl =\n",
              "          document.querySelector('#df-ebb785ad-c19b-4022-8fc1-dacb08204e3d button.colab-df-convert');\n",
              "        buttonEl.style.display =\n",
              "          google.colab.kernel.accessAllowed ? 'block' : 'none';\n",
              "\n",
              "        async function convertToInteractive(key) {\n",
              "          const element = document.querySelector('#df-ebb785ad-c19b-4022-8fc1-dacb08204e3d');\n",
              "          const dataTable =\n",
              "            await google.colab.kernel.invokeFunction('convertToInteractive',\n",
              "                                                     [key], {});\n",
              "          if (!dataTable) return;\n",
              "\n",
              "          const docLinkHtml = 'Like what you see? Visit the ' +\n",
              "            '<a target=\"_blank\" href=https://colab.research.google.com/notebooks/data_table.ipynb>data table notebook</a>'\n",
              "            + ' to learn more about interactive tables.';\n",
              "          element.innerHTML = '';\n",
              "          dataTable['output_type'] = 'display_data';\n",
              "          await google.colab.output.renderOutput(dataTable, element);\n",
              "          const docLink = document.createElement('div');\n",
              "          docLink.innerHTML = docLinkHtml;\n",
              "          element.appendChild(docLink);\n",
              "        }\n",
              "      </script>\n",
              "    </div>\n",
              "  </div>\n",
              "  "
            ]
          },
          "metadata": {},
          "execution_count": 2
        }
      ]
    },
    {
      "cell_type": "markdown",
      "metadata": {
        "id": "GLKkn10t_JBD"
      },
      "source": [
        "### (b)\n",
        " "
      ]
    },
    {
      "cell_type": "code",
      "metadata": {
        "id": "TnvuVXYz_JBD",
        "colab": {
          "base_uri": "https://localhost:8080/",
          "height": 363
        },
        "outputId": "f72be42f-cef8-435b-8b24-a3325b6b81ee"
      },
      "source": [
        "college=pd.read_csv('/content/gdrive/My Drive/Econ 484/College.csv', index_col=0)\n",
        "college.head(10)\n",
        "college.tail(10)"
      ],
      "execution_count": 3,
      "outputs": [
        {
          "output_type": "execute_result",
          "data": {
            "text/plain": [
              "                                Private   Apps  Accept  Enroll  Top10perc  \\\n",
              "Winthrop University                  No   2320    1805     769         24   \n",
              "Wisconsin Lutheran College          Yes    152     128      75         17   \n",
              "Wittenberg University               Yes   1979    1739     575         42   \n",
              "Wofford College                     Yes   1501     935     273         51   \n",
              "Worcester Polytechnic Institute     Yes   2768    2314     682         49   \n",
              "Worcester State College              No   2197    1515     543          4   \n",
              "Xavier University                   Yes   1959    1805     695         24   \n",
              "Xavier University of Louisiana      Yes   2097    1915     695         34   \n",
              "Yale University                     Yes  10705    2453    1317         95   \n",
              "York College of Pennsylvania        Yes   2989    1855     691         28   \n",
              "\n",
              "                                 Top25perc  F.Undergrad  P.Undergrad  \\\n",
              "Winthrop University                     61         3395          670   \n",
              "Wisconsin Lutheran College              41          282           22   \n",
              "Wittenberg University                   68         1980          144   \n",
              "Wofford College                         83         1059           34   \n",
              "Worcester Polytechnic Institute         86         2802           86   \n",
              "Worcester State College                 26         3089         2029   \n",
              "Xavier University                       47         2849         1107   \n",
              "Xavier University of Louisiana          61         2793          166   \n",
              "Yale University                         99         5217           83   \n",
              "York College of Pennsylvania            63         2988         1726   \n",
              "\n",
              "                                 Outstate  Room.Board  Books  Personal  PhD  \\\n",
              "Winthrop University                  6400        3392    580      2150   71   \n",
              "Wisconsin Lutheran College           9100        3700    500      1400   48   \n",
              "Wittenberg University               15948        4404    400       800   82   \n",
              "Wofford College                     12680        4150    605      1440   91   \n",
              "Worcester Polytechnic Institute     15884        5370    530       730   92   \n",
              "Worcester State College              6797        3900    500      1200   60   \n",
              "Xavier University                   11520        4960    600      1250   73   \n",
              "Xavier University of Louisiana       6900        4200    617       781   67   \n",
              "Yale University                     19840        6510    630      2115   96   \n",
              "York College of Pennsylvania         4990        3560    500      1250   75   \n",
              "\n",
              "                                 Terminal  S.F.Ratio  perc.alumni  Expend  \\\n",
              "Winthrop University                    80       12.8           26    6729   \n",
              "Wisconsin Lutheran College             48        8.5           26    8960   \n",
              "Wittenberg University                  95       12.8           29   10414   \n",
              "Wofford College                        92       15.3           42    7875   \n",
              "Worcester Polytechnic Institute        94       15.2           34   10774   \n",
              "Worcester State College                60       21.0           14    4469   \n",
              "Xavier University                      75       13.3           31    9189   \n",
              "Xavier University of Louisiana         75       14.4           20    8323   \n",
              "Yale University                        96        5.8           49   40386   \n",
              "York College of Pennsylvania           75       18.1           28    4509   \n",
              "\n",
              "                                 Grad.Rate  \n",
              "Winthrop University                     59  \n",
              "Wisconsin Lutheran College              50  \n",
              "Wittenberg University                   78  \n",
              "Wofford College                         75  \n",
              "Worcester Polytechnic Institute         82  \n",
              "Worcester State College                 40  \n",
              "Xavier University                       83  \n",
              "Xavier University of Louisiana          49  \n",
              "Yale University                         99  \n",
              "York College of Pennsylvania            99  "
            ],
            "text/html": [
              "\n",
              "  <div id=\"df-67f33aa3-1265-4d56-8eff-568d2efdd0c7\">\n",
              "    <div class=\"colab-df-container\">\n",
              "      <div>\n",
              "<style scoped>\n",
              "    .dataframe tbody tr th:only-of-type {\n",
              "        vertical-align: middle;\n",
              "    }\n",
              "\n",
              "    .dataframe tbody tr th {\n",
              "        vertical-align: top;\n",
              "    }\n",
              "\n",
              "    .dataframe thead th {\n",
              "        text-align: right;\n",
              "    }\n",
              "</style>\n",
              "<table border=\"1\" class=\"dataframe\">\n",
              "  <thead>\n",
              "    <tr style=\"text-align: right;\">\n",
              "      <th></th>\n",
              "      <th>Private</th>\n",
              "      <th>Apps</th>\n",
              "      <th>Accept</th>\n",
              "      <th>Enroll</th>\n",
              "      <th>Top10perc</th>\n",
              "      <th>Top25perc</th>\n",
              "      <th>F.Undergrad</th>\n",
              "      <th>P.Undergrad</th>\n",
              "      <th>Outstate</th>\n",
              "      <th>Room.Board</th>\n",
              "      <th>Books</th>\n",
              "      <th>Personal</th>\n",
              "      <th>PhD</th>\n",
              "      <th>Terminal</th>\n",
              "      <th>S.F.Ratio</th>\n",
              "      <th>perc.alumni</th>\n",
              "      <th>Expend</th>\n",
              "      <th>Grad.Rate</th>\n",
              "    </tr>\n",
              "  </thead>\n",
              "  <tbody>\n",
              "    <tr>\n",
              "      <th>Winthrop University</th>\n",
              "      <td>No</td>\n",
              "      <td>2320</td>\n",
              "      <td>1805</td>\n",
              "      <td>769</td>\n",
              "      <td>24</td>\n",
              "      <td>61</td>\n",
              "      <td>3395</td>\n",
              "      <td>670</td>\n",
              "      <td>6400</td>\n",
              "      <td>3392</td>\n",
              "      <td>580</td>\n",
              "      <td>2150</td>\n",
              "      <td>71</td>\n",
              "      <td>80</td>\n",
              "      <td>12.8</td>\n",
              "      <td>26</td>\n",
              "      <td>6729</td>\n",
              "      <td>59</td>\n",
              "    </tr>\n",
              "    <tr>\n",
              "      <th>Wisconsin Lutheran College</th>\n",
              "      <td>Yes</td>\n",
              "      <td>152</td>\n",
              "      <td>128</td>\n",
              "      <td>75</td>\n",
              "      <td>17</td>\n",
              "      <td>41</td>\n",
              "      <td>282</td>\n",
              "      <td>22</td>\n",
              "      <td>9100</td>\n",
              "      <td>3700</td>\n",
              "      <td>500</td>\n",
              "      <td>1400</td>\n",
              "      <td>48</td>\n",
              "      <td>48</td>\n",
              "      <td>8.5</td>\n",
              "      <td>26</td>\n",
              "      <td>8960</td>\n",
              "      <td>50</td>\n",
              "    </tr>\n",
              "    <tr>\n",
              "      <th>Wittenberg University</th>\n",
              "      <td>Yes</td>\n",
              "      <td>1979</td>\n",
              "      <td>1739</td>\n",
              "      <td>575</td>\n",
              "      <td>42</td>\n",
              "      <td>68</td>\n",
              "      <td>1980</td>\n",
              "      <td>144</td>\n",
              "      <td>15948</td>\n",
              "      <td>4404</td>\n",
              "      <td>400</td>\n",
              "      <td>800</td>\n",
              "      <td>82</td>\n",
              "      <td>95</td>\n",
              "      <td>12.8</td>\n",
              "      <td>29</td>\n",
              "      <td>10414</td>\n",
              "      <td>78</td>\n",
              "    </tr>\n",
              "    <tr>\n",
              "      <th>Wofford College</th>\n",
              "      <td>Yes</td>\n",
              "      <td>1501</td>\n",
              "      <td>935</td>\n",
              "      <td>273</td>\n",
              "      <td>51</td>\n",
              "      <td>83</td>\n",
              "      <td>1059</td>\n",
              "      <td>34</td>\n",
              "      <td>12680</td>\n",
              "      <td>4150</td>\n",
              "      <td>605</td>\n",
              "      <td>1440</td>\n",
              "      <td>91</td>\n",
              "      <td>92</td>\n",
              "      <td>15.3</td>\n",
              "      <td>42</td>\n",
              "      <td>7875</td>\n",
              "      <td>75</td>\n",
              "    </tr>\n",
              "    <tr>\n",
              "      <th>Worcester Polytechnic Institute</th>\n",
              "      <td>Yes</td>\n",
              "      <td>2768</td>\n",
              "      <td>2314</td>\n",
              "      <td>682</td>\n",
              "      <td>49</td>\n",
              "      <td>86</td>\n",
              "      <td>2802</td>\n",
              "      <td>86</td>\n",
              "      <td>15884</td>\n",
              "      <td>5370</td>\n",
              "      <td>530</td>\n",
              "      <td>730</td>\n",
              "      <td>92</td>\n",
              "      <td>94</td>\n",
              "      <td>15.2</td>\n",
              "      <td>34</td>\n",
              "      <td>10774</td>\n",
              "      <td>82</td>\n",
              "    </tr>\n",
              "    <tr>\n",
              "      <th>Worcester State College</th>\n",
              "      <td>No</td>\n",
              "      <td>2197</td>\n",
              "      <td>1515</td>\n",
              "      <td>543</td>\n",
              "      <td>4</td>\n",
              "      <td>26</td>\n",
              "      <td>3089</td>\n",
              "      <td>2029</td>\n",
              "      <td>6797</td>\n",
              "      <td>3900</td>\n",
              "      <td>500</td>\n",
              "      <td>1200</td>\n",
              "      <td>60</td>\n",
              "      <td>60</td>\n",
              "      <td>21.0</td>\n",
              "      <td>14</td>\n",
              "      <td>4469</td>\n",
              "      <td>40</td>\n",
              "    </tr>\n",
              "    <tr>\n",
              "      <th>Xavier University</th>\n",
              "      <td>Yes</td>\n",
              "      <td>1959</td>\n",
              "      <td>1805</td>\n",
              "      <td>695</td>\n",
              "      <td>24</td>\n",
              "      <td>47</td>\n",
              "      <td>2849</td>\n",
              "      <td>1107</td>\n",
              "      <td>11520</td>\n",
              "      <td>4960</td>\n",
              "      <td>600</td>\n",
              "      <td>1250</td>\n",
              "      <td>73</td>\n",
              "      <td>75</td>\n",
              "      <td>13.3</td>\n",
              "      <td>31</td>\n",
              "      <td>9189</td>\n",
              "      <td>83</td>\n",
              "    </tr>\n",
              "    <tr>\n",
              "      <th>Xavier University of Louisiana</th>\n",
              "      <td>Yes</td>\n",
              "      <td>2097</td>\n",
              "      <td>1915</td>\n",
              "      <td>695</td>\n",
              "      <td>34</td>\n",
              "      <td>61</td>\n",
              "      <td>2793</td>\n",
              "      <td>166</td>\n",
              "      <td>6900</td>\n",
              "      <td>4200</td>\n",
              "      <td>617</td>\n",
              "      <td>781</td>\n",
              "      <td>67</td>\n",
              "      <td>75</td>\n",
              "      <td>14.4</td>\n",
              "      <td>20</td>\n",
              "      <td>8323</td>\n",
              "      <td>49</td>\n",
              "    </tr>\n",
              "    <tr>\n",
              "      <th>Yale University</th>\n",
              "      <td>Yes</td>\n",
              "      <td>10705</td>\n",
              "      <td>2453</td>\n",
              "      <td>1317</td>\n",
              "      <td>95</td>\n",
              "      <td>99</td>\n",
              "      <td>5217</td>\n",
              "      <td>83</td>\n",
              "      <td>19840</td>\n",
              "      <td>6510</td>\n",
              "      <td>630</td>\n",
              "      <td>2115</td>\n",
              "      <td>96</td>\n",
              "      <td>96</td>\n",
              "      <td>5.8</td>\n",
              "      <td>49</td>\n",
              "      <td>40386</td>\n",
              "      <td>99</td>\n",
              "    </tr>\n",
              "    <tr>\n",
              "      <th>York College of Pennsylvania</th>\n",
              "      <td>Yes</td>\n",
              "      <td>2989</td>\n",
              "      <td>1855</td>\n",
              "      <td>691</td>\n",
              "      <td>28</td>\n",
              "      <td>63</td>\n",
              "      <td>2988</td>\n",
              "      <td>1726</td>\n",
              "      <td>4990</td>\n",
              "      <td>3560</td>\n",
              "      <td>500</td>\n",
              "      <td>1250</td>\n",
              "      <td>75</td>\n",
              "      <td>75</td>\n",
              "      <td>18.1</td>\n",
              "      <td>28</td>\n",
              "      <td>4509</td>\n",
              "      <td>99</td>\n",
              "    </tr>\n",
              "  </tbody>\n",
              "</table>\n",
              "</div>\n",
              "      <button class=\"colab-df-convert\" onclick=\"convertToInteractive('df-67f33aa3-1265-4d56-8eff-568d2efdd0c7')\"\n",
              "              title=\"Convert this dataframe to an interactive table.\"\n",
              "              style=\"display:none;\">\n",
              "        \n",
              "  <svg xmlns=\"http://www.w3.org/2000/svg\" height=\"24px\"viewBox=\"0 0 24 24\"\n",
              "       width=\"24px\">\n",
              "    <path d=\"M0 0h24v24H0V0z\" fill=\"none\"/>\n",
              "    <path d=\"M18.56 5.44l.94 2.06.94-2.06 2.06-.94-2.06-.94-.94-2.06-.94 2.06-2.06.94zm-11 1L8.5 8.5l.94-2.06 2.06-.94-2.06-.94L8.5 2.5l-.94 2.06-2.06.94zm10 10l.94 2.06.94-2.06 2.06-.94-2.06-.94-.94-2.06-.94 2.06-2.06.94z\"/><path d=\"M17.41 7.96l-1.37-1.37c-.4-.4-.92-.59-1.43-.59-.52 0-1.04.2-1.43.59L10.3 9.45l-7.72 7.72c-.78.78-.78 2.05 0 2.83L4 21.41c.39.39.9.59 1.41.59.51 0 1.02-.2 1.41-.59l7.78-7.78 2.81-2.81c.8-.78.8-2.07 0-2.86zM5.41 20L4 18.59l7.72-7.72 1.47 1.35L5.41 20z\"/>\n",
              "  </svg>\n",
              "      </button>\n",
              "      \n",
              "  <style>\n",
              "    .colab-df-container {\n",
              "      display:flex;\n",
              "      flex-wrap:wrap;\n",
              "      gap: 12px;\n",
              "    }\n",
              "\n",
              "    .colab-df-convert {\n",
              "      background-color: #E8F0FE;\n",
              "      border: none;\n",
              "      border-radius: 50%;\n",
              "      cursor: pointer;\n",
              "      display: none;\n",
              "      fill: #1967D2;\n",
              "      height: 32px;\n",
              "      padding: 0 0 0 0;\n",
              "      width: 32px;\n",
              "    }\n",
              "\n",
              "    .colab-df-convert:hover {\n",
              "      background-color: #E2EBFA;\n",
              "      box-shadow: 0px 1px 2px rgba(60, 64, 67, 0.3), 0px 1px 3px 1px rgba(60, 64, 67, 0.15);\n",
              "      fill: #174EA6;\n",
              "    }\n",
              "\n",
              "    [theme=dark] .colab-df-convert {\n",
              "      background-color: #3B4455;\n",
              "      fill: #D2E3FC;\n",
              "    }\n",
              "\n",
              "    [theme=dark] .colab-df-convert:hover {\n",
              "      background-color: #434B5C;\n",
              "      box-shadow: 0px 1px 3px 1px rgba(0, 0, 0, 0.15);\n",
              "      filter: drop-shadow(0px 1px 2px rgba(0, 0, 0, 0.3));\n",
              "      fill: #FFFFFF;\n",
              "    }\n",
              "  </style>\n",
              "\n",
              "      <script>\n",
              "        const buttonEl =\n",
              "          document.querySelector('#df-67f33aa3-1265-4d56-8eff-568d2efdd0c7 button.colab-df-convert');\n",
              "        buttonEl.style.display =\n",
              "          google.colab.kernel.accessAllowed ? 'block' : 'none';\n",
              "\n",
              "        async function convertToInteractive(key) {\n",
              "          const element = document.querySelector('#df-67f33aa3-1265-4d56-8eff-568d2efdd0c7');\n",
              "          const dataTable =\n",
              "            await google.colab.kernel.invokeFunction('convertToInteractive',\n",
              "                                                     [key], {});\n",
              "          if (!dataTable) return;\n",
              "\n",
              "          const docLinkHtml = 'Like what you see? Visit the ' +\n",
              "            '<a target=\"_blank\" href=https://colab.research.google.com/notebooks/data_table.ipynb>data table notebook</a>'\n",
              "            + ' to learn more about interactive tables.';\n",
              "          element.innerHTML = '';\n",
              "          dataTable['output_type'] = 'display_data';\n",
              "          await google.colab.output.renderOutput(dataTable, element);\n",
              "          const docLink = document.createElement('div');\n",
              "          docLink.innerHTML = docLinkHtml;\n",
              "          element.appendChild(docLink);\n",
              "        }\n",
              "      </script>\n",
              "    </div>\n",
              "  </div>\n",
              "  "
            ]
          },
          "metadata": {},
          "execution_count": 3
        }
      ]
    },
    {
      "cell_type": "markdown",
      "metadata": {
        "id": "v7jS1Caw_JBE"
      },
      "source": [
        "### (c)\n",
        "Prelimainary analysis and visualizations of the loaded data  \n",
        "$\\mathbf{i)}$ Show summary statistics of each column"
      ]
    },
    {
      "cell_type": "code",
      "metadata": {
        "scrolled": true,
        "id": "4z8IpOp6_JBE",
        "colab": {
          "base_uri": "https://localhost:8080/",
          "height": 510
        },
        "outputId": "f6c70d39-d628-45ef-cb94-f03126a612dd"
      },
      "source": [
        "df.describe(include='all')\n"
      ],
      "execution_count": 4,
      "outputs": [
        {
          "output_type": "execute_result",
          "data": {
            "text/plain": [
              "                          Unnamed: 0 Private          Apps        Accept  \\\n",
              "count                            777     777    777.000000    777.000000   \n",
              "unique                           777       2           NaN           NaN   \n",
              "top     Abilene Christian University     Yes           NaN           NaN   \n",
              "freq                               1     565           NaN           NaN   \n",
              "mean                             NaN     NaN   3001.638353   2018.804376   \n",
              "std                              NaN     NaN   3870.201484   2451.113971   \n",
              "min                              NaN     NaN     81.000000     72.000000   \n",
              "25%                              NaN     NaN    776.000000    604.000000   \n",
              "50%                              NaN     NaN   1558.000000   1110.000000   \n",
              "75%                              NaN     NaN   3624.000000   2424.000000   \n",
              "max                              NaN     NaN  48094.000000  26330.000000   \n",
              "\n",
              "             Enroll   Top10perc   Top25perc   F.Undergrad   P.Undergrad  \\\n",
              "count    777.000000  777.000000  777.000000    777.000000    777.000000   \n",
              "unique          NaN         NaN         NaN           NaN           NaN   \n",
              "top             NaN         NaN         NaN           NaN           NaN   \n",
              "freq            NaN         NaN         NaN           NaN           NaN   \n",
              "mean     779.972973   27.558559   55.796654   3699.907336    855.298584   \n",
              "std      929.176190   17.640364   19.804778   4850.420531   1522.431887   \n",
              "min       35.000000    1.000000    9.000000    139.000000      1.000000   \n",
              "25%      242.000000   15.000000   41.000000    992.000000     95.000000   \n",
              "50%      434.000000   23.000000   54.000000   1707.000000    353.000000   \n",
              "75%      902.000000   35.000000   69.000000   4005.000000    967.000000   \n",
              "max     6392.000000   96.000000  100.000000  31643.000000  21836.000000   \n",
              "\n",
              "            Outstate   Room.Board        Books     Personal         PhD  \\\n",
              "count     777.000000   777.000000   777.000000   777.000000  777.000000   \n",
              "unique           NaN          NaN          NaN          NaN         NaN   \n",
              "top              NaN          NaN          NaN          NaN         NaN   \n",
              "freq             NaN          NaN          NaN          NaN         NaN   \n",
              "mean    10440.669241  4357.526384   549.380952  1340.642214   72.660232   \n",
              "std      4023.016484  1096.696416   165.105360   677.071454   16.328155   \n",
              "min      2340.000000  1780.000000    96.000000   250.000000    8.000000   \n",
              "25%      7320.000000  3597.000000   470.000000   850.000000   62.000000   \n",
              "50%      9990.000000  4200.000000   500.000000  1200.000000   75.000000   \n",
              "75%     12925.000000  5050.000000   600.000000  1700.000000   85.000000   \n",
              "max     21700.000000  8124.000000  2340.000000  6800.000000  103.000000   \n",
              "\n",
              "          Terminal   S.F.Ratio  perc.alumni        Expend  Grad.Rate  \n",
              "count   777.000000  777.000000   777.000000    777.000000  777.00000  \n",
              "unique         NaN         NaN          NaN           NaN        NaN  \n",
              "top            NaN         NaN          NaN           NaN        NaN  \n",
              "freq           NaN         NaN          NaN           NaN        NaN  \n",
              "mean     79.702703   14.089704    22.743887   9660.171171   65.46332  \n",
              "std      14.722359    3.958349    12.391801   5221.768440   17.17771  \n",
              "min      24.000000    2.500000     0.000000   3186.000000   10.00000  \n",
              "25%      71.000000   11.500000    13.000000   6751.000000   53.00000  \n",
              "50%      82.000000   13.600000    21.000000   8377.000000   65.00000  \n",
              "75%      92.000000   16.500000    31.000000  10830.000000   78.00000  \n",
              "max     100.000000   39.800000    64.000000  56233.000000  118.00000  "
            ],
            "text/html": [
              "\n",
              "  <div id=\"df-86b93d65-e239-455a-a1d7-fcc38b0f9b91\">\n",
              "    <div class=\"colab-df-container\">\n",
              "      <div>\n",
              "<style scoped>\n",
              "    .dataframe tbody tr th:only-of-type {\n",
              "        vertical-align: middle;\n",
              "    }\n",
              "\n",
              "    .dataframe tbody tr th {\n",
              "        vertical-align: top;\n",
              "    }\n",
              "\n",
              "    .dataframe thead th {\n",
              "        text-align: right;\n",
              "    }\n",
              "</style>\n",
              "<table border=\"1\" class=\"dataframe\">\n",
              "  <thead>\n",
              "    <tr style=\"text-align: right;\">\n",
              "      <th></th>\n",
              "      <th>Unnamed: 0</th>\n",
              "      <th>Private</th>\n",
              "      <th>Apps</th>\n",
              "      <th>Accept</th>\n",
              "      <th>Enroll</th>\n",
              "      <th>Top10perc</th>\n",
              "      <th>Top25perc</th>\n",
              "      <th>F.Undergrad</th>\n",
              "      <th>P.Undergrad</th>\n",
              "      <th>Outstate</th>\n",
              "      <th>Room.Board</th>\n",
              "      <th>Books</th>\n",
              "      <th>Personal</th>\n",
              "      <th>PhD</th>\n",
              "      <th>Terminal</th>\n",
              "      <th>S.F.Ratio</th>\n",
              "      <th>perc.alumni</th>\n",
              "      <th>Expend</th>\n",
              "      <th>Grad.Rate</th>\n",
              "    </tr>\n",
              "  </thead>\n",
              "  <tbody>\n",
              "    <tr>\n",
              "      <th>count</th>\n",
              "      <td>777</td>\n",
              "      <td>777</td>\n",
              "      <td>777.000000</td>\n",
              "      <td>777.000000</td>\n",
              "      <td>777.000000</td>\n",
              "      <td>777.000000</td>\n",
              "      <td>777.000000</td>\n",
              "      <td>777.000000</td>\n",
              "      <td>777.000000</td>\n",
              "      <td>777.000000</td>\n",
              "      <td>777.000000</td>\n",
              "      <td>777.000000</td>\n",
              "      <td>777.000000</td>\n",
              "      <td>777.000000</td>\n",
              "      <td>777.000000</td>\n",
              "      <td>777.000000</td>\n",
              "      <td>777.000000</td>\n",
              "      <td>777.000000</td>\n",
              "      <td>777.00000</td>\n",
              "    </tr>\n",
              "    <tr>\n",
              "      <th>unique</th>\n",
              "      <td>777</td>\n",
              "      <td>2</td>\n",
              "      <td>NaN</td>\n",
              "      <td>NaN</td>\n",
              "      <td>NaN</td>\n",
              "      <td>NaN</td>\n",
              "      <td>NaN</td>\n",
              "      <td>NaN</td>\n",
              "      <td>NaN</td>\n",
              "      <td>NaN</td>\n",
              "      <td>NaN</td>\n",
              "      <td>NaN</td>\n",
              "      <td>NaN</td>\n",
              "      <td>NaN</td>\n",
              "      <td>NaN</td>\n",
              "      <td>NaN</td>\n",
              "      <td>NaN</td>\n",
              "      <td>NaN</td>\n",
              "      <td>NaN</td>\n",
              "    </tr>\n",
              "    <tr>\n",
              "      <th>top</th>\n",
              "      <td>Abilene Christian University</td>\n",
              "      <td>Yes</td>\n",
              "      <td>NaN</td>\n",
              "      <td>NaN</td>\n",
              "      <td>NaN</td>\n",
              "      <td>NaN</td>\n",
              "      <td>NaN</td>\n",
              "      <td>NaN</td>\n",
              "      <td>NaN</td>\n",
              "      <td>NaN</td>\n",
              "      <td>NaN</td>\n",
              "      <td>NaN</td>\n",
              "      <td>NaN</td>\n",
              "      <td>NaN</td>\n",
              "      <td>NaN</td>\n",
              "      <td>NaN</td>\n",
              "      <td>NaN</td>\n",
              "      <td>NaN</td>\n",
              "      <td>NaN</td>\n",
              "    </tr>\n",
              "    <tr>\n",
              "      <th>freq</th>\n",
              "      <td>1</td>\n",
              "      <td>565</td>\n",
              "      <td>NaN</td>\n",
              "      <td>NaN</td>\n",
              "      <td>NaN</td>\n",
              "      <td>NaN</td>\n",
              "      <td>NaN</td>\n",
              "      <td>NaN</td>\n",
              "      <td>NaN</td>\n",
              "      <td>NaN</td>\n",
              "      <td>NaN</td>\n",
              "      <td>NaN</td>\n",
              "      <td>NaN</td>\n",
              "      <td>NaN</td>\n",
              "      <td>NaN</td>\n",
              "      <td>NaN</td>\n",
              "      <td>NaN</td>\n",
              "      <td>NaN</td>\n",
              "      <td>NaN</td>\n",
              "    </tr>\n",
              "    <tr>\n",
              "      <th>mean</th>\n",
              "      <td>NaN</td>\n",
              "      <td>NaN</td>\n",
              "      <td>3001.638353</td>\n",
              "      <td>2018.804376</td>\n",
              "      <td>779.972973</td>\n",
              "      <td>27.558559</td>\n",
              "      <td>55.796654</td>\n",
              "      <td>3699.907336</td>\n",
              "      <td>855.298584</td>\n",
              "      <td>10440.669241</td>\n",
              "      <td>4357.526384</td>\n",
              "      <td>549.380952</td>\n",
              "      <td>1340.642214</td>\n",
              "      <td>72.660232</td>\n",
              "      <td>79.702703</td>\n",
              "      <td>14.089704</td>\n",
              "      <td>22.743887</td>\n",
              "      <td>9660.171171</td>\n",
              "      <td>65.46332</td>\n",
              "    </tr>\n",
              "    <tr>\n",
              "      <th>std</th>\n",
              "      <td>NaN</td>\n",
              "      <td>NaN</td>\n",
              "      <td>3870.201484</td>\n",
              "      <td>2451.113971</td>\n",
              "      <td>929.176190</td>\n",
              "      <td>17.640364</td>\n",
              "      <td>19.804778</td>\n",
              "      <td>4850.420531</td>\n",
              "      <td>1522.431887</td>\n",
              "      <td>4023.016484</td>\n",
              "      <td>1096.696416</td>\n",
              "      <td>165.105360</td>\n",
              "      <td>677.071454</td>\n",
              "      <td>16.328155</td>\n",
              "      <td>14.722359</td>\n",
              "      <td>3.958349</td>\n",
              "      <td>12.391801</td>\n",
              "      <td>5221.768440</td>\n",
              "      <td>17.17771</td>\n",
              "    </tr>\n",
              "    <tr>\n",
              "      <th>min</th>\n",
              "      <td>NaN</td>\n",
              "      <td>NaN</td>\n",
              "      <td>81.000000</td>\n",
              "      <td>72.000000</td>\n",
              "      <td>35.000000</td>\n",
              "      <td>1.000000</td>\n",
              "      <td>9.000000</td>\n",
              "      <td>139.000000</td>\n",
              "      <td>1.000000</td>\n",
              "      <td>2340.000000</td>\n",
              "      <td>1780.000000</td>\n",
              "      <td>96.000000</td>\n",
              "      <td>250.000000</td>\n",
              "      <td>8.000000</td>\n",
              "      <td>24.000000</td>\n",
              "      <td>2.500000</td>\n",
              "      <td>0.000000</td>\n",
              "      <td>3186.000000</td>\n",
              "      <td>10.00000</td>\n",
              "    </tr>\n",
              "    <tr>\n",
              "      <th>25%</th>\n",
              "      <td>NaN</td>\n",
              "      <td>NaN</td>\n",
              "      <td>776.000000</td>\n",
              "      <td>604.000000</td>\n",
              "      <td>242.000000</td>\n",
              "      <td>15.000000</td>\n",
              "      <td>41.000000</td>\n",
              "      <td>992.000000</td>\n",
              "      <td>95.000000</td>\n",
              "      <td>7320.000000</td>\n",
              "      <td>3597.000000</td>\n",
              "      <td>470.000000</td>\n",
              "      <td>850.000000</td>\n",
              "      <td>62.000000</td>\n",
              "      <td>71.000000</td>\n",
              "      <td>11.500000</td>\n",
              "      <td>13.000000</td>\n",
              "      <td>6751.000000</td>\n",
              "      <td>53.00000</td>\n",
              "    </tr>\n",
              "    <tr>\n",
              "      <th>50%</th>\n",
              "      <td>NaN</td>\n",
              "      <td>NaN</td>\n",
              "      <td>1558.000000</td>\n",
              "      <td>1110.000000</td>\n",
              "      <td>434.000000</td>\n",
              "      <td>23.000000</td>\n",
              "      <td>54.000000</td>\n",
              "      <td>1707.000000</td>\n",
              "      <td>353.000000</td>\n",
              "      <td>9990.000000</td>\n",
              "      <td>4200.000000</td>\n",
              "      <td>500.000000</td>\n",
              "      <td>1200.000000</td>\n",
              "      <td>75.000000</td>\n",
              "      <td>82.000000</td>\n",
              "      <td>13.600000</td>\n",
              "      <td>21.000000</td>\n",
              "      <td>8377.000000</td>\n",
              "      <td>65.00000</td>\n",
              "    </tr>\n",
              "    <tr>\n",
              "      <th>75%</th>\n",
              "      <td>NaN</td>\n",
              "      <td>NaN</td>\n",
              "      <td>3624.000000</td>\n",
              "      <td>2424.000000</td>\n",
              "      <td>902.000000</td>\n",
              "      <td>35.000000</td>\n",
              "      <td>69.000000</td>\n",
              "      <td>4005.000000</td>\n",
              "      <td>967.000000</td>\n",
              "      <td>12925.000000</td>\n",
              "      <td>5050.000000</td>\n",
              "      <td>600.000000</td>\n",
              "      <td>1700.000000</td>\n",
              "      <td>85.000000</td>\n",
              "      <td>92.000000</td>\n",
              "      <td>16.500000</td>\n",
              "      <td>31.000000</td>\n",
              "      <td>10830.000000</td>\n",
              "      <td>78.00000</td>\n",
              "    </tr>\n",
              "    <tr>\n",
              "      <th>max</th>\n",
              "      <td>NaN</td>\n",
              "      <td>NaN</td>\n",
              "      <td>48094.000000</td>\n",
              "      <td>26330.000000</td>\n",
              "      <td>6392.000000</td>\n",
              "      <td>96.000000</td>\n",
              "      <td>100.000000</td>\n",
              "      <td>31643.000000</td>\n",
              "      <td>21836.000000</td>\n",
              "      <td>21700.000000</td>\n",
              "      <td>8124.000000</td>\n",
              "      <td>2340.000000</td>\n",
              "      <td>6800.000000</td>\n",
              "      <td>103.000000</td>\n",
              "      <td>100.000000</td>\n",
              "      <td>39.800000</td>\n",
              "      <td>64.000000</td>\n",
              "      <td>56233.000000</td>\n",
              "      <td>118.00000</td>\n",
              "    </tr>\n",
              "  </tbody>\n",
              "</table>\n",
              "</div>\n",
              "      <button class=\"colab-df-convert\" onclick=\"convertToInteractive('df-86b93d65-e239-455a-a1d7-fcc38b0f9b91')\"\n",
              "              title=\"Convert this dataframe to an interactive table.\"\n",
              "              style=\"display:none;\">\n",
              "        \n",
              "  <svg xmlns=\"http://www.w3.org/2000/svg\" height=\"24px\"viewBox=\"0 0 24 24\"\n",
              "       width=\"24px\">\n",
              "    <path d=\"M0 0h24v24H0V0z\" fill=\"none\"/>\n",
              "    <path d=\"M18.56 5.44l.94 2.06.94-2.06 2.06-.94-2.06-.94-.94-2.06-.94 2.06-2.06.94zm-11 1L8.5 8.5l.94-2.06 2.06-.94-2.06-.94L8.5 2.5l-.94 2.06-2.06.94zm10 10l.94 2.06.94-2.06 2.06-.94-2.06-.94-.94-2.06-.94 2.06-2.06.94z\"/><path d=\"M17.41 7.96l-1.37-1.37c-.4-.4-.92-.59-1.43-.59-.52 0-1.04.2-1.43.59L10.3 9.45l-7.72 7.72c-.78.78-.78 2.05 0 2.83L4 21.41c.39.39.9.59 1.41.59.51 0 1.02-.2 1.41-.59l7.78-7.78 2.81-2.81c.8-.78.8-2.07 0-2.86zM5.41 20L4 18.59l7.72-7.72 1.47 1.35L5.41 20z\"/>\n",
              "  </svg>\n",
              "      </button>\n",
              "      \n",
              "  <style>\n",
              "    .colab-df-container {\n",
              "      display:flex;\n",
              "      flex-wrap:wrap;\n",
              "      gap: 12px;\n",
              "    }\n",
              "\n",
              "    .colab-df-convert {\n",
              "      background-color: #E8F0FE;\n",
              "      border: none;\n",
              "      border-radius: 50%;\n",
              "      cursor: pointer;\n",
              "      display: none;\n",
              "      fill: #1967D2;\n",
              "      height: 32px;\n",
              "      padding: 0 0 0 0;\n",
              "      width: 32px;\n",
              "    }\n",
              "\n",
              "    .colab-df-convert:hover {\n",
              "      background-color: #E2EBFA;\n",
              "      box-shadow: 0px 1px 2px rgba(60, 64, 67, 0.3), 0px 1px 3px 1px rgba(60, 64, 67, 0.15);\n",
              "      fill: #174EA6;\n",
              "    }\n",
              "\n",
              "    [theme=dark] .colab-df-convert {\n",
              "      background-color: #3B4455;\n",
              "      fill: #D2E3FC;\n",
              "    }\n",
              "\n",
              "    [theme=dark] .colab-df-convert:hover {\n",
              "      background-color: #434B5C;\n",
              "      box-shadow: 0px 1px 3px 1px rgba(0, 0, 0, 0.15);\n",
              "      filter: drop-shadow(0px 1px 2px rgba(0, 0, 0, 0.3));\n",
              "      fill: #FFFFFF;\n",
              "    }\n",
              "  </style>\n",
              "\n",
              "      <script>\n",
              "        const buttonEl =\n",
              "          document.querySelector('#df-86b93d65-e239-455a-a1d7-fcc38b0f9b91 button.colab-df-convert');\n",
              "        buttonEl.style.display =\n",
              "          google.colab.kernel.accessAllowed ? 'block' : 'none';\n",
              "\n",
              "        async function convertToInteractive(key) {\n",
              "          const element = document.querySelector('#df-86b93d65-e239-455a-a1d7-fcc38b0f9b91');\n",
              "          const dataTable =\n",
              "            await google.colab.kernel.invokeFunction('convertToInteractive',\n",
              "                                                     [key], {});\n",
              "          if (!dataTable) return;\n",
              "\n",
              "          const docLinkHtml = 'Like what you see? Visit the ' +\n",
              "            '<a target=\"_blank\" href=https://colab.research.google.com/notebooks/data_table.ipynb>data table notebook</a>'\n",
              "            + ' to learn more about interactive tables.';\n",
              "          element.innerHTML = '';\n",
              "          dataTable['output_type'] = 'display_data';\n",
              "          await google.colab.output.renderOutput(dataTable, element);\n",
              "          const docLink = document.createElement('div');\n",
              "          docLink.innerHTML = docLinkHtml;\n",
              "          element.appendChild(docLink);\n",
              "        }\n",
              "      </script>\n",
              "    </div>\n",
              "  </div>\n",
              "  "
            ]
          },
          "metadata": {},
          "execution_count": 4
        }
      ]
    },
    {
      "cell_type": "markdown",
      "metadata": {
        "id": "fKN3MS1H_JBE"
      },
      "source": [
        "*$\\mathbf{ii)}$ Use the scatter_matrix function (that was imported from pandas) to produce scatter plots of the pairwise combinations of 6 of the variables. Adjust the figsize argument make the displayed plots more readable and understandable."
      ]
    },
    {
      "cell_type": "code",
      "metadata": {
        "id": "OlQLOSvS_JBF",
        "colab": {
          "base_uri": "https://localhost:8080/",
          "height": 729
        },
        "outputId": "de8550e2-09b7-47af-ac9f-a66cbfa5f39c"
      },
      "source": [
        "# call the function above these lines\n",
        "college2= college[['Private','Accept','F.Undergrad','Outstate','P.Undergrad','Room.Board']]\n",
        "pd.plotting.scatter_matrix(college2, figsize=(10,10))\n",
        "plt.tight_layout() # this makes the output a little neater when you display plots\n",
        "plt.show() # this will force the plots to show, they only show without this if they are the output of the last line in a cell\n",
        "\n"
      ],
      "execution_count": 5,
      "outputs": [
        {
          "output_type": "display_data",
          "data": {
            "text/plain": [
              "<Figure size 720x720 with 25 Axes>"
            ],
            "image/png": "[encoded data removed]"
          },
          "metadata": {
            "needs_background": "light"
          }
        }
      ]
    },
    {
      "cell_type": "markdown",
      "metadata": {
        "id": "IoRstV5H_JBF"
      },
      "source": [
        "$\\mathbf{iii)}$ Use seaborn's boxplot function to create a boxplot of Outstate on private.  \n"
      ]
    },
    {
      "cell_type": "code",
      "metadata": {
        "id": "Xgn4E0mG_JBG",
        "colab": {
          "base_uri": "https://localhost:8080/",
          "height": 296
        },
        "outputId": "8c71191b-f184-46a4-811d-cd3dafe5151e"
      },
      "source": [
        "seaborn.boxplot(x='Outstate', y='Private', data=college)\n",
        "#'Outstate and 'Private' are strings, need to put them in quotes "
      ],
      "execution_count": 6,
      "outputs": [
        {
          "output_type": "execute_result",
          "data": {
            "text/plain": [
              "<matplotlib.axes._subplots.AxesSubplot at 0x7f2f281b5690>"
            ]
          },
          "metadata": {},
          "execution_count": 6
        },
        {
          "output_type": "display_data",
          "data": {
            "text/plain": [
              "<Figure size 432x288 with 1 Axes>"
            ],
            "image/png": "[encoded data removed]"
          },
          "metadata": {
            "needs_background": "light"
          }
        }
      ]
    },
    {
      "cell_type": "markdown",
      "metadata": {
        "id": "UJJBs3f0_JBG"
      },
      "source": [
        "$\\mathbf{iv)}$  Create a new qualitative variable in the dataframe, called Elite, by binning the Top10perc variable. "
      ]
    },
    {
      "cell_type": "code",
      "metadata": {
        "id": "MXRZDuYCWZTf"
      },
      "source": [
        "college['elite'] = college['Top10perc'] > 50"
      ],
      "execution_count": 7,
      "outputs": []
    },
    {
      "cell_type": "code",
      "metadata": {
        "colab": {
          "base_uri": "https://localhost:8080/",
          "height": 424
        },
        "id": "B--hR3iqWj2W",
        "outputId": "d6f12308-ad48-47de-f79d-ac80a28b03e0"
      },
      "source": [
        "college"
      ],
      "execution_count": 8,
      "outputs": [
        {
          "output_type": "execute_result",
          "data": {
            "text/plain": [
              "                               Private   Apps  Accept  Enroll  Top10perc  \\\n",
              "Abilene Christian University       Yes   1660    1232     721         23   \n",
              "Adelphi University                 Yes   2186    1924     512         16   \n",
              "Adrian College                     Yes   1428    1097     336         22   \n",
              "Agnes Scott College                Yes    417     349     137         60   \n",
              "Alaska Pacific University          Yes    193     146      55         16   \n",
              "...                                ...    ...     ...     ...        ...   \n",
              "Worcester State College             No   2197    1515     543          4   \n",
              "Xavier University                  Yes   1959    1805     695         24   \n",
              "Xavier University of Louisiana     Yes   2097    1915     695         34   \n",
              "Yale University                    Yes  10705    2453    1317         95   \n",
              "York College of Pennsylvania       Yes   2989    1855     691         28   \n",
              "\n",
              "                                Top25perc  F.Undergrad  P.Undergrad  Outstate  \\\n",
              "Abilene Christian University           52         2885          537      7440   \n",
              "Adelphi University                     29         2683         1227     12280   \n",
              "Adrian College                         50         1036           99     11250   \n",
              "Agnes Scott College                    89          510           63     12960   \n",
              "Alaska Pacific University              44          249          869      7560   \n",
              "...                                   ...          ...          ...       ...   \n",
              "Worcester State College                26         3089         2029      6797   \n",
              "Xavier University                      47         2849         1107     11520   \n",
              "Xavier University of Louisiana         61         2793          166      6900   \n",
              "Yale University                        99         5217           83     19840   \n",
              "York College of Pennsylvania           63         2988         1726      4990   \n",
              "\n",
              "                                Room.Board  Books  Personal  PhD  Terminal  \\\n",
              "Abilene Christian University          3300    450      2200   70        78   \n",
              "Adelphi University                    6450    750      1500   29        30   \n",
              "Adrian College                        3750    400      1165   53        66   \n",
              "Agnes Scott College                   5450    450       875   92        97   \n",
              "Alaska Pacific University             4120    800      1500   76        72   \n",
              "...                                    ...    ...       ...  ...       ...   \n",
              "Worcester State College               3900    500      1200   60        60   \n",
              "Xavier University                     4960    600      1250   73        75   \n",
              "Xavier University of Louisiana        4200    617       781   67        75   \n",
              "Yale University                       6510    630      2115   96        96   \n",
              "York College of Pennsylvania          3560    500      1250   75        75   \n",
              "\n",
              "                                S.F.Ratio  perc.alumni  Expend  Grad.Rate  \\\n",
              "Abilene Christian University         18.1           12    7041         60   \n",
              "Adelphi University                   12.2           16   10527         56   \n",
              "Adrian College                       12.9           30    8735         54   \n",
              "Agnes Scott College                   7.7           37   19016         59   \n",
              "Alaska Pacific University            11.9            2   10922         15   \n",
              "...                                   ...          ...     ...        ...   \n",
              "Worcester State College              21.0           14    4469         40   \n",
              "Xavier University                    13.3           31    9189         83   \n",
              "Xavier University of Louisiana       14.4           20    8323         49   \n",
              "Yale University                       5.8           49   40386         99   \n",
              "York College of Pennsylvania         18.1           28    4509         99   \n",
              "\n",
              "                                elite  \n",
              "Abilene Christian University    False  \n",
              "Adelphi University              False  \n",
              "Adrian College                  False  \n",
              "Agnes Scott College              True  \n",
              "Alaska Pacific University       False  \n",
              "...                               ...  \n",
              "Worcester State College         False  \n",
              "Xavier University               False  \n",
              "Xavier University of Louisiana  False  \n",
              "Yale University                  True  \n",
              "York College of Pennsylvania    False  \n",
              "\n",
              "[777 rows x 19 columns]"
            ],
            "text/html": [
              "\n",
              "  <div id=\"df-cd1fbf8f-3306-420a-a98c-8e79cdc3c11f\">\n",
              "    <div class=\"colab-df-container\">\n",
              "      <div>\n",
              "<style scoped>\n",
              "    .dataframe tbody tr th:only-of-type {\n",
              "        vertical-align: middle;\n",
              "    }\n",
              "\n",
              "    .dataframe tbody tr th {\n",
              "        vertical-align: top;\n",
              "    }\n",
              "\n",
              "    .dataframe thead th {\n",
              "        text-align: right;\n",
              "    }\n",
              "</style>\n",
              "<table border=\"1\" class=\"dataframe\">\n",
              "  <thead>\n",
              "    <tr style=\"text-align: right;\">\n",
              "      <th></th>\n",
              "      <th>Private</th>\n",
              "      <th>Apps</th>\n",
              "      <th>Accept</th>\n",
              "      <th>Enroll</th>\n",
              "      <th>Top10perc</th>\n",
              "      <th>Top25perc</th>\n",
              "      <th>F.Undergrad</th>\n",
              "      <th>P.Undergrad</th>\n",
              "      <th>Outstate</th>\n",
              "      <th>Room.Board</th>\n",
              "      <th>Books</th>\n",
              "      <th>Personal</th>\n",
              "      <th>PhD</th>\n",
              "      <th>Terminal</th>\n",
              "      <th>S.F.Ratio</th>\n",
              "      <th>perc.alumni</th>\n",
              "      <th>Expend</th>\n",
              "      <th>Grad.Rate</th>\n",
              "      <th>elite</th>\n",
              "    </tr>\n",
              "  </thead>\n",
              "  <tbody>\n",
              "    <tr>\n",
              "      <th>Abilene Christian University</th>\n",
              "      <td>Yes</td>\n",
              "      <td>1660</td>\n",
              "      <td>1232</td>\n",
              "      <td>721</td>\n",
              "      <td>23</td>\n",
              "      <td>52</td>\n",
              "      <td>2885</td>\n",
              "      <td>537</td>\n",
              "      <td>7440</td>\n",
              "      <td>3300</td>\n",
              "      <td>450</td>\n",
              "      <td>2200</td>\n",
              "      <td>70</td>\n",
              "      <td>78</td>\n",
              "      <td>18.1</td>\n",
              "      <td>12</td>\n",
              "      <td>7041</td>\n",
              "      <td>60</td>\n",
              "      <td>False</td>\n",
              "    </tr>\n",
              "    <tr>\n",
              "      <th>Adelphi University</th>\n",
              "      <td>Yes</td>\n",
              "      <td>2186</td>\n",
              "      <td>1924</td>\n",
              "      <td>512</td>\n",
              "      <td>16</td>\n",
              "      <td>29</td>\n",
              "      <td>2683</td>\n",
              "      <td>1227</td>\n",
              "      <td>12280</td>\n",
              "      <td>6450</td>\n",
              "      <td>750</td>\n",
              "      <td>1500</td>\n",
              "      <td>29</td>\n",
              "      <td>30</td>\n",
              "      <td>12.2</td>\n",
              "      <td>16</td>\n",
              "      <td>10527</td>\n",
              "      <td>56</td>\n",
              "      <td>False</td>\n",
              "    </tr>\n",
              "    <tr>\n",
              "      <th>Adrian College</th>\n",
              "      <td>Yes</td>\n",
              "      <td>1428</td>\n",
              "      <td>1097</td>\n",
              "      <td>336</td>\n",
              "      <td>22</td>\n",
              "      <td>50</td>\n",
              "      <td>1036</td>\n",
              "      <td>99</td>\n",
              "      <td>11250</td>\n",
              "      <td>3750</td>\n",
              "      <td>400</td>\n",
              "      <td>1165</td>\n",
              "      <td>53</td>\n",
              "      <td>66</td>\n",
              "      <td>12.9</td>\n",
              "      <td>30</td>\n",
              "      <td>8735</td>\n",
              "      <td>54</td>\n",
              "      <td>False</td>\n",
              "    </tr>\n",
              "    <tr>\n",
              "      <th>Agnes Scott College</th>\n",
              "      <td>Yes</td>\n",
              "      <td>417</td>\n",
              "      <td>349</td>\n",
              "      <td>137</td>\n",
              "      <td>60</td>\n",
              "      <td>89</td>\n",
              "      <td>510</td>\n",
              "      <td>63</td>\n",
              "      <td>12960</td>\n",
              "      <td>5450</td>\n",
              "      <td>450</td>\n",
              "      <td>875</td>\n",
              "      <td>92</td>\n",
              "      <td>97</td>\n",
              "      <td>7.7</td>\n",
              "      <td>37</td>\n",
              "      <td>19016</td>\n",
              "      <td>59</td>\n",
              "      <td>True</td>\n",
              "    </tr>\n",
              "    <tr>\n",
              "      <th>Alaska Pacific University</th>\n",
              "      <td>Yes</td>\n",
              "      <td>193</td>\n",
              "      <td>146</td>\n",
              "      <td>55</td>\n",
              "      <td>16</td>\n",
              "      <td>44</td>\n",
              "      <td>249</td>\n",
              "      <td>869</td>\n",
              "      <td>7560</td>\n",
              "      <td>4120</td>\n",
              "      <td>800</td>\n",
              "      <td>1500</td>\n",
              "      <td>76</td>\n",
              "      <td>72</td>\n",
              "      <td>11.9</td>\n",
              "      <td>2</td>\n",
              "      <td>10922</td>\n",
              "      <td>15</td>\n",
              "      <td>False</td>\n",
              "    </tr>\n",
              "    <tr>\n",
              "      <th>...</th>\n",
              "      <td>...</td>\n",
              "      <td>...</td>\n",
              "      <td>...</td>\n",
              "      <td>...</td>\n",
              "      <td>...</td>\n",
              "      <td>...</td>\n",
              "      <td>...</td>\n",
              "      <td>...</td>\n",
              "      <td>...</td>\n",
              "      <td>...</td>\n",
              "      <td>...</td>\n",
              "      <td>...</td>\n",
              "      <td>...</td>\n",
              "      <td>...</td>\n",
              "      <td>...</td>\n",
              "      <td>...</td>\n",
              "      <td>...</td>\n",
              "      <td>...</td>\n",
              "      <td>...</td>\n",
              "    </tr>\n",
              "    <tr>\n",
              "      <th>Worcester State College</th>\n",
              "      <td>No</td>\n",
              "      <td>2197</td>\n",
              "      <td>1515</td>\n",
              "      <td>543</td>\n",
              "      <td>4</td>\n",
              "      <td>26</td>\n",
              "      <td>3089</td>\n",
              "      <td>2029</td>\n",
              "      <td>6797</td>\n",
              "      <td>3900</td>\n",
              "      <td>500</td>\n",
              "      <td>1200</td>\n",
              "      <td>60</td>\n",
              "      <td>60</td>\n",
              "      <td>21.0</td>\n",
              "      <td>14</td>\n",
              "      <td>4469</td>\n",
              "      <td>40</td>\n",
              "      <td>False</td>\n",
              "    </tr>\n",
              "    <tr>\n",
              "      <th>Xavier University</th>\n",
              "      <td>Yes</td>\n",
              "      <td>1959</td>\n",
              "      <td>1805</td>\n",
              "      <td>695</td>\n",
              "      <td>24</td>\n",
              "      <td>47</td>\n",
              "      <td>2849</td>\n",
              "      <td>1107</td>\n",
              "      <td>11520</td>\n",
              "      <td>4960</td>\n",
              "      <td>600</td>\n",
              "      <td>1250</td>\n",
              "      <td>73</td>\n",
              "      <td>75</td>\n",
              "      <td>13.3</td>\n",
              "      <td>31</td>\n",
              "      <td>9189</td>\n",
              "      <td>83</td>\n",
              "      <td>False</td>\n",
              "    </tr>\n",
              "    <tr>\n",
              "      <th>Xavier University of Louisiana</th>\n",
              "      <td>Yes</td>\n",
              "      <td>2097</td>\n",
              "      <td>1915</td>\n",
              "      <td>695</td>\n",
              "      <td>34</td>\n",
              "      <td>61</td>\n",
              "      <td>2793</td>\n",
              "      <td>166</td>\n",
              "      <td>6900</td>\n",
              "      <td>4200</td>\n",
              "      <td>617</td>\n",
              "      <td>781</td>\n",
              "      <td>67</td>\n",
              "      <td>75</td>\n",
              "      <td>14.4</td>\n",
              "      <td>20</td>\n",
              "      <td>8323</td>\n",
              "      <td>49</td>\n",
              "      <td>False</td>\n",
              "    </tr>\n",
              "    <tr>\n",
              "      <th>Yale University</th>\n",
              "      <td>Yes</td>\n",
              "      <td>10705</td>\n",
              "      <td>2453</td>\n",
              "      <td>1317</td>\n",
              "      <td>95</td>\n",
              "      <td>99</td>\n",
              "      <td>5217</td>\n",
              "      <td>83</td>\n",
              "      <td>19840</td>\n",
              "      <td>6510</td>\n",
              "      <td>630</td>\n",
              "      <td>2115</td>\n",
              "      <td>96</td>\n",
              "      <td>96</td>\n",
              "      <td>5.8</td>\n",
              "      <td>49</td>\n",
              "      <td>40386</td>\n",
              "      <td>99</td>\n",
              "      <td>True</td>\n",
              "    </tr>\n",
              "    <tr>\n",
              "      <th>York College of Pennsylvania</th>\n",
              "      <td>Yes</td>\n",
              "      <td>2989</td>\n",
              "      <td>1855</td>\n",
              "      <td>691</td>\n",
              "      <td>28</td>\n",
              "      <td>63</td>\n",
              "      <td>2988</td>\n",
              "      <td>1726</td>\n",
              "      <td>4990</td>\n",
              "      <td>3560</td>\n",
              "      <td>500</td>\n",
              "      <td>1250</td>\n",
              "      <td>75</td>\n",
              "      <td>75</td>\n",
              "      <td>18.1</td>\n",
              "      <td>28</td>\n",
              "      <td>4509</td>\n",
              "      <td>99</td>\n",
              "      <td>False</td>\n",
              "    </tr>\n",
              "  </tbody>\n",
              "</table>\n",
              "<p>777 rows × 19 columns</p>\n",
              "</div>\n",
              "      <button class=\"colab-df-convert\" onclick=\"convertToInteractive('df-cd1fbf8f-3306-420a-a98c-8e79cdc3c11f')\"\n",
              "              title=\"Convert this dataframe to an interactive table.\"\n",
              "              style=\"display:none;\">\n",
              "        \n",
              "  <svg xmlns=\"http://www.w3.org/2000/svg\" height=\"24px\"viewBox=\"0 0 24 24\"\n",
              "       width=\"24px\">\n",
              "    <path d=\"M0 0h24v24H0V0z\" fill=\"none\"/>\n",
              "    <path d=\"M18.56 5.44l.94 2.06.94-2.06 2.06-.94-2.06-.94-.94-2.06-.94 2.06-2.06.94zm-11 1L8.5 8.5l.94-2.06 2.06-.94-2.06-.94L8.5 2.5l-.94 2.06-2.06.94zm10 10l.94 2.06.94-2.06 2.06-.94-2.06-.94-.94-2.06-.94 2.06-2.06.94z\"/><path d=\"M17.41 7.96l-1.37-1.37c-.4-.4-.92-.59-1.43-.59-.52 0-1.04.2-1.43.59L10.3 9.45l-7.72 7.72c-.78.78-.78 2.05 0 2.83L4 21.41c.39.39.9.59 1.41.59.51 0 1.02-.2 1.41-.59l7.78-7.78 2.81-2.81c.8-.78.8-2.07 0-2.86zM5.41 20L4 18.59l7.72-7.72 1.47 1.35L5.41 20z\"/>\n",
              "  </svg>\n",
              "      </button>\n",
              "      \n",
              "  <style>\n",
              "    .colab-df-container {\n",
              "      display:flex;\n",
              "      flex-wrap:wrap;\n",
              "      gap: 12px;\n",
              "    }\n",
              "\n",
              "    .colab-df-convert {\n",
              "      background-color: #E8F0FE;\n",
              "      border: none;\n",
              "      border-radius: 50%;\n",
              "      cursor: pointer;\n",
              "      display: none;\n",
              "      fill: #1967D2;\n",
              "      height: 32px;\n",
              "      padding: 0 0 0 0;\n",
              "      width: 32px;\n",
              "    }\n",
              "\n",
              "    .colab-df-convert:hover {\n",
              "      background-color: #E2EBFA;\n",
              "      box-shadow: 0px 1px 2px rgba(60, 64, 67, 0.3), 0px 1px 3px 1px rgba(60, 64, 67, 0.15);\n",
              "      fill: #174EA6;\n",
              "    }\n",
              "\n",
              "    [theme=dark] .colab-df-convert {\n",
              "      background-color: #3B4455;\n",
              "      fill: #D2E3FC;\n",
              "    }\n",
              "\n",
              "    [theme=dark] .colab-df-convert:hover {\n",
              "      background-color: #434B5C;\n",
              "      box-shadow: 0px 1px 3px 1px rgba(0, 0, 0, 0.15);\n",
              "      filter: drop-shadow(0px 1px 2px rgba(0, 0, 0, 0.3));\n",
              "      fill: #FFFFFF;\n",
              "    }\n",
              "  </style>\n",
              "\n",
              "      <script>\n",
              "        const buttonEl =\n",
              "          document.querySelector('#df-cd1fbf8f-3306-420a-a98c-8e79cdc3c11f button.colab-df-convert');\n",
              "        buttonEl.style.display =\n",
              "          google.colab.kernel.accessAllowed ? 'block' : 'none';\n",
              "\n",
              "        async function convertToInteractive(key) {\n",
              "          const element = document.querySelector('#df-cd1fbf8f-3306-420a-a98c-8e79cdc3c11f');\n",
              "          const dataTable =\n",
              "            await google.colab.kernel.invokeFunction('convertToInteractive',\n",
              "                                                     [key], {});\n",
              "          if (!dataTable) return;\n",
              "\n",
              "          const docLinkHtml = 'Like what you see? Visit the ' +\n",
              "            '<a target=\"_blank\" href=https://colab.research.google.com/notebooks/data_table.ipynb>data table notebook</a>'\n",
              "            + ' to learn more about interactive tables.';\n",
              "          element.innerHTML = '';\n",
              "          dataTable['output_type'] = 'display_data';\n",
              "          await google.colab.output.renderOutput(dataTable, element);\n",
              "          const docLink = document.createElement('div');\n",
              "          docLink.innerHTML = docLinkHtml;\n",
              "          element.appendChild(docLink);\n",
              "        }\n",
              "      </script>\n",
              "    </div>\n",
              "  </div>\n",
              "  "
            ]
          },
          "metadata": {},
          "execution_count": 8
        }
      ]
    },
    {
      "cell_type": "markdown",
      "metadata": {
        "id": "HnO9Lykk_JBH"
      },
      "source": [
        "Make boxplot of Outstate on Elite."
      ]
    },
    {
      "cell_type": "code",
      "metadata": {
        "colab": {
          "base_uri": "https://localhost:8080/",
          "height": 299
        },
        "id": "dHzLnLkX_xVB",
        "outputId": "26bb2db4-8b64-4d44-9931-36c98929a0d7"
      },
      "source": [
        "seaborn.boxplot(x='elite', y='Outstate', data=college)"
      ],
      "execution_count": 9,
      "outputs": [
        {
          "output_type": "execute_result",
          "data": {
            "text/plain": [
              "<matplotlib.axes._subplots.AxesSubplot at 0x7f2f239d3910>"
            ]
          },
          "metadata": {},
          "execution_count": 9
        },
        {
          "output_type": "display_data",
          "data": {
            "text/plain": [
              "<Figure size 432x288 with 1 Axes>"
            ],
            "image/png": "[encoded data removed]"
          },
          "metadata": {
            "needs_background": "light"
          }
        }
      ]
    },
    {
      "cell_type": "markdown",
      "metadata": {
        "id": "_Jcl_qv3_JBH"
      },
      "source": [
        "$\\mathbf{v)}$ Use seaborn's distplot function to produce some histograms with differing numbers of bins for a quantitative variable of your choice. "
      ]
    },
    {
      "cell_type": "code",
      "metadata": {
        "id": "wbWFx_I3_JBH",
        "colab": {
          "base_uri": "https://localhost:8080/",
          "height": 296
        },
        "outputId": "4a75502c-09f9-401f-d676-0ce8db8238a2"
      },
      "source": [
        "seaborn.histplot(x='Enroll', bins=3, data=college)\n",
        "\n",
        "#do histogram a couple of times with different numbers of bins "
      ],
      "execution_count": 10,
      "outputs": [
        {
          "output_type": "execute_result",
          "data": {
            "text/plain": [
              "<matplotlib.axes._subplots.AxesSubplot at 0x7f2f2395edd0>"
            ]
          },
          "metadata": {},
          "execution_count": 10
        },
        {
          "output_type": "display_data",
          "data": {
            "text/plain": [
              "<Figure size 432x288 with 1 Axes>"
            ],
            "image/png": "[encoded data removed]"
          },
          "metadata": {
            "needs_background": "light"
          }
        }
      ]
    },
    {
      "cell_type": "code",
      "source": [
        "seaborn.histplot(x='Enroll', bins=5, data=college)"
      ],
      "metadata": {
        "colab": {
          "base_uri": "https://localhost:8080/",
          "height": 296
        },
        "id": "BuwoeRgZNxun",
        "outputId": "779be589-6ad3-4c8c-d2bc-b3e9ef812d06"
      },
      "execution_count": 11,
      "outputs": [
        {
          "output_type": "execute_result",
          "data": {
            "text/plain": [
              "<matplotlib.axes._subplots.AxesSubplot at 0x7f2f2528c210>"
            ]
          },
          "metadata": {},
          "execution_count": 11
        },
        {
          "output_type": "display_data",
          "data": {
            "text/plain": [
              "<Figure size 432x288 with 1 Axes>"
            ],
            "image/png": "[encoded data removed]"
          },
          "metadata": {
            "needs_background": "light"
          }
        }
      ]
    },
    {
      "cell_type": "code",
      "source": [
        "seaborn.histplot(x='Enroll', bins=7, data=college)"
      ],
      "metadata": {
        "colab": {
          "base_uri": "https://localhost:8080/",
          "height": 296
        },
        "id": "0wZmkwPPN1BB",
        "outputId": "74320246-e1e5-433f-c599-79ae3b188989"
      },
      "execution_count": 12,
      "outputs": [
        {
          "output_type": "execute_result",
          "data": {
            "text/plain": [
              "<matplotlib.axes._subplots.AxesSubplot at 0x7f2f2837a310>"
            ]
          },
          "metadata": {},
          "execution_count": 12
        },
        {
          "output_type": "display_data",
          "data": {
            "text/plain": [
              "<Figure size 432x288 with 1 Axes>"
            ],
            "image/png": "[encoded data removed]"
          },
          "metadata": {
            "needs_background": "light"
          }
        }
      ]
    },
    {
      "cell_type": "markdown",
      "metadata": {
        "id": "yuoLY3rZ_JBH"
      },
      "source": [
        "Create a grid of histograms with the hist method of the dataframe. "
      ]
    },
    {
      "cell_type": "code",
      "metadata": {
        "id": "nqaWYEwM_JBH",
        "colab": {
          "base_uri": "https://localhost:8080/",
          "height": 368
        },
        "outputId": "8190894d-33e9-4357-e38a-1cba98948882"
      },
      "source": [
        "college2=college[['Accept', 'Enroll', 'Apps','Outstate']]\n",
        "college2.hist(bins=10)\n",
        "\n"
      ],
      "execution_count": 13,
      "outputs": [
        {
          "output_type": "execute_result",
          "data": {
            "text/plain": [
              "array([[<matplotlib.axes._subplots.AxesSubplot object at 0x7f2f281dd050>,\n",
              "        <matplotlib.axes._subplots.AxesSubplot object at 0x7f2f280e1fd0>],\n",
              "       [<matplotlib.axes._subplots.AxesSubplot object at 0x7f2f2813f610>,\n",
              "        <matplotlib.axes._subplots.AxesSubplot object at 0x7f2f281dec10>]],\n",
              "      dtype=object)"
            ]
          },
          "metadata": {},
          "execution_count": 13
        },
        {
          "output_type": "display_data",
          "data": {
            "text/plain": [
              "<Figure size 432x288 with 4 Axes>"
            ],
            "image/png": "[encoded data removed]"
          },
          "metadata": {
            "needs_background": "light"
          }
        }
      ]
    },
    {
      "cell_type": "code",
      "metadata": {
        "id": "in1MNb_Q_JBI",
        "colab": {
          "base_uri": "https://localhost:8080/",
          "height": 368
        },
        "outputId": "aae67b0d-1db3-4c47-dc25-08ccadac45fd"
      },
      "source": [
        "\n",
        "\n",
        "college2=college[['F.Undergrad', 'PhD', 'P.Undergrad','Outstate']]\n",
        "college2.hist(color='k', alpha=0.5, bins=20)"
      ],
      "execution_count": 14,
      "outputs": [
        {
          "output_type": "execute_result",
          "data": {
            "text/plain": [
              "array([[<matplotlib.axes._subplots.AxesSubplot object at 0x7f2f2832b790>,\n",
              "        <matplotlib.axes._subplots.AxesSubplot object at 0x7f2f28352590>],\n",
              "       [<matplotlib.axes._subplots.AxesSubplot object at 0x7f2f2836db90>,\n",
              "        <matplotlib.axes._subplots.AxesSubplot object at 0x7f2f284dfb90>]],\n",
              "      dtype=object)"
            ]
          },
          "metadata": {},
          "execution_count": 14
        },
        {
          "output_type": "display_data",
          "data": {
            "text/plain": [
              "<Figure size 432x288 with 4 Axes>"
            ],
            "image/png": "[encoded data removed]"
          },
          "metadata": {
            "needs_background": "light"
          }
        }
      ]
    },
    {
      "cell_type": "markdown",
      "metadata": {
        "id": "pDANTMMm_JBI"
      },
      "source": [
        "## New Section\n",
        "$\\mathbf{a)}$Load in auto.csv as a dataframe and the produce a grid of the pairwise scatterplots of the variables of the dataframe"
      ]
    },
    {
      "cell_type": "code",
      "metadata": {
        "id": "aXwCVmB2_JBI",
        "colab": {
          "base_uri": "https://localhost:8080/",
          "height": 290
        },
        "outputId": "f35c63fa-4628-4ea1-cd97-4001c1263b19"
      },
      "source": [
        "import pandas as pd\n",
        "import numpy as np\n",
        "from sklearn.linear_model import LinearRegression\n",
        "import statsmodels.api as sm\n",
        "import statsmodels.formula.api as smf\n",
        "auto=pd.read_csv('/content/gdrive/My Drive/Econ 484/Auto.csv')\n",
        "scatter_matrix(auto)\n",
        "plt.show()\n",
        "\n",
        "#hover over 'pairplot', see what it will accept, it won't accept x or y but will accept 'x_vars' and 'y_vars'\n",
        "\n"
      ],
      "execution_count": 15,
      "outputs": [
        {
          "output_type": "display_data",
          "data": {
            "text/plain": [
              "<Figure size 432x288 with 49 Axes>"
            ],
            "image/png": "[encoded data removed]"
          },
          "metadata": {
            "needs_background": "light"
          }
        }
      ]
    },
    {
      "cell_type": "markdown",
      "metadata": {
        "id": "z84o7hFq_JBI"
      },
      "source": [
        "$\\mathbf{b)}$ Show the correlation matrix. "
      ]
    },
    {
      "cell_type": "code",
      "metadata": {
        "id": "2YZV9w_3_JBI",
        "colab": {
          "base_uri": "https://localhost:8080/",
          "height": 269
        },
        "outputId": "7d9befe5-3a2c-4b45-e9c3-128a9b0ce6bd"
      },
      "source": [
        "auto.corr()\n",
        "#Put 'auto at front as that's what we need to find corr of (see above)"
      ],
      "execution_count": 16,
      "outputs": [
        {
          "output_type": "execute_result",
          "data": {
            "text/plain": [
              "                   mpg  cylinders  displacement    weight  acceleration  \\\n",
              "mpg           1.000000  -0.776260     -0.804443 -0.831739      0.422297   \n",
              "cylinders    -0.776260   1.000000      0.950920  0.897017     -0.504061   \n",
              "displacement -0.804443   0.950920      1.000000  0.933104     -0.544162   \n",
              "weight       -0.831739   0.897017      0.933104  1.000000     -0.419502   \n",
              "acceleration  0.422297  -0.504061     -0.544162 -0.419502      1.000000   \n",
              "year          0.581469  -0.346717     -0.369804 -0.307900      0.282901   \n",
              "origin        0.563698  -0.564972     -0.610664 -0.581265      0.210084   \n",
              "\n",
              "                  year    origin  \n",
              "mpg           0.581469  0.563698  \n",
              "cylinders    -0.346717 -0.564972  \n",
              "displacement -0.369804 -0.610664  \n",
              "weight       -0.307900 -0.581265  \n",
              "acceleration  0.282901  0.210084  \n",
              "year          1.000000  0.184314  \n",
              "origin        0.184314  1.000000  "
            ],
            "text/html": [
              "\n",
              "  <div id=\"df-87b2c28d-798a-4321-8525-33b85dd031b7\">\n",
              "    <div class=\"colab-df-container\">\n",
              "      <div>\n",
              "<style scoped>\n",
              "    .dataframe tbody tr th:only-of-type {\n",
              "        vertical-align: middle;\n",
              "    }\n",
              "\n",
              "    .dataframe tbody tr th {\n",
              "        vertical-align: top;\n",
              "    }\n",
              "\n",
              "    .dataframe thead th {\n",
              "        text-align: right;\n",
              "    }\n",
              "</style>\n",
              "<table border=\"1\" class=\"dataframe\">\n",
              "  <thead>\n",
              "    <tr style=\"text-align: right;\">\n",
              "      <th></th>\n",
              "      <th>mpg</th>\n",
              "      <th>cylinders</th>\n",
              "      <th>displacement</th>\n",
              "      <th>weight</th>\n",
              "      <th>acceleration</th>\n",
              "      <th>year</th>\n",
              "      <th>origin</th>\n",
              "    </tr>\n",
              "  </thead>\n",
              "  <tbody>\n",
              "    <tr>\n",
              "      <th>mpg</th>\n",
              "      <td>1.000000</td>\n",
              "      <td>-0.776260</td>\n",
              "      <td>-0.804443</td>\n",
              "      <td>-0.831739</td>\n",
              "      <td>0.422297</td>\n",
              "      <td>0.581469</td>\n",
              "      <td>0.563698</td>\n",
              "    </tr>\n",
              "    <tr>\n",
              "      <th>cylinders</th>\n",
              "      <td>-0.776260</td>\n",
              "      <td>1.000000</td>\n",
              "      <td>0.950920</td>\n",
              "      <td>0.897017</td>\n",
              "      <td>-0.504061</td>\n",
              "      <td>-0.346717</td>\n",
              "      <td>-0.564972</td>\n",
              "    </tr>\n",
              "    <tr>\n",
              "      <th>displacement</th>\n",
              "      <td>-0.804443</td>\n",
              "      <td>0.950920</td>\n",
              "      <td>1.000000</td>\n",
              "      <td>0.933104</td>\n",
              "      <td>-0.544162</td>\n",
              "      <td>-0.369804</td>\n",
              "      <td>-0.610664</td>\n",
              "    </tr>\n",
              "    <tr>\n",
              "      <th>weight</th>\n",
              "      <td>-0.831739</td>\n",
              "      <td>0.897017</td>\n",
              "      <td>0.933104</td>\n",
              "      <td>1.000000</td>\n",
              "      <td>-0.419502</td>\n",
              "      <td>-0.307900</td>\n",
              "      <td>-0.581265</td>\n",
              "    </tr>\n",
              "    <tr>\n",
              "      <th>acceleration</th>\n",
              "      <td>0.422297</td>\n",
              "      <td>-0.504061</td>\n",
              "      <td>-0.544162</td>\n",
              "      <td>-0.419502</td>\n",
              "      <td>1.000000</td>\n",
              "      <td>0.282901</td>\n",
              "      <td>0.210084</td>\n",
              "    </tr>\n",
              "    <tr>\n",
              "      <th>year</th>\n",
              "      <td>0.581469</td>\n",
              "      <td>-0.346717</td>\n",
              "      <td>-0.369804</td>\n",
              "      <td>-0.307900</td>\n",
              "      <td>0.282901</td>\n",
              "      <td>1.000000</td>\n",
              "      <td>0.184314</td>\n",
              "    </tr>\n",
              "    <tr>\n",
              "      <th>origin</th>\n",
              "      <td>0.563698</td>\n",
              "      <td>-0.564972</td>\n",
              "      <td>-0.610664</td>\n",
              "      <td>-0.581265</td>\n",
              "      <td>0.210084</td>\n",
              "      <td>0.184314</td>\n",
              "      <td>1.000000</td>\n",
              "    </tr>\n",
              "  </tbody>\n",
              "</table>\n",
              "</div>\n",
              "      <button class=\"colab-df-convert\" onclick=\"convertToInteractive('df-87b2c28d-798a-4321-8525-33b85dd031b7')\"\n",
              "              title=\"Convert this dataframe to an interactive table.\"\n",
              "              style=\"display:none;\">\n",
              "        \n",
              "  <svg xmlns=\"http://www.w3.org/2000/svg\" height=\"24px\"viewBox=\"0 0 24 24\"\n",
              "       width=\"24px\">\n",
              "    <path d=\"M0 0h24v24H0V0z\" fill=\"none\"/>\n",
              "    <path d=\"M18.56 5.44l.94 2.06.94-2.06 2.06-.94-2.06-.94-.94-2.06-.94 2.06-2.06.94zm-11 1L8.5 8.5l.94-2.06 2.06-.94-2.06-.94L8.5 2.5l-.94 2.06-2.06.94zm10 10l.94 2.06.94-2.06 2.06-.94-2.06-.94-.94-2.06-.94 2.06-2.06.94z\"/><path d=\"M17.41 7.96l-1.37-1.37c-.4-.4-.92-.59-1.43-.59-.52 0-1.04.2-1.43.59L10.3 9.45l-7.72 7.72c-.78.78-.78 2.05 0 2.83L4 21.41c.39.39.9.59 1.41.59.51 0 1.02-.2 1.41-.59l7.78-7.78 2.81-2.81c.8-.78.8-2.07 0-2.86zM5.41 20L4 18.59l7.72-7.72 1.47 1.35L5.41 20z\"/>\n",
              "  </svg>\n",
              "      </button>\n",
              "      \n",
              "  <style>\n",
              "    .colab-df-container {\n",
              "      display:flex;\n",
              "      flex-wrap:wrap;\n",
              "      gap: 12px;\n",
              "    }\n",
              "\n",
              "    .colab-df-convert {\n",
              "      background-color: #E8F0FE;\n",
              "      border: none;\n",
              "      border-radius: 50%;\n",
              "      cursor: pointer;\n",
              "      display: none;\n",
              "      fill: #1967D2;\n",
              "      height: 32px;\n",
              "      padding: 0 0 0 0;\n",
              "      width: 32px;\n",
              "    }\n",
              "\n",
              "    .colab-df-convert:hover {\n",
              "      background-color: #E2EBFA;\n",
              "      box-shadow: 0px 1px 2px rgba(60, 64, 67, 0.3), 0px 1px 3px 1px rgba(60, 64, 67, 0.15);\n",
              "      fill: #174EA6;\n",
              "    }\n",
              "\n",
              "    [theme=dark] .colab-df-convert {\n",
              "      background-color: #3B4455;\n",
              "      fill: #D2E3FC;\n",
              "    }\n",
              "\n",
              "    [theme=dark] .colab-df-convert:hover {\n",
              "      background-color: #434B5C;\n",
              "      box-shadow: 0px 1px 3px 1px rgba(0, 0, 0, 0.15);\n",
              "      filter: drop-shadow(0px 1px 2px rgba(0, 0, 0, 0.3));\n",
              "      fill: #FFFFFF;\n",
              "    }\n",
              "  </style>\n",
              "\n",
              "      <script>\n",
              "        const buttonEl =\n",
              "          document.querySelector('#df-87b2c28d-798a-4321-8525-33b85dd031b7 button.colab-df-convert');\n",
              "        buttonEl.style.display =\n",
              "          google.colab.kernel.accessAllowed ? 'block' : 'none';\n",
              "\n",
              "        async function convertToInteractive(key) {\n",
              "          const element = document.querySelector('#df-87b2c28d-798a-4321-8525-33b85dd031b7');\n",
              "          const dataTable =\n",
              "            await google.colab.kernel.invokeFunction('convertToInteractive',\n",
              "                                                     [key], {});\n",
              "          if (!dataTable) return;\n",
              "\n",
              "          const docLinkHtml = 'Like what you see? Visit the ' +\n",
              "            '<a target=\"_blank\" href=https://colab.research.google.com/notebooks/data_table.ipynb>data table notebook</a>'\n",
              "            + ' to learn more about interactive tables.';\n",
              "          element.innerHTML = '';\n",
              "          dataTable['output_type'] = 'display_data';\n",
              "          await google.colab.output.renderOutput(dataTable, element);\n",
              "          const docLink = document.createElement('div');\n",
              "          docLink.innerHTML = docLinkHtml;\n",
              "          element.appendChild(docLink);\n",
              "        }\n",
              "      </script>\n",
              "    </div>\n",
              "  </div>\n",
              "  "
            ]
          },
          "metadata": {},
          "execution_count": 16
        }
      ]
    },
    {
      "cell_type": "markdown",
      "metadata": {
        "id": "crB-vbEi_JBI"
      },
      "source": [
        "$\\mathbf{c)}$ Use the statsmodel OLS function to perform a linear regression with mpg as the response and year as a feature. Use the summary() method to print the results. "
      ]
    },
    {
      "cell_type": "code",
      "metadata": {
        "colab": {
          "base_uri": "https://localhost:8080/"
        },
        "id": "BXoy7MoyHWsK",
        "outputId": "513afffe-65d8-47f5-b4f0-913cd81a56e3"
      },
      "source": [
        "# fill in the variable names you plan on using in the regression\n",
        "\n",
        "X = auto.loc[:,['year','displacement','weight']]\n",
        "y = auto['mpg']\n",
        "reg_obj = sm.OLS(y,X)\n",
        "results = reg_obj.fit()\n",
        "print(results.summary())\n",
        "\n",
        "\n",
        "#X = auto.loc[:,['x1','x2','x3']]\n",
        "#y = auto['y']\n",
        "#reg_obj = sm.OLS(y,X)\n",
        "#results = reg_obj.fit()\n",
        "#print(results.summary())"
      ],
      "execution_count": 17,
      "outputs": [
        {
          "output_type": "stream",
          "name": "stdout",
          "text": [
            "                                 OLS Regression Results                                \n",
            "=======================================================================================\n",
            "Dep. Variable:                    mpg   R-squared (uncentered):                   0.980\n",
            "Model:                            OLS   Adj. R-squared (uncentered):              0.980\n",
            "Method:                 Least Squares   F-statistic:                              6542.\n",
            "Date:                Tue, 08 Nov 2022   Prob (F-statistic):                        0.00\n",
            "Time:                        11:41:17   Log-Likelihood:                         -1058.0\n",
            "No. Observations:                 397   AIC:                                      2122.\n",
            "Df Residuals:                     394   BIC:                                      2134.\n",
            "Df Model:                           3                                                  \n",
            "Covariance Type:            nonrobust                                                  \n",
            "================================================================================\n",
            "                   coef    std err          t      P>|t|      [0.025      0.975]\n",
            "--------------------------------------------------------------------------------\n",
            "year             0.5830      0.012     48.856      0.000       0.560       0.606\n",
            "displacement    -0.0004      0.005     -0.084      0.933      -0.010       0.009\n",
            "weight          -0.0070      0.001    -12.096      0.000      -0.008      -0.006\n",
            "==============================================================================\n",
            "Omnibus:                       52.889   Durbin-Watson:                   1.193\n",
            "Prob(Omnibus):                  0.000   Jarque-Bera (JB):               94.979\n",
            "Skew:                           0.778   Prob(JB):                     2.37e-21\n",
            "Kurtosis:                       4.822   Cond. No.                         221.\n",
            "==============================================================================\n",
            "\n",
            "Notes:\n",
            "[1] R² is computed without centering (uncentered) since the model does not contain a constant.\n",
            "[2] Standard Errors assume that the covariance matrix of the errors is correctly specified.\n"
          ]
        }
      ]
    },
    {
      "cell_type": "markdown",
      "metadata": {
        "id": "oeJ-5jpG_JBJ"
      },
      "source": [
        "Do a linear regression with mpg as the outcome and all other variables except name as the predictors. "
      ]
    },
    {
      "cell_type": "code",
      "metadata": {
        "id": "v0iNXhIL_JBJ",
        "colab": {
          "base_uri": "https://localhost:8080/"
        },
        "outputId": "c1bf4f02-04da-43d3-fd06-ba3b8764dae0"
      },
      "source": [
        "X = auto.loc[:,['year','displacement','weight', 'cylinders', 'acceleration', 'origin']]\n",
        "y = auto['mpg']\n",
        "reg_obj = sm.OLS(y,X)\n",
        "results = reg_obj.fit()\n",
        "print(results.summary())\n",
        "#There's a relationship between the predictors and the response. Origin is the predictor with the strongest relationship\n",
        "#Cylinder has the strongest negative relationship\n",
        "#Origin, displacement, year, and weight are all statistically significant at the p=0.05 level\n",
        "#This implicates that closer cars's fuel is more efficent\n",
        "#The year coefficent suggests that the mpg is statistically significantly increasing by year. That suggests newer cars are better in regards to mpg \n",
        "\n"
      ],
      "execution_count": 18,
      "outputs": [
        {
          "output_type": "stream",
          "name": "stdout",
          "text": [
            "                                 OLS Regression Results                                \n",
            "=======================================================================================\n",
            "Dep. Variable:                    mpg   R-squared (uncentered):                   0.981\n",
            "Model:                            OLS   Adj. R-squared (uncentered):              0.981\n",
            "Method:                 Least Squares   F-statistic:                              3393.\n",
            "Date:                Tue, 08 Nov 2022   Prob (F-statistic):                        0.00\n",
            "Time:                        11:41:17   Log-Likelihood:                         -1049.3\n",
            "No. Observations:                 397   AIC:                                      2111.\n",
            "Df Residuals:                     391   BIC:                                      2135.\n",
            "Df Model:                           6                                                  \n",
            "Covariance Type:            nonrobust                                                  \n",
            "================================================================================\n",
            "                   coef    std err          t      P>|t|      [0.025      0.975]\n",
            "--------------------------------------------------------------------------------\n",
            "year             0.5549      0.022     24.929      0.000       0.511       0.599\n",
            "displacement     0.0150      0.007      2.038      0.042       0.001       0.030\n",
            "weight          -0.0070      0.001    -11.744      0.000      -0.008      -0.006\n",
            "cylinders       -0.6392      0.326     -1.960      0.051      -1.280       0.002\n",
            "acceleration     0.0680      0.077      0.881      0.379      -0.084       0.220\n",
            "origin           1.0382      0.268      3.868      0.000       0.510       1.566\n",
            "==============================================================================\n",
            "Omnibus:                       48.065   Durbin-Watson:                   1.228\n",
            "Prob(Omnibus):                  0.000   Jarque-Bera (JB):               94.922\n",
            "Skew:                           0.681   Prob(JB):                     2.44e-21\n",
            "Kurtosis:                       4.971   Cond. No.                     5.95e+03\n",
            "==============================================================================\n",
            "\n",
            "Notes:\n",
            "[1] R² is computed without centering (uncentered) since the model does not contain a constant.\n",
            "[2] Standard Errors assume that the covariance matrix of the errors is correctly specified.\n",
            "[3] The condition number is large, 5.95e+03. This might indicate that there are\n",
            "strong multicollinearity or other numerical problems.\n"
          ]
        }
      ]
    },
    {
      "cell_type": "markdown",
      "metadata": {
        "id": "MD3uTYeg_JBJ"
      },
      "source": [
        "$\\mathbf{d)}$ Use statsmodels' inluence_plot() function to produce diagnostic plots of the linear regression fit. "
      ]
    },
    {
      "cell_type": "code",
      "metadata": {
        "id": "PieCXPBv_JBJ",
        "colab": {
          "base_uri": "https://localhost:8080/",
          "height": 591
        },
        "outputId": "3039afd8-93a7-4fdd-e16b-9987de558f21"
      },
      "source": [
        "sm.graphics.influence_plot(results)\n",
        "#There's not necessarily any large outliers. The '13' observation number suggests that there's a significant difference between certain x values and other x values. However, this doesn't necessarily mean that those higher x values are outliers. It's certainly worth looking into though. \n",
        "#However, it for sure identifies that observation 13 has unusually high leverage \n"
      ],
      "execution_count": 19,
      "outputs": [
        {
          "output_type": "execute_result",
          "data": {
            "text/plain": [
              "<Figure size 432x288 with 1 Axes>"
            ],
            "image/png": "[encoded data removed]"
          },
          "metadata": {},
          "execution_count": 19
        },
        {
          "output_type": "display_data",
          "data": {
            "text/plain": [
              "<Figure size 432x288 with 1 Axes>"
            ],
            "image/png": "[encoded data removed]"
          },
          "metadata": {
            "needs_background": "light"
          }
        }
      ]
    },
    {
      "cell_type": "markdown",
      "metadata": {
        "id": "yqWwZ7up_JBJ"
      },
      "source": [
        "$\\mathbf{e)}$ Create some polynomial and interaction features from the existing set of variables and fit linear regression models with them. \n"
      ]
    },
    {
      "cell_type": "code",
      "metadata": {
        "colab": {
          "base_uri": "https://localhost:8080/"
        },
        "id": "b0jRSq6vWb63",
        "outputId": "d4379307-7057-44ea-b687-13df333769a0"
      },
      "source": [
        "#polynomial=square things\n",
        "#interaction=multiply things together\n",
        "\n",
        "#take two numbers, multiply together, call interaction term\n",
        "acceleration2= auto['acceleration']**2\n",
        "yearacc=auto['acceleration']*auto['year']\n",
        "auto['acceleration12'] = acceleration2\n",
        "auto['interaction'] = yearacc\n",
        "import statsmodels.api as sm\n",
        "#from sklearn.preprocessing import PolynomialFeatures\n",
        "X = auto.loc[:,['year','displacement','weight', 'acceleration', 'cylinders', 'acceleration12','interaction']]\n",
        "y = auto['mpg']\n",
        "reg_obj = sm.OLS(y,X)\n",
        "results = reg_obj.fit()\n",
        "print(results.summary())\n",
        "\n",
        "\n",
        "#The interaction term does not appear to be statistically significant. The polynomial terms also don't appear statistically signficant "
      ],
      "execution_count": 20,
      "outputs": [
        {
          "output_type": "stream",
          "name": "stdout",
          "text": [
            "                                 OLS Regression Results                                \n",
            "=======================================================================================\n",
            "Dep. Variable:                    mpg   R-squared (uncentered):                   0.982\n",
            "Model:                            OLS   Adj. R-squared (uncentered):              0.982\n",
            "Method:                 Least Squares   F-statistic:                              3058.\n",
            "Date:                Tue, 08 Nov 2022   Prob (F-statistic):                        0.00\n",
            "Time:                        11:41:18   Log-Likelihood:                         -1039.1\n",
            "No. Observations:                 397   AIC:                                      2092.\n",
            "Df Residuals:                     390   BIC:                                      2120.\n",
            "Df Model:                           7                                                  \n",
            "Covariance Type:            nonrobust                                                  \n",
            "==================================================================================\n",
            "                     coef    std err          t      P>|t|      [0.025      0.975]\n",
            "----------------------------------------------------------------------------------\n",
            "year               0.7711      0.064     12.133      0.000       0.646       0.896\n",
            "displacement      -0.0024      0.007     -0.329      0.742      -0.017       0.012\n",
            "weight            -0.0063      0.001    -10.642      0.000      -0.008      -0.005\n",
            "acceleration      -2.2053      0.390     -5.652      0.000      -2.972      -1.438\n",
            "cylinders         -0.0763      0.324     -0.236      0.814      -0.713       0.561\n",
            "acceleration12     0.0634      0.017      3.631      0.000       0.029       0.098\n",
            "interaction        0.0026      0.005      0.530      0.597      -0.007       0.012\n",
            "==============================================================================\n",
            "Omnibus:                       21.027   Durbin-Watson:                   1.283\n",
            "Prob(Omnibus):                  0.000   Jarque-Bera (JB):               29.503\n",
            "Skew:                           0.419   Prob(JB):                     3.92e-07\n",
            "Kurtosis:                       4.040   Cond. No.                     8.01e+03\n",
            "==============================================================================\n",
            "\n",
            "Notes:\n",
            "[1] R² is computed without centering (uncentered) since the model does not contain a constant.\n",
            "[2] Standard Errors assume that the covariance matrix of the errors is correctly specified.\n",
            "[3] The condition number is large, 8.01e+03. This might indicate that there are\n",
            "strong multicollinearity or other numerical problems.\n"
          ]
        }
      ]
    },
    {
      "cell_type": "markdown",
      "metadata": {
        "id": "02mg6AA6_JBK"
      },
      "source": [
        "## PCA"
      ]
    },
    {
      "cell_type": "code",
      "metadata": {
        "id": "SRsfHvej_JBK"
      },
      "source": [
        "from sklearn.datasets import make_blobs\n",
        "from sklearn.decomposition import PCA\n",
        "\n",
        "SEED = 123\n",
        "X, y = make_blobs(n_samples=10000, n_features=500, cluster_std=90., random_state=SEED)"
      ],
      "execution_count": 21,
      "outputs": []
    },
    {
      "cell_type": "code",
      "metadata": {
        "id": "i0PhMxNt_JBK",
        "colab": {
          "base_uri": "https://localhost:8080/"
        },
        "outputId": "1b0a54ce-c049-49cb-8b17-90dc4eebd100"
      },
      "source": [
        "from sklearn.preprocessing import StandardScaler\n",
        "scaler = StandardScaler()\n",
        "scaler.fit(X)\n",
        "x_scaled = scaler.transform(X)\n",
        "x_scaled.shape\n",
        "from sklearn.decomposition import PCA\n",
        "# keep the first two principal components of the data\n",
        "pca = PCA(n_components=2)\n",
        "pca.fit(x_scaled)\n",
        "\n",
        "x_pca = pca.transform(x_scaled)\n",
        "print(\"Original shape: {}\".format(str(x_scaled.shape)))\n",
        "print(\"Reduced shape: {}\".format(str(x_pca.shape)))\n",
        "\n",
        "print(\"PCA components:\\n{}\".format(pca.components_))"
      ],
      "execution_count": 22,
      "outputs": [
        {
          "output_type": "stream",
          "name": "stdout",
          "text": [
            "Original shape: (10000, 500)\n",
            "Reduced shape: (10000, 2)\n",
            "PCA components:\n",
            "[[-5.44364686e-02 -6.91221522e-03  2.20384514e-02  1.32217053e-02\n",
            "  -6.52876378e-03 -3.90735235e-02 -6.32556161e-02  1.73713481e-02\n",
            "   9.58966347e-03 -3.85270755e-02  5.56769603e-02 -3.42000718e-02\n",
            "  -3.66870893e-02  4.14999760e-02 -1.60203946e-02  3.78901393e-02\n",
            "   7.32269367e-02  2.83154645e-02 -5.06544287e-02 -1.38393316e-02\n",
            "  -4.55953156e-03 -1.92380471e-03  3.31573711e-02 -2.62476060e-02\n",
            "  -5.02010614e-02  4.06828085e-02 -1.82301754e-03  1.07951586e-02\n",
            "  -9.46686778e-04  2.38037858e-02 -8.43566996e-03  7.75273586e-04\n",
            "  -2.67611245e-02 -2.15534205e-02 -1.59098682e-02  2.74472081e-02\n",
            "   2.14757885e-02 -6.03212150e-02  3.25627834e-03 -5.56391604e-02\n",
            "  -5.59143370e-02  1.89064396e-02  4.70769036e-02 -2.08119005e-02\n",
            "  -3.65504164e-02 -1.15939433e-02  4.22534488e-02 -3.63526751e-02\n",
            "  -4.64160082e-03 -5.02746551e-02  4.32219700e-02 -7.13948290e-02\n",
            "   3.84231528e-02 -2.65004208e-02  3.27668454e-02 -3.51509087e-02\n",
            "  -1.27871115e-02 -3.22769195e-02 -7.02060384e-02 -3.24691698e-02\n",
            "   1.13145746e-03  6.22797235e-02 -1.82251819e-02 -2.61194678e-02\n",
            "  -8.21941095e-02  3.69495310e-02  1.77801172e-02  5.40744164e-02\n",
            "   3.03138442e-02 -4.29489981e-02 -1.30666931e-02 -1.02761951e-01\n",
            "  -7.53898625e-02  3.43204423e-02  3.11875392e-02  5.37492287e-02\n",
            "   1.95842189e-02  2.29182910e-02  8.73584807e-02  6.70583831e-02\n",
            "   3.57704044e-03 -5.17530947e-02  4.55976404e-02 -4.16356232e-02\n",
            "  -2.46446182e-02 -6.03975169e-02 -1.48827659e-02  9.35489636e-02\n",
            "   3.96634284e-03 -1.55044723e-02 -1.62777897e-02 -3.14391727e-02\n",
            "  -5.34343667e-02 -9.23251397e-03 -4.91448895e-02 -4.72799513e-02\n",
            "   5.80460188e-02 -3.76538520e-02  2.25806962e-02 -2.18559600e-02\n",
            "  -8.01923076e-02 -3.36876504e-02  3.62778886e-02  1.11631434e-02\n",
            "  -1.70597788e-02 -4.40412539e-02 -5.76338429e-02 -4.59095587e-02\n",
            "  -1.46128853e-02  5.72062516e-02  5.44183177e-02  4.90318222e-02\n",
            "   3.19611810e-02 -5.21701897e-02 -8.91393959e-03  4.93429025e-02\n",
            "   2.10460878e-02 -6.04055117e-03  1.92179930e-02 -5.14115257e-02\n",
            "  -1.60501999e-02  1.95244268e-02 -4.38845089e-02  9.13117107e-03\n",
            "  -3.13718592e-02 -7.57716259e-03  4.34494911e-02 -2.79726968e-02\n",
            "  -4.47230048e-02  1.64551188e-02 -7.74901853e-02  1.70883505e-02\n",
            "  -1.98072263e-02  8.07365182e-04 -2.84371216e-02 -8.63012027e-04\n",
            "   7.92890897e-02  2.24702176e-02  8.43476386e-02  3.47868191e-02\n",
            "   6.64150598e-02  2.73955687e-02  3.62621044e-02 -3.06778226e-02\n",
            "   5.04667565e-02 -1.54150212e-02 -7.38874503e-02  8.79732037e-02\n",
            "  -4.27232961e-02  1.44964149e-02  5.26731410e-02 -6.64903305e-02\n",
            "  -3.39228679e-02  6.62097026e-02 -5.50345053e-02  6.43401142e-02\n",
            "  -5.44507842e-02  1.40983392e-02 -4.93688876e-02  6.22083724e-02\n",
            "  -1.58906118e-02 -7.50887689e-03 -2.29324366e-03  8.68974808e-02\n",
            "  -3.26894305e-02 -5.59063414e-02 -3.88474023e-02 -8.03609857e-02\n",
            "  -4.82522679e-02 -2.05423446e-02 -3.28139129e-02  9.42963008e-03\n",
            "  -2.43938656e-02 -7.36062837e-02 -7.74492341e-02  3.93836381e-02\n",
            "   6.69863725e-02  8.06298986e-02 -2.34311560e-02 -5.47056580e-02\n",
            "  -6.87226461e-02 -1.15675534e-02  2.45410287e-02 -8.84527331e-02\n",
            "  -1.77166482e-03 -8.13973417e-02  2.45695227e-02 -1.07772795e-02\n",
            "   1.00100980e-02 -2.88189100e-02  1.39886194e-02  1.35036219e-02\n",
            "  -1.22004922e-02  2.32938801e-02 -2.73300161e-03  3.21775462e-02\n",
            "   4.15687628e-02  8.50158790e-04  2.61308418e-02  4.44936077e-03\n",
            "   4.01244856e-02  3.49764114e-02  5.20133197e-02 -3.15555522e-02\n",
            "  -1.49922582e-02 -3.67981752e-02  4.99189088e-02 -6.68960860e-02\n",
            "  -8.71694357e-03  8.42163439e-02 -7.10841620e-02  5.73287306e-02\n",
            "  -3.38987310e-02 -6.65219135e-02  7.33375180e-02  2.01682867e-02\n",
            "   3.07237010e-03 -1.74364630e-02 -3.20220782e-02  3.98622671e-02\n",
            "   6.67748826e-02 -3.04184800e-02  3.66663039e-02 -2.10555911e-02\n",
            "  -4.05636799e-02  5.15438602e-03 -1.21345172e-02  4.93136288e-02\n",
            "   5.81234481e-02  5.93238836e-02  5.16448610e-02  5.18035169e-02\n",
            "   5.55261477e-02  2.11397862e-02  2.34889645e-02  8.29080673e-02\n",
            "  -3.01546489e-02 -1.66798198e-02 -5.51109406e-02 -5.53278127e-02\n",
            "   8.83512643e-02  6.59029355e-03 -5.14541433e-02  2.25091913e-02\n",
            "   2.34919566e-04 -5.57891406e-02  3.28082125e-03  7.56715619e-03\n",
            "  -1.91979246e-02 -8.62237480e-02  1.25358650e-02 -1.06079127e-02\n",
            "  -1.01285075e-02  6.08747020e-05 -2.83057787e-02 -3.23433822e-02\n",
            "  -8.27839218e-02 -5.18437845e-02  1.11434073e-01 -1.52318836e-02\n",
            "   3.68444564e-02  5.35829127e-02 -4.09147075e-02  4.87017985e-02\n",
            "  -4.03031765e-02  8.80338468e-03  7.93303752e-02  2.11606372e-02\n",
            "  -5.11013501e-03  2.84815181e-02  2.34165652e-02  3.79027715e-02\n",
            "   4.29194919e-02 -3.49814269e-02  2.84146908e-02  7.07969477e-02\n",
            "   3.89184765e-03  2.33445509e-02  3.23467007e-02  9.48103239e-02\n",
            "  -4.86634577e-02  5.10460051e-02  5.35054071e-02 -5.33985874e-02\n",
            "   5.07673500e-02 -4.02528751e-02  1.66953743e-03 -7.41787567e-02\n",
            "  -2.62070156e-02 -9.42390454e-02  9.50849473e-03  9.09472768e-03\n",
            "   6.26227423e-02 -7.44909394e-02  4.74444993e-02 -5.60553494e-02\n",
            "   1.29985840e-02 -6.97542120e-02  3.95327466e-02 -2.42731362e-03\n",
            "   3.86799840e-02 -4.77640633e-02  8.02957962e-02  3.86579826e-03\n",
            "  -2.93312786e-02  1.07479852e-02  3.18759357e-02  8.28519269e-03\n",
            "  -2.57868605e-02  6.69432111e-02 -3.99621851e-02 -6.26764898e-02\n",
            "   1.04349341e-02 -2.56539994e-02  3.35832950e-02 -2.32719507e-02\n",
            "   1.46926437e-02 -5.31127384e-02 -2.17252898e-02  3.98333354e-02\n",
            "   2.63325287e-02  2.16625797e-02 -1.09437815e-01  6.93583601e-03\n",
            "   5.42756694e-02 -7.53961546e-02  9.82944182e-04 -2.90172167e-02\n",
            "   5.26004676e-02 -8.22546424e-02 -6.01458682e-02 -1.83318537e-02\n",
            "   5.46488140e-02 -8.73448229e-04  7.03373100e-02 -1.74605119e-02\n",
            "  -4.79389124e-03 -6.77472742e-02  1.80126303e-02  7.48524621e-02\n",
            "  -3.26707700e-02 -9.32455871e-02  1.96580993e-02  2.58032454e-04\n",
            "  -5.20349774e-03  7.65894559e-02  7.02017067e-02  1.80751192e-02\n",
            "  -5.61439021e-02 -4.95930644e-03 -6.36566300e-03  5.10297618e-02\n",
            "   4.39139515e-02  3.45140244e-02  9.50599312e-02  6.01526280e-02\n",
            "   1.04219155e-02 -5.78286835e-03 -5.27594632e-03 -3.03359580e-02\n",
            "   1.21742874e-02  4.49949398e-02  3.54656640e-02  4.44138137e-03\n",
            "  -2.59570928e-02  2.36315239e-02  1.20480285e-02  1.65332101e-02\n",
            "  -1.13622793e-02 -5.36208950e-02 -1.59502266e-02 -3.72764906e-02\n",
            "   7.05756989e-02  1.81958418e-02 -1.48209956e-02 -3.01623872e-02\n",
            "  -5.92963960e-02 -1.17926601e-02  3.90587132e-02  4.88937205e-02\n",
            "   9.37804817e-02 -9.15903212e-02  1.01643798e-02  1.28078280e-03\n",
            "  -5.33280716e-02  5.47310899e-02  2.37074313e-02 -2.00930143e-02\n",
            "  -2.16275641e-02  1.12718788e-01  1.80058966e-02  6.95444043e-02\n",
            "  -5.76631966e-03 -4.24388991e-03  6.60409239e-02  3.26831273e-02\n",
            "   4.91913093e-04  1.78084179e-02  4.17582648e-02 -3.35296417e-02\n",
            "   3.64855568e-02  5.47985140e-02 -8.86566262e-02  6.64914140e-02\n",
            "  -5.02590411e-02  6.03216452e-02 -5.57023714e-02  4.68956325e-02\n",
            "  -2.84916358e-02  8.76643367e-02  6.24447039e-02  7.85301423e-04\n",
            "  -1.66164916e-03  3.06091836e-02  3.60410947e-02 -1.15885064e-02\n",
            "   3.41686506e-02  2.75514064e-02 -4.47263967e-02 -4.86185955e-03\n",
            "   3.39338146e-02  2.03812141e-02 -5.40010980e-02 -3.82773656e-03\n",
            "   4.56706084e-02 -9.66020895e-02 -1.36028186e-02  3.22512474e-02\n",
            "  -1.48798223e-02  1.71726322e-02  8.69720007e-04  7.95743352e-02\n",
            "   8.91367646e-03  2.79176467e-03 -9.20261856e-03  5.98596491e-02\n",
            "  -4.91777832e-02  8.43799188e-02 -3.37441042e-02  2.73733584e-02\n",
            "   3.05713701e-02  1.91914439e-02 -6.83917904e-02  3.97922341e-02\n",
            "   2.95477292e-02 -5.80289321e-02 -1.89383529e-02  1.82119219e-02\n",
            "   3.57368875e-03  9.84969761e-02 -1.73130092e-02 -5.88416333e-02\n",
            "   5.17237595e-02 -1.00076770e-02 -4.10771246e-02  6.62026545e-02\n",
            "   4.29620325e-02  9.21448758e-02 -6.95598875e-02 -2.09901310e-02\n",
            "   1.82800126e-02 -2.93210112e-02 -2.35505155e-02 -7.09793200e-02\n",
            "   3.20398842e-03  5.21353483e-02 -1.20378223e-03 -1.76167918e-02\n",
            "   2.77948925e-02  2.93168127e-02 -1.58821671e-02 -5.57757467e-03\n",
            "   1.71129239e-02  4.67880602e-02 -7.09788185e-02 -2.07607079e-03\n",
            "  -3.25028820e-02  8.90158783e-02  7.68149312e-03  2.92927744e-02\n",
            "   4.26125379e-02 -4.87315197e-02 -9.37948890e-03  7.02650463e-03\n",
            "   9.08495791e-03  3.37863689e-03 -1.12221880e-02  5.35636329e-02\n",
            "  -1.78308159e-02  3.84009596e-02 -2.53879361e-02 -8.13326435e-02\n",
            "  -6.52376370e-02  4.68229613e-02  6.47600029e-02 -3.67946918e-02\n",
            "  -7.32576465e-02 -5.23544552e-02  5.44065484e-02 -4.61864675e-02]\n",
            " [-3.21963347e-02 -3.47517799e-03  6.39134990e-02 -4.18325163e-02\n",
            "   5.70543006e-02  2.92816670e-03 -6.40858311e-03 -4.63468010e-02\n",
            "   5.85464722e-02  7.11187602e-03  7.28036473e-02  8.75129092e-03\n",
            "   2.46974496e-02 -8.01050841e-03  2.85454714e-02 -3.89290261e-02\n",
            "  -1.59911703e-02  4.86953346e-02 -4.74030163e-03  8.84115510e-03\n",
            "   2.74717887e-02 -1.60389509e-02  5.44082672e-02 -4.55314628e-02\n",
            "  -5.45915487e-02 -5.79857941e-02 -5.41479960e-02 -3.39381738e-02\n",
            "   4.70594960e-02 -2.82285277e-02 -1.14974385e-02  6.07569345e-02\n",
            "   3.82049435e-02 -5.50734579e-02  4.05908632e-02  2.02981031e-02\n",
            "  -5.24857047e-02  2.47496010e-03 -3.47658286e-02  2.02716055e-02\n",
            "   5.65726604e-04  9.39665671e-03  1.08180013e-02  3.43352876e-02\n",
            "  -4.68887261e-02  6.10830796e-02  2.03625547e-02 -1.14354037e-01\n",
            "   2.78612679e-02  6.89546089e-02  3.61566582e-02  7.87805167e-03\n",
            "  -4.65868401e-02  3.34697544e-02 -4.96346741e-02  7.74547532e-02\n",
            "  -4.25461150e-02  1.08669673e-02  2.97276808e-02 -6.44510584e-02\n",
            "   2.27478986e-03 -9.64459574e-02  1.27397221e-02 -1.46307847e-03\n",
            "   4.21673180e-02 -2.47269193e-02 -1.05730249e-01 -5.55070247e-03\n",
            "   2.77263887e-02  1.59605554e-03 -9.57060589e-03 -5.12580805e-02\n",
            "   6.20199362e-03 -6.59673903e-03  4.92051140e-02  9.65199320e-03\n",
            "   9.15238313e-02  1.17958312e-01  1.16830645e-02 -2.39306775e-02\n",
            "   1.41799582e-02  1.54631789e-02  2.66512309e-02  8.63170727e-03\n",
            "  -1.73788706e-02  2.14220927e-02 -1.07196875e-02 -5.91148308e-03\n",
            "   3.71193850e-02 -1.19387306e-02 -1.75865018e-02 -6.87108098e-02\n",
            "  -2.28561288e-02 -9.46770297e-02  4.20373383e-02 -1.80949809e-02\n",
            "   4.08832303e-02  3.75619817e-02 -3.94742032e-02 -9.89336908e-02\n",
            "   1.76568554e-02  4.40994585e-02  9.24629070e-02  8.28903588e-02\n",
            "   3.37251249e-02  3.95226495e-02  5.04628712e-03  1.11758210e-02\n",
            "  -2.35250305e-02 -5.88392349e-02  5.27143056e-02 -2.86446848e-02\n",
            "   2.80455992e-02  6.30757911e-02 -4.86511978e-03 -6.96030629e-02\n",
            "  -6.89188707e-02  7.04100388e-02  9.22701371e-02 -6.56285941e-02\n",
            "  -1.27919147e-02  7.05268247e-02  3.35166454e-02  1.55977885e-02\n",
            "   1.85106201e-02 -3.26539101e-02  3.68665945e-02  5.76249738e-02\n",
            "  -1.57812168e-02  6.73953669e-03  7.30153536e-03  3.89779506e-03\n",
            "  -2.28291424e-02 -3.37653666e-02 -1.02274781e-02  6.68339562e-02\n",
            "  -4.31504563e-02  6.03856896e-02 -2.02178163e-02 -2.83445190e-02\n",
            "   2.22422529e-02  4.06727656e-02  2.27915855e-02 -1.52639303e-02\n",
            "  -5.01592360e-02 -7.30116151e-02  3.46822191e-02  5.92371793e-02\n",
            "  -4.48363951e-03 -2.54476731e-02 -1.64964715e-03 -4.08726417e-02\n",
            "   2.20943810e-02  7.05921653e-02  2.10516021e-02 -3.73542286e-02\n",
            "  -5.48860827e-02 -2.58948923e-02 -2.20049828e-03  2.44804473e-03\n",
            "  -2.89094301e-02 -1.29506776e-02 -3.61354156e-02  4.49524091e-02\n",
            "   4.73449557e-02  9.39064045e-02  8.63124188e-02 -7.93671771e-03\n",
            "  -1.81228474e-02 -2.85551783e-02 -4.88633235e-02 -2.84898854e-02\n",
            "   1.60991495e-02  3.50346112e-02 -2.31100149e-02  3.65205992e-02\n",
            "   3.04935148e-02 -1.84678240e-02  4.86846875e-02  1.89141711e-02\n",
            "   8.15183773e-02  5.18734872e-03 -3.99386273e-03  3.45264547e-02\n",
            "  -8.95370986e-03  2.23297964e-02  7.64118901e-02  1.09860174e-02\n",
            "  -9.98477391e-02  2.90142362e-02  1.21333142e-02 -4.01549991e-02\n",
            "   4.14024161e-02 -6.82947191e-03  2.29491694e-03  6.55616833e-02\n",
            "   9.90505926e-02 -8.97943914e-02 -3.52280972e-03  6.88127265e-02\n",
            "   5.53589746e-02  7.71264313e-02 -3.15597950e-02 -6.91484481e-02\n",
            "   2.02898096e-02 -2.71856349e-02  7.28539078e-02  5.52565409e-02\n",
            "  -7.93346817e-02 -4.82211528e-02  3.64471659e-02  2.95621843e-03\n",
            "   4.75226347e-02 -3.44898510e-02  2.20225151e-02 -5.78727121e-02\n",
            "  -2.21732663e-02  3.48934464e-02 -1.09732407e-01 -6.38184353e-02\n",
            "  -4.64199400e-02  4.23196664e-02  5.49294016e-02 -6.67095635e-02\n",
            "   1.51366479e-03  1.01750082e-01 -2.23384418e-02  3.42159509e-02\n",
            "  -1.24997605e-02 -3.75568200e-02  3.03822073e-02  2.74532665e-02\n",
            "  -4.63000184e-03 -5.13682196e-02 -5.67473094e-02  4.77343493e-02\n",
            "   5.99593289e-02 -6.10056392e-02 -3.19063630e-02  1.23090378e-02\n",
            "   5.49322728e-02 -6.47029910e-03 -7.00161539e-02  1.74792529e-02\n",
            "   7.66342728e-02  6.08663078e-02 -2.23126297e-02  7.47689997e-02\n",
            "  -4.77650542e-03  5.26785517e-02  5.98408570e-03 -3.87731386e-02\n",
            "  -3.14452059e-02  3.74513408e-02  3.18422828e-02 -2.57468928e-02\n",
            "  -2.80022405e-02  3.30668814e-02  4.70391035e-02  7.53019985e-02\n",
            "  -1.70535181e-02  5.36314421e-02 -5.16733306e-02  6.13557599e-02\n",
            "   6.00348412e-02  5.31267175e-02 -4.93141374e-02  8.21302469e-02\n",
            "   2.65627315e-02  1.22796597e-02  5.33974813e-02 -5.71555486e-02\n",
            "  -2.88174149e-02  5.91214126e-02  4.24120166e-02 -8.67106452e-02\n",
            "   1.39793481e-02 -6.38891544e-02  5.78330372e-02  3.25173371e-02\n",
            "   5.15166595e-02  3.26671159e-02 -5.86571691e-02 -5.75469679e-02\n",
            "  -1.45196703e-02  7.38934172e-02  9.00984836e-04 -1.52302588e-03\n",
            "  -7.25934152e-02 -3.28534936e-02 -6.81535280e-02 -6.13247288e-02\n",
            "  -2.06245385e-02  1.55693960e-03  3.46942073e-02 -7.77125210e-02\n",
            "  -5.28741901e-02 -7.94282302e-02  4.14393306e-02 -4.34791450e-02\n",
            "   2.71123205e-02  1.51154234e-02 -1.81332005e-02  7.62537814e-02\n",
            "   2.98720213e-02 -1.95740821e-02 -5.28933844e-02  6.48559667e-02\n",
            "  -3.95838641e-02  4.77199355e-02  1.54770518e-03  9.73220889e-03\n",
            "   2.30053612e-02  4.88874183e-02 -3.53814865e-02 -7.65333498e-02\n",
            "  -5.84731991e-02  2.41072344e-03  8.51051872e-02 -1.14220853e-02\n",
            "  -3.40393586e-02 -4.71438839e-02  5.13362378e-02  3.32166312e-02\n",
            "  -1.69524035e-02  4.13343994e-02 -1.52134096e-02 -1.70094472e-03\n",
            "  -6.83422715e-02  5.11416372e-02  1.07499303e-03  1.21291381e-02\n",
            "  -9.38645154e-03  1.85167878e-03  6.96563162e-02 -3.90929499e-03\n",
            "  -3.68739570e-03 -3.24006633e-02  7.32488575e-02 -3.53027692e-02\n",
            "   2.01278045e-02 -3.43238673e-02 -5.11266538e-02 -2.80385320e-02\n",
            "   8.62900477e-02 -5.00454827e-03 -3.13927971e-02 -2.09757181e-02\n",
            "  -2.64940119e-02 -5.61745149e-03 -5.06746078e-02 -4.05455192e-02\n",
            "   2.33507303e-02 -2.94654319e-02  6.42770083e-02  4.10262070e-02\n",
            "   5.20039660e-02  7.84035149e-02  4.41109265e-02  1.06381768e-01\n",
            "   3.17663119e-02  5.85692491e-02 -1.54010350e-02  7.37319127e-02\n",
            "  -4.25066646e-03 -2.88917539e-02 -6.64000780e-03 -1.68737593e-02\n",
            "  -2.42830775e-02  4.56096250e-02 -9.82083186e-02  5.05111524e-02\n",
            "   1.40410601e-02 -7.37832140e-02 -9.53729511e-02 -4.09989311e-03\n",
            "  -3.30782597e-03  6.40765508e-03 -3.38795155e-02  2.15201562e-02\n",
            "   1.37883794e-02  3.63123012e-02 -4.73282909e-02 -2.27312341e-02\n",
            "   2.33890200e-02  1.64628583e-02  5.77882730e-02 -5.58130906e-02\n",
            "   9.73013840e-03  3.21778107e-02  7.49299844e-02  2.77766884e-02\n",
            "  -6.35914732e-02 -5.90070888e-03 -2.37712696e-02 -5.97073099e-02\n",
            "  -9.73018175e-03  1.50145916e-03 -2.23122932e-02 -7.69947829e-02\n",
            "   5.53326787e-02 -5.46431552e-02 -5.33883787e-02 -4.99981991e-02\n",
            "   6.35511653e-02 -1.91148382e-02  1.40465518e-02  3.32787504e-02\n",
            "   3.94004184e-02  2.16184428e-02  1.95778643e-02  4.41304173e-02\n",
            "  -5.47264461e-02 -3.64471952e-02  8.60259195e-02 -2.44351132e-02\n",
            "   3.85590942e-02  2.58107203e-02  4.06881690e-02 -7.15754394e-04\n",
            "  -1.23766933e-03 -4.11820705e-02 -1.70764001e-02  1.35922855e-02\n",
            "  -3.28691839e-02 -6.84149640e-02 -9.02812970e-02 -4.10960790e-02\n",
            "   9.35945038e-03  4.16984833e-02  2.86039942e-02 -7.17730705e-02\n",
            "   2.68706027e-02 -2.62964103e-02 -5.94631079e-02 -2.15578165e-02\n",
            "  -1.20713631e-02 -5.06936496e-02 -3.84963465e-02 -4.93102705e-02\n",
            "   9.78649966e-03 -4.10853772e-03  1.47034798e-02 -4.17046696e-02\n",
            "   2.40991221e-02  1.88076294e-02 -3.62949293e-02  6.97791443e-02\n",
            "  -4.06429547e-02 -1.52470324e-02 -1.41698916e-03 -1.00241899e-02\n",
            "   6.05677543e-02 -3.63897469e-02  2.70595493e-02 -3.75717346e-02\n",
            "   1.22168994e-02 -1.77291002e-02 -5.28398214e-03 -7.73748939e-03\n",
            "  -5.44999391e-02  7.55279107e-02  2.29201150e-02  2.38359429e-02\n",
            "  -3.29704485e-03 -2.83244538e-03 -8.73795994e-03  3.03385239e-02\n",
            "   5.59554176e-02 -9.83877286e-03  5.15847885e-02 -3.26474401e-02\n",
            "  -2.23174498e-02 -5.82499053e-03  4.11048624e-03 -2.07155375e-02\n",
            "   7.01907710e-03 -1.11101290e-02 -3.38093139e-02  2.76562705e-02\n",
            "   1.54944662e-02 -2.77028409e-02 -3.54500835e-02 -4.87336173e-02\n",
            "   7.05703819e-02  2.33696173e-02 -1.13373605e-02 -8.71468003e-02\n",
            "  -7.39158437e-03 -3.92754796e-02 -5.70216331e-02 -6.64801237e-02\n",
            "   3.52681989e-02  4.09259230e-02  5.03810146e-02 -6.28270017e-02\n",
            "   2.75833676e-02 -1.23464520e-02 -4.69694504e-02 -3.22853774e-02]]\n"
          ]
        }
      ]
    },
    {
      "cell_type": "markdown",
      "metadata": {
        "id": "C8R1hzKO_JBK"
      },
      "source": [
        "Generate a plot of the 2 principal components that were found. "
      ]
    },
    {
      "cell_type": "code",
      "metadata": {
        "id": "bWJejHj0_JBK",
        "colab": {
          "base_uri": "https://localhost:8080/",
          "height": 391
        },
        "outputId": "5d27d2a3-45ac-46e0-8e7d-494d08ce788c"
      },
      "source": [
        "plt.figure(figsize=(6,6))\n",
        "\n",
        "plt.scatter(x_pca[:,0], x_pca[:,1])"
      ],
      "execution_count": 23,
      "outputs": [
        {
          "output_type": "execute_result",
          "data": {
            "text/plain": [
              "<matplotlib.collections.PathCollection at 0x7f2f16e21390>"
            ]
          },
          "metadata": {},
          "execution_count": 23
        },
        {
          "output_type": "display_data",
          "data": {
            "text/plain": [
              "<Figure size 432x432 with 1 Axes>"
            ],
            "image/png": "[encoded data removed]"
          },
          "metadata": {
            "needs_background": "light"
          }
        }
      ]
    },
    {
      "cell_type": "markdown",
      "metadata": {
        "id": "XuLuLeF9_JBK"
      },
      "source": [
        "## KMeans"
      ]
    },
    {
      "cell_type": "markdown",
      "metadata": {
        "id": "SzxGpME0_JBK"
      },
      "source": [
        "Perform K-means clustering of the observations with K = 3. "
      ]
    },
    {
      "cell_type": "code",
      "source": [
        "from sklearn.datasets import make_blobs\n",
        "from sklearn.decomposition import PCA\n",
        "\n",
        "SEED = 123\n",
        "X, y = make_blobs(n_samples=10000, n_features=500, cluster_std=90., random_state=SEED)"
      ],
      "metadata": {
        "id": "aTgQ0JS46O4M"
      },
      "execution_count": 24,
      "outputs": []
    },
    {
      "cell_type": "code",
      "metadata": {
        "id": "paKNAkPZ_JBK",
        "colab": {
          "base_uri": "https://localhost:8080/",
          "height": 265
        },
        "outputId": "99a26440-08e1-4a03-adb4-45442d7e2594"
      },
      "source": [
        "import sklearn\n",
        "from sklearn.cluster import KMeans\n",
        "plt.scatter(auto['displacement'],auto['mpg'])\n",
        "kmeans = KMeans(n_clusters=3)\n",
        "kmeans.fit(X)\n",
        "y_predict = kmeans.predict(X)\n",
        "\n",
        "#ANSWER Q"
      ],
      "execution_count": 25,
      "outputs": [
        {
          "output_type": "display_data",
          "data": {
            "text/plain": [
              "<Figure size 432x288 with 1 Axes>"
            ],
            "image/png": "[encoded data removed]"
          },
          "metadata": {
            "needs_background": "light"
          }
        }
      ]
    },
    {
      "cell_type": "code",
      "source": [
        "print(sklearn.metrics.classification_report(y,y_predict))"
      ],
      "metadata": {
        "colab": {
          "base_uri": "https://localhost:8080/"
        },
        "id": "wzxLCfVbvwWb",
        "outputId": "aa983e71-e8ae-4855-a39f-8f43cef796ca"
      },
      "execution_count": 26,
      "outputs": [
        {
          "output_type": "stream",
          "name": "stdout",
          "text": [
            "              precision    recall  f1-score   support\n",
            "\n",
            "           0       0.72      0.73      0.73      3334\n",
            "           1       0.15      0.14      0.14      3333\n",
            "           2       0.14      0.14      0.14      3333\n",
            "\n",
            "    accuracy                           0.34     10000\n",
            "   macro avg       0.34      0.34      0.34     10000\n",
            "weighted avg       0.34      0.34      0.34     10000\n",
            "\n"
          ]
        }
      ]
    },
    {
      "cell_type": "code",
      "source": [
        "print(sklearn.metrics.classification_report(y,y_predict))"
      ],
      "metadata": {
        "colab": {
          "base_uri": "https://localhost:8080/"
        },
        "id": "ofRT3BPn5XNV",
        "outputId": "259a98d1-26b2-4f41-94c9-585bf8180f1a"
      },
      "execution_count": 27,
      "outputs": [
        {
          "output_type": "stream",
          "name": "stdout",
          "text": [
            "              precision    recall  f1-score   support\n",
            "\n",
            "           0       0.72      0.73      0.73      3334\n",
            "           1       0.15      0.14      0.14      3333\n",
            "           2       0.14      0.14      0.14      3333\n",
            "\n",
            "    accuracy                           0.34     10000\n",
            "   macro avg       0.34      0.34      0.34     10000\n",
            "weighted avg       0.34      0.34      0.34     10000\n",
            "\n"
          ]
        }
      ]
    },
    {
      "cell_type": "code",
      "source": [
        "print(sklearn.metrics.classification_report(y,y_predict))"
      ],
      "metadata": {
        "colab": {
          "base_uri": "https://localhost:8080/"
        },
        "id": "MURNw10T5bts",
        "outputId": "a5d72b7d-4572-4e0e-ec8f-a92224ab5eaa"
      },
      "execution_count": 28,
      "outputs": [
        {
          "output_type": "stream",
          "name": "stdout",
          "text": [
            "              precision    recall  f1-score   support\n",
            "\n",
            "           0       0.72      0.73      0.73      3334\n",
            "           1       0.15      0.14      0.14      3333\n",
            "           2       0.14      0.14      0.14      3333\n",
            "\n",
            "    accuracy                           0.34     10000\n",
            "   macro avg       0.34      0.34      0.34     10000\n",
            "weighted avg       0.34      0.34      0.34     10000\n",
            "\n"
          ]
        }
      ]
    },
    {
      "cell_type": "code",
      "source": [
        "print(sklearn.metrics.classification_report(y,y_predict))\n",
        "\n",
        "#The clusters compared to the true class labels are fairly poor as their precission is generally closer to 1 or 0"
      ],
      "metadata": {
        "colab": {
          "base_uri": "https://localhost:8080/"
        },
        "id": "7BVQUsUM5ejM",
        "outputId": "0b2a3657-1307-48cd-dbb6-8ee0790fb3aa"
      },
      "execution_count": 29,
      "outputs": [
        {
          "output_type": "stream",
          "name": "stdout",
          "text": [
            "              precision    recall  f1-score   support\n",
            "\n",
            "           0       0.72      0.73      0.73      3334\n",
            "           1       0.15      0.14      0.14      3333\n",
            "           2       0.14      0.14      0.14      3333\n",
            "\n",
            "    accuracy                           0.34     10000\n",
            "   macro avg       0.34      0.34      0.34     10000\n",
            "weighted avg       0.34      0.34      0.34     10000\n",
            "\n"
          ]
        }
      ]
    },
    {
      "cell_type": "markdown",
      "metadata": {
        "id": "Wc-flC9Q_JBL"
      },
      "source": [
        "Perform K-means clustering with K = 2. "
      ]
    },
    {
      "cell_type": "code",
      "metadata": {
        "id": "C8lp-qpc_JBL",
        "colab": {
          "base_uri": "https://localhost:8080/",
          "height": 265
        },
        "outputId": "6693314d-160c-4c4a-a7ea-90f61b10f234"
      },
      "source": [
        "from sklearn.cluster import KMeans\n",
        "plt.scatter(auto['displacement'],auto['mpg'])\n",
        "kmeans = KMeans(n_clusters=2)\n",
        "kmeans.fit(X)\n",
        "y_predict = kmeans.predict(X)"
      ],
      "execution_count": 30,
      "outputs": [
        {
          "output_type": "display_data",
          "data": {
            "text/plain": [
              "<Figure size 432x288 with 1 Axes>"
            ],
            "image/png": "[encoded data removed]"
          },
          "metadata": {
            "needs_background": "light"
          }
        }
      ]
    },
    {
      "cell_type": "code",
      "source": [
        "print(sklearn.metrics.classification_report(y,y_predict))"
      ],
      "metadata": {
        "colab": {
          "base_uri": "https://localhost:8080/"
        },
        "id": "TG3dE_6mx2Ld",
        "outputId": "19580ed3-61b8-40a3-f43f-cb973082947e"
      },
      "execution_count": 31,
      "outputs": [
        {
          "output_type": "stream",
          "name": "stdout",
          "text": [
            "              precision    recall  f1-score   support\n",
            "\n",
            "           0       0.55      0.84      0.67      3334\n",
            "           1       0.33      0.48      0.39      3333\n",
            "           2       0.00      0.00      0.00      3333\n",
            "\n",
            "    accuracy                           0.44     10000\n",
            "   macro avg       0.29      0.44      0.35     10000\n",
            "weighted avg       0.29      0.44      0.35     10000\n",
            "\n"
          ]
        },
        {
          "output_type": "stream",
          "name": "stderr",
          "text": [
            "/usr/local/lib/python3.7/dist-packages/sklearn/metrics/_classification.py:1318: UndefinedMetricWarning: Precision and F-score are ill-defined and being set to 0.0 in labels with no predicted samples. Use `zero_division` parameter to control this behavior.\n",
            "  _warn_prf(average, modifier, msg_start, len(result))\n",
            "/usr/local/lib/python3.7/dist-packages/sklearn/metrics/_classification.py:1318: UndefinedMetricWarning: Precision and F-score are ill-defined and being set to 0.0 in labels with no predicted samples. Use `zero_division` parameter to control this behavior.\n",
            "  _warn_prf(average, modifier, msg_start, len(result))\n",
            "/usr/local/lib/python3.7/dist-packages/sklearn/metrics/_classification.py:1318: UndefinedMetricWarning: Precision and F-score are ill-defined and being set to 0.0 in labels with no predicted samples. Use `zero_division` parameter to control this behavior.\n",
            "  _warn_prf(average, modifier, msg_start, len(result))\n"
          ]
        }
      ]
    },
    {
      "cell_type": "code",
      "source": [
        "print(sklearn.metrics.classification_report(y,y_predict))\n",
        "\n",
        "#The clusters compared to the true class labels are fairly poor as their precission is generally far from 0 and 1. "
      ],
      "metadata": {
        "colab": {
          "base_uri": "https://localhost:8080/"
        },
        "id": "wZYB7ewF5xR3",
        "outputId": "ab0c80b6-46d8-4736-cfb7-f719a303d717"
      },
      "execution_count": 32,
      "outputs": [
        {
          "output_type": "stream",
          "name": "stdout",
          "text": [
            "              precision    recall  f1-score   support\n",
            "\n",
            "           0       0.55      0.84      0.67      3334\n",
            "           1       0.33      0.48      0.39      3333\n",
            "           2       0.00      0.00      0.00      3333\n",
            "\n",
            "    accuracy                           0.44     10000\n",
            "   macro avg       0.29      0.44      0.35     10000\n",
            "weighted avg       0.29      0.44      0.35     10000\n",
            "\n"
          ]
        },
        {
          "output_type": "stream",
          "name": "stderr",
          "text": [
            "/usr/local/lib/python3.7/dist-packages/sklearn/metrics/_classification.py:1318: UndefinedMetricWarning: Precision and F-score are ill-defined and being set to 0.0 in labels with no predicted samples. Use `zero_division` parameter to control this behavior.\n",
            "  _warn_prf(average, modifier, msg_start, len(result))\n",
            "/usr/local/lib/python3.7/dist-packages/sklearn/metrics/_classification.py:1318: UndefinedMetricWarning: Precision and F-score are ill-defined and being set to 0.0 in labels with no predicted samples. Use `zero_division` parameter to control this behavior.\n",
            "  _warn_prf(average, modifier, msg_start, len(result))\n",
            "/usr/local/lib/python3.7/dist-packages/sklearn/metrics/_classification.py:1318: UndefinedMetricWarning: Precision and F-score are ill-defined and being set to 0.0 in labels with no predicted samples. Use `zero_division` parameter to control this behavior.\n",
            "  _warn_prf(average, modifier, msg_start, len(result))\n"
          ]
        }
      ]
    },
    {
      "cell_type": "markdown",
      "metadata": {
        "id": "nu5b8evj_JBL"
      },
      "source": [
        "Now perform K-means clustering with K = 4"
      ]
    },
    {
      "cell_type": "code",
      "metadata": {
        "id": "MQLIcslZ_JBL",
        "colab": {
          "base_uri": "https://localhost:8080/",
          "height": 265
        },
        "outputId": "21348a68-da6e-49ed-c6a4-1f87bfd0e6d1"
      },
      "source": [
        "from sklearn.cluster import KMeans\n",
        "plt.scatter(auto['displacement'],auto['mpg'])\n",
        "kmeans = KMeans(n_clusters=4)\n",
        "kmeans.fit(X)\n",
        "y_predict = kmeans.predict(X)"
      ],
      "execution_count": 33,
      "outputs": [
        {
          "output_type": "display_data",
          "data": {
            "text/plain": [
              "<Figure size 432x288 with 1 Axes>"
            ],
            "image/png": "[encoded data removed]"
          },
          "metadata": {
            "needs_background": "light"
          }
        }
      ]
    },
    {
      "cell_type": "code",
      "source": [
        "print(sklearn.metrics.classification_report(y,y_predict))\n",
        "\n",
        "#The clusters compared to the true class labels are fairly OK as their precission is generally good as they're fairly close to 0 or 1 (with the exception of the first cluster)"
      ],
      "metadata": {
        "colab": {
          "base_uri": "https://localhost:8080/"
        },
        "id": "IRxbpngux5Hc",
        "outputId": "03c1e1d5-20ae-4efb-e144-85083bafab2b"
      },
      "execution_count": 34,
      "outputs": [
        {
          "output_type": "stream",
          "name": "stdout",
          "text": [
            "              precision    recall  f1-score   support\n",
            "\n",
            "           0       0.09      0.08      0.09      3334\n",
            "           1       0.23      0.16      0.19      3333\n",
            "           2       0.15      0.11      0.13      3333\n",
            "           3       0.00      0.00      0.00         0\n",
            "\n",
            "    accuracy                           0.12     10000\n",
            "   macro avg       0.12      0.09      0.10     10000\n",
            "weighted avg       0.16      0.12      0.13     10000\n",
            "\n"
          ]
        },
        {
          "output_type": "stream",
          "name": "stderr",
          "text": [
            "/usr/local/lib/python3.7/dist-packages/sklearn/metrics/_classification.py:1318: UndefinedMetricWarning: Recall and F-score are ill-defined and being set to 0.0 in labels with no true samples. Use `zero_division` parameter to control this behavior.\n",
            "  _warn_prf(average, modifier, msg_start, len(result))\n",
            "/usr/local/lib/python3.7/dist-packages/sklearn/metrics/_classification.py:1318: UndefinedMetricWarning: Recall and F-score are ill-defined and being set to 0.0 in labels with no true samples. Use `zero_division` parameter to control this behavior.\n",
            "  _warn_prf(average, modifier, msg_start, len(result))\n",
            "/usr/local/lib/python3.7/dist-packages/sklearn/metrics/_classification.py:1318: UndefinedMetricWarning: Recall and F-score are ill-defined and being set to 0.0 in labels with no true samples. Use `zero_division` parameter to control this behavior.\n",
            "  _warn_prf(average, modifier, msg_start, len(result))\n"
          ]
        }
      ]
    },
    {
      "cell_type": "markdown",
      "metadata": {
        "id": "UDP6z0_3_JBL"
      },
      "source": [
        "# Now perform K-means clustering with K = 3 on the first two principal component score vectors, rather than on the raw data. "
      ]
    },
    {
      "cell_type": "code",
      "metadata": {
        "id": "AMh4NywY_JBL",
        "colab": {
          "base_uri": "https://localhost:8080/"
        },
        "outputId": "ad66c8a4-109f-425c-81d9-8a9b47f52d1d"
      },
      "source": [
        "from sklearn.cluster import KMeans\n",
        "from sklearn.preprocessing import StandardScaler\n",
        "\n",
        "#scalar\n",
        "#pca transform\n",
        "#normal stuff\n",
        "\n",
        "scaler = StandardScaler()\n",
        "scaler.fit(X)\n",
        "X_scaled = scaler.transform(X)\n",
        "\n",
        "pca = PCA(n_components=3)\n",
        "pca.fit(x_scaled)\n",
        "x_pca = pca.transform(x_scaled)\n",
        "\n",
        "kmeans = KMeans(n_clusters=3)\n",
        "kmeans.fit(x_pca)\n",
        "y_predict = kmeans.predict(x_pca)\n",
        "\n",
        "print(sklearn.metrics.classification_report(y, y_predict))"
      ],
      "execution_count": 35,
      "outputs": [
        {
          "output_type": "stream",
          "name": "stdout",
          "text": [
            "              precision    recall  f1-score   support\n",
            "\n",
            "           0       0.12      0.12      0.12      3334\n",
            "           1       0.17      0.18      0.17      3333\n",
            "           2       0.15      0.14      0.15      3333\n",
            "\n",
            "    accuracy                           0.15     10000\n",
            "   macro avg       0.15      0.15      0.15     10000\n",
            "weighted avg       0.15      0.15      0.15     10000\n",
            "\n"
          ]
        }
      ]
    },
    {
      "cell_type": "markdown",
      "metadata": {
        "id": "BWzgjf6Y_JBL"
      },
      "source": [
        "Using of of sklearn's data scalers, perform K-means clustering with K = 3 on the data after scaling each variable to have standard deviation one. "
      ]
    },
    {
      "cell_type": "code",
      "metadata": {
        "id": "y1AyVAGQ_JBL",
        "colab": {
          "base_uri": "https://localhost:8080/"
        },
        "outputId": "95f518c0-5d5a-45ce-c1f4-f01263cc969d"
      },
      "source": [
        "scaler = StandardScaler()\n",
        "scaler.fit(X)\n",
        "X_scaled = scaler.transform(X)\n",
        "x_scaled.shape\n",
        "\n",
        "\n",
        "kmeans = KMeans(n_clusters=3)\n",
        "kmeans.fit(x_scaled)\n",
        "y_predict = kmeans.predict(x_scaled)\n",
        "\n",
        "print(sklearn.metrics.classification_report(y, y_predict))"
      ],
      "execution_count": 36,
      "outputs": [
        {
          "output_type": "stream",
          "name": "stdout",
          "text": [
            "              precision    recall  f1-score   support\n",
            "\n",
            "           0       0.12      0.12      0.12      3334\n",
            "           1       0.70      0.71      0.70      3333\n",
            "           2       0.12      0.12      0.12      3333\n",
            "\n",
            "    accuracy                           0.32     10000\n",
            "   macro avg       0.31      0.32      0.31     10000\n",
            "weighted avg       0.31      0.32      0.31     10000\n",
            "\n"
          ]
        }
      ]
    },
    {
      "cell_type": "markdown",
      "metadata": {
        "id": "HSIT4LfE_JBL"
      },
      "source": [
        "## Supervised Machine Learning\n"
      ]
    },
    {
      "cell_type": "code",
      "metadata": {
        "id": "qLwPgLPO_JBL"
      },
      "source": [
        "import pandas as pd\n",
        "import numpy as np\n",
        "auto=pd.read_csv('/content/gdrive/My Drive/Econ 484/Auto.csv')\n",
        "from sklearn import datasets\n",
        "from sklearn.datasets import make_blobs\n",
        "from sklearn.decomposition import PCA\n",
        "auto = auto[auto['horsepower']!='?']\n",
        "\n",
        "auto['horsepower'] = auto ['horsepower'].astype('int32')\n",
        "\n"
      ],
      "execution_count": 37,
      "outputs": []
    },
    {
      "cell_type": "code",
      "metadata": {
        "id": "zzaNK9VATIp7",
        "colab": {
          "base_uri": "https://localhost:8080/"
        },
        "outputId": "c6895107-c968-4786-987a-d203659075a6"
      },
      "source": [
        "auto.columns"
      ],
      "execution_count": 38,
      "outputs": [
        {
          "output_type": "execute_result",
          "data": {
            "text/plain": [
              "Index(['mpg', 'cylinders', 'displacement', 'horsepower', 'weight',\n",
              "       'acceleration', 'year', 'origin', 'name'],\n",
              "      dtype='object')"
            ]
          },
          "metadata": {},
          "execution_count": 38
        }
      ]
    },
    {
      "cell_type": "code",
      "metadata": {
        "id": "D5ROmQOO_JBM"
      },
      "source": [
        "# this creates a variable named mpg01 that indicates whetehr or not gas mileage iss above the median of the sample\n",
        "\n",
        "auto['mpg01'] = auto['mpg'] > auto['mpg'].median()"
      ],
      "execution_count": 39,
      "outputs": []
    },
    {
      "cell_type": "markdown",
      "metadata": {
        "id": "oYZeg2ri_JBM"
      },
      "source": [
        ".\n",
        "```python\n",
        "from sklearn.submoodule import Model # import a model from the appropriate submodule of scikit-learn\n",
        "model_obj = Model() # create a model object with relevant tuning parameters\n",
        "model_obj.fit(X, y) # fit the model to your data\n",
        "model_obj.score(X, y) # get a score of how well the model does using a loss function\n",
        "```"
      ]
    },
    {
      "cell_type": "markdown",
      "metadata": {
        "id": "uGVtfguJ_JBM"
      },
      "source": [
        "$(a)$ Create an X matrix and a Y vector. The variable you created called `mpg01` will be the y variable.  \n"
      ]
    },
    {
      "cell_type": "code",
      "metadata": {
        "id": "gurzsHJj_JBM"
      },
      "source": [
        "X=auto.loc[:,[x for x in auto.columns if x not in ('mpg','name', 'mpg01')]]\n",
        "y=auto.loc[:,'mpg01']\n",
        "\n",
        "#Horsepower shoulldn't be included "
      ],
      "execution_count": 40,
      "outputs": []
    },
    {
      "cell_type": "markdown",
      "metadata": {
        "id": "WGpqXeSp_JBM"
      },
      "source": [
        "$(b)$ Perform Linear Discriminant Analysis (LDA) on the training data in order to predict `mpg01`."
      ]
    },
    {
      "cell_type": "code",
      "metadata": {
        "id": "DW76arbH_JBM",
        "colab": {
          "base_uri": "https://localhost:8080/"
        },
        "outputId": "5b37f6c8-b820-49ab-f0c4-039b0253a425"
      },
      "source": [
        "from sklearn.discriminant_analysis import LinearDiscriminantAnalysis\n",
        "aut = LinearDiscriminantAnalysis()\n",
        "aut.fit(X, y)\n",
        "LinearDiscriminantAnalysis()\n",
        "aut.score(X, y)\n",
        "\n",
        "#The model is highly accurate as it is 0.9107\n",
        "\n",
        "\n"
      ],
      "execution_count": 41,
      "outputs": [
        {
          "output_type": "execute_result",
          "data": {
            "text/plain": [
              "0.9107142857142857"
            ]
          },
          "metadata": {},
          "execution_count": 41
        }
      ]
    },
    {
      "cell_type": "markdown",
      "metadata": {
        "id": "MNkv4pXb_JBM"
      },
      "source": [
        "$(c)$ Perform Quadratic Discriminant Analysis (QDA) on the training data in order to predict `mpg01`. "
      ]
    },
    {
      "cell_type": "code",
      "metadata": {
        "id": "8Ohhr9zG_JBN",
        "colab": {
          "base_uri": "https://localhost:8080/"
        },
        "outputId": "f6c0850c-ca25-4e5a-c449-efacf07ced49"
      },
      "source": [
        "from sklearn.discriminant_analysis import QuadraticDiscriminantAnalysis\n",
        "aut = QuadraticDiscriminantAnalysis()\n",
        "aut.fit(X, y)\n",
        "aut.score(X, y)\n",
        "\n",
        "#The model is highly accurate as it is 0.9158"
      ],
      "execution_count": 42,
      "outputs": [
        {
          "output_type": "execute_result",
          "data": {
            "text/plain": [
              "0.9158163265306123"
            ]
          },
          "metadata": {},
          "execution_count": 42
        }
      ]
    },
    {
      "cell_type": "markdown",
      "metadata": {
        "id": "KVtA1HZj_JBN"
      },
      "source": [
        "$(d)$ Perform logistic regression on the training data in order to predict `mpg01`. "
      ]
    },
    {
      "cell_type": "code",
      "metadata": {
        "id": "jp9oya6O_JBN",
        "colab": {
          "base_uri": "https://localhost:8080/"
        },
        "outputId": "9c5386f6-37b2-4b28-da0a-f7036af8edca"
      },
      "source": [
        "from sklearn.linear_model import LogisticRegression\n",
        "aut = LogisticRegression()\n",
        "aut.fit(X, y)\n",
        "aut.score(X, y)\n",
        "\n",
        "#The model is highly accurate as it is 0.9031"
      ],
      "execution_count": 43,
      "outputs": [
        {
          "output_type": "execute_result",
          "data": {
            "text/plain": [
              "0.9030612244897959"
            ]
          },
          "metadata": {},
          "execution_count": 43
        }
      ]
    },
    {
      "cell_type": "markdown",
      "metadata": {
        "id": "BNUc9ykS_JBN"
      },
      "source": [
        "$(e)$ Perform K-nearest Neighbors on the training data in order to predict `mpg01`. "
      ]
    },
    {
      "cell_type": "code",
      "source": [
        "import numpy as np\n",
        "import pandas as pd\n",
        "from matplotlib import pyplot as plt\n",
        "from sklearn.datasets import load_breast_cancer\n",
        "from sklearn.metrics import confusion_matrix\n",
        "from sklearn.neighbors import KNeighborsClassifier\n",
        "from sklearn.model_selection import train_test_split\n",
        "import seaborn as sns\n",
        "sns.set()\n",
        "\n"
      ],
      "metadata": {
        "id": "WUP_2bdO9slz"
      },
      "execution_count": 44,
      "outputs": []
    },
    {
      "cell_type": "code",
      "metadata": {
        "colab": {
          "base_uri": "https://localhost:8080/"
        },
        "id": "BOJyVfoIOlTM",
        "outputId": "d09d4b02-02b7-461c-c23c-119067ad5563"
      },
      "source": [
        "K_values = [1, 2, 4, 8, 15, 20, 30, 50, 100]\n",
        "for k in K_values:\n",
        "    neigh = KNeighborsClassifier(n_neighbors=k)\n",
        "    neigh.fit(auto[['cylinders', 'displacement', 'weight', 'acceleration', 'year', 'horsepower']], auto['mpg01'])\n",
        "    y_predict = neigh.predict(auto[['cylinders', 'displacement', 'weight', 'acceleration', 'year', 'horsepower']])\n",
        "\n",
        "    print(sklearn.metrics.classification_report(auto['mpg01'], y_predict))\n",
        "\n",
        "   "
      ],
      "execution_count": 45,
      "outputs": [
        {
          "output_type": "stream",
          "name": "stdout",
          "text": [
            "              precision    recall  f1-score   support\n",
            "\n",
            "       False       1.00      1.00      1.00       196\n",
            "        True       1.00      1.00      1.00       196\n",
            "\n",
            "    accuracy                           1.00       392\n",
            "   macro avg       1.00      1.00      1.00       392\n",
            "weighted avg       1.00      1.00      1.00       392\n",
            "\n",
            "              precision    recall  f1-score   support\n",
            "\n",
            "       False       0.90      1.00      0.95       196\n",
            "        True       1.00      0.89      0.94       196\n",
            "\n",
            "    accuracy                           0.94       392\n",
            "   macro avg       0.95      0.94      0.94       392\n",
            "weighted avg       0.95      0.94      0.94       392\n",
            "\n",
            "              precision    recall  f1-score   support\n",
            "\n",
            "       False       0.91      0.92      0.91       196\n",
            "        True       0.92      0.90      0.91       196\n",
            "\n",
            "    accuracy                           0.91       392\n",
            "   macro avg       0.91      0.91      0.91       392\n",
            "weighted avg       0.91      0.91      0.91       392\n",
            "\n",
            "              precision    recall  f1-score   support\n",
            "\n",
            "       False       0.90      0.91      0.91       196\n",
            "        True       0.91      0.90      0.90       196\n",
            "\n",
            "    accuracy                           0.91       392\n",
            "   macro avg       0.91      0.91      0.91       392\n",
            "weighted avg       0.91      0.91      0.91       392\n",
            "\n",
            "              precision    recall  f1-score   support\n",
            "\n",
            "       False       0.93      0.85      0.89       196\n",
            "        True       0.86      0.93      0.90       196\n",
            "\n",
            "    accuracy                           0.89       392\n",
            "   macro avg       0.90      0.89      0.89       392\n",
            "weighted avg       0.90      0.89      0.89       392\n",
            "\n",
            "              precision    recall  f1-score   support\n",
            "\n",
            "       False       0.90      0.86      0.88       196\n",
            "        True       0.86      0.91      0.89       196\n",
            "\n",
            "    accuracy                           0.88       392\n",
            "   macro avg       0.88      0.88      0.88       392\n",
            "weighted avg       0.88      0.88      0.88       392\n",
            "\n",
            "              precision    recall  f1-score   support\n",
            "\n",
            "       False       0.89      0.87      0.88       196\n",
            "        True       0.87      0.89      0.88       196\n",
            "\n",
            "    accuracy                           0.88       392\n",
            "   macro avg       0.88      0.88      0.88       392\n",
            "weighted avg       0.88      0.88      0.88       392\n",
            "\n",
            "              precision    recall  f1-score   support\n",
            "\n",
            "       False       0.90      0.86      0.88       196\n",
            "        True       0.86      0.90      0.88       196\n",
            "\n",
            "    accuracy                           0.88       392\n",
            "   macro avg       0.88      0.88      0.88       392\n",
            "weighted avg       0.88      0.88      0.88       392\n",
            "\n",
            "              precision    recall  f1-score   support\n",
            "\n",
            "       False       0.91      0.85      0.88       196\n",
            "        True       0.86      0.92      0.89       196\n",
            "\n",
            "    accuracy                           0.88       392\n",
            "   macro avg       0.88      0.88      0.88       392\n",
            "weighted avg       0.88      0.88      0.88       392\n",
            "\n"
          ]
        }
      ]
    },
    {
      "cell_type": "code",
      "source": [
        "auto"
      ],
      "metadata": {
        "colab": {
          "base_uri": "https://localhost:8080/",
          "height": 424
        },
        "id": "QSfyUecN_cYK",
        "outputId": "38ac395f-08b8-41bb-fc4a-db7ddef29db7"
      },
      "execution_count": 46,
      "outputs": [
        {
          "output_type": "execute_result",
          "data": {
            "text/plain": [
              "      mpg  cylinders  displacement  horsepower  weight  acceleration  year  \\\n",
              "0    18.0          8         307.0         130    3504          12.0    70   \n",
              "1    15.0          8         350.0         165    3693          11.5    70   \n",
              "2    18.0          8         318.0         150    3436          11.0    70   \n",
              "3    16.0          8         304.0         150    3433          12.0    70   \n",
              "4    17.0          8         302.0         140    3449          10.5    70   \n",
              "..    ...        ...           ...         ...     ...           ...   ...   \n",
              "392  27.0          4         140.0          86    2790          15.6    82   \n",
              "393  44.0          4          97.0          52    2130          24.6    82   \n",
              "394  32.0          4         135.0          84    2295          11.6    82   \n",
              "395  28.0          4         120.0          79    2625          18.6    82   \n",
              "396  31.0          4         119.0          82    2720          19.4    82   \n",
              "\n",
              "     origin                       name  mpg01  \n",
              "0         1  chevrolet chevelle malibu  False  \n",
              "1         1          buick skylark 320  False  \n",
              "2         1         plymouth satellite  False  \n",
              "3         1              amc rebel sst  False  \n",
              "4         1                ford torino  False  \n",
              "..      ...                        ...    ...  \n",
              "392       1            ford mustang gl   True  \n",
              "393       2                  vw pickup   True  \n",
              "394       1              dodge rampage   True  \n",
              "395       1                ford ranger   True  \n",
              "396       1                 chevy s-10   True  \n",
              "\n",
              "[392 rows x 10 columns]"
            ],
            "text/html": [
              "\n",
              "  <div id=\"df-6cb98396-f314-49a7-81ed-7f6e99111575\">\n",
              "    <div class=\"colab-df-container\">\n",
              "      <div>\n",
              "<style scoped>\n",
              "    .dataframe tbody tr th:only-of-type {\n",
              "        vertical-align: middle;\n",
              "    }\n",
              "\n",
              "    .dataframe tbody tr th {\n",
              "        vertical-align: top;\n",
              "    }\n",
              "\n",
              "    .dataframe thead th {\n",
              "        text-align: right;\n",
              "    }\n",
              "</style>\n",
              "<table border=\"1\" class=\"dataframe\">\n",
              "  <thead>\n",
              "    <tr style=\"text-align: right;\">\n",
              "      <th></th>\n",
              "      <th>mpg</th>\n",
              "      <th>cylinders</th>\n",
              "      <th>displacement</th>\n",
              "      <th>horsepower</th>\n",
              "      <th>weight</th>\n",
              "      <th>acceleration</th>\n",
              "      <th>year</th>\n",
              "      <th>origin</th>\n",
              "      <th>name</th>\n",
              "      <th>mpg01</th>\n",
              "    </tr>\n",
              "  </thead>\n",
              "  <tbody>\n",
              "    <tr>\n",
              "      <th>0</th>\n",
              "      <td>18.0</td>\n",
              "      <td>8</td>\n",
              "      <td>307.0</td>\n",
              "      <td>130</td>\n",
              "      <td>3504</td>\n",
              "      <td>12.0</td>\n",
              "      <td>70</td>\n",
              "      <td>1</td>\n",
              "      <td>chevrolet chevelle malibu</td>\n",
              "      <td>False</td>\n",
              "    </tr>\n",
              "    <tr>\n",
              "      <th>1</th>\n",
              "      <td>15.0</td>\n",
              "      <td>8</td>\n",
              "      <td>350.0</td>\n",
              "      <td>165</td>\n",
              "      <td>3693</td>\n",
              "      <td>11.5</td>\n",
              "      <td>70</td>\n",
              "      <td>1</td>\n",
              "      <td>buick skylark 320</td>\n",
              "      <td>False</td>\n",
              "    </tr>\n",
              "    <tr>\n",
              "      <th>2</th>\n",
              "      <td>18.0</td>\n",
              "      <td>8</td>\n",
              "      <td>318.0</td>\n",
              "      <td>150</td>\n",
              "      <td>3436</td>\n",
              "      <td>11.0</td>\n",
              "      <td>70</td>\n",
              "      <td>1</td>\n",
              "      <td>plymouth satellite</td>\n",
              "      <td>False</td>\n",
              "    </tr>\n",
              "    <tr>\n",
              "      <th>3</th>\n",
              "      <td>16.0</td>\n",
              "      <td>8</td>\n",
              "      <td>304.0</td>\n",
              "      <td>150</td>\n",
              "      <td>3433</td>\n",
              "      <td>12.0</td>\n",
              "      <td>70</td>\n",
              "      <td>1</td>\n",
              "      <td>amc rebel sst</td>\n",
              "      <td>False</td>\n",
              "    </tr>\n",
              "    <tr>\n",
              "      <th>4</th>\n",
              "      <td>17.0</td>\n",
              "      <td>8</td>\n",
              "      <td>302.0</td>\n",
              "      <td>140</td>\n",
              "      <td>3449</td>\n",
              "      <td>10.5</td>\n",
              "      <td>70</td>\n",
              "      <td>1</td>\n",
              "      <td>ford torino</td>\n",
              "      <td>False</td>\n",
              "    </tr>\n",
              "    <tr>\n",
              "      <th>...</th>\n",
              "      <td>...</td>\n",
              "      <td>...</td>\n",
              "      <td>...</td>\n",
              "      <td>...</td>\n",
              "      <td>...</td>\n",
              "      <td>...</td>\n",
              "      <td>...</td>\n",
              "      <td>...</td>\n",
              "      <td>...</td>\n",
              "      <td>...</td>\n",
              "    </tr>\n",
              "    <tr>\n",
              "      <th>392</th>\n",
              "      <td>27.0</td>\n",
              "      <td>4</td>\n",
              "      <td>140.0</td>\n",
              "      <td>86</td>\n",
              "      <td>2790</td>\n",
              "      <td>15.6</td>\n",
              "      <td>82</td>\n",
              "      <td>1</td>\n",
              "      <td>ford mustang gl</td>\n",
              "      <td>True</td>\n",
              "    </tr>\n",
              "    <tr>\n",
              "      <th>393</th>\n",
              "      <td>44.0</td>\n",
              "      <td>4</td>\n",
              "      <td>97.0</td>\n",
              "      <td>52</td>\n",
              "      <td>2130</td>\n",
              "      <td>24.6</td>\n",
              "      <td>82</td>\n",
              "      <td>2</td>\n",
              "      <td>vw pickup</td>\n",
              "      <td>True</td>\n",
              "    </tr>\n",
              "    <tr>\n",
              "      <th>394</th>\n",
              "      <td>32.0</td>\n",
              "      <td>4</td>\n",
              "      <td>135.0</td>\n",
              "      <td>84</td>\n",
              "      <td>2295</td>\n",
              "      <td>11.6</td>\n",
              "      <td>82</td>\n",
              "      <td>1</td>\n",
              "      <td>dodge rampage</td>\n",
              "      <td>True</td>\n",
              "    </tr>\n",
              "    <tr>\n",
              "      <th>395</th>\n",
              "      <td>28.0</td>\n",
              "      <td>4</td>\n",
              "      <td>120.0</td>\n",
              "      <td>79</td>\n",
              "      <td>2625</td>\n",
              "      <td>18.6</td>\n",
              "      <td>82</td>\n",
              "      <td>1</td>\n",
              "      <td>ford ranger</td>\n",
              "      <td>True</td>\n",
              "    </tr>\n",
              "    <tr>\n",
              "      <th>396</th>\n",
              "      <td>31.0</td>\n",
              "      <td>4</td>\n",
              "      <td>119.0</td>\n",
              "      <td>82</td>\n",
              "      <td>2720</td>\n",
              "      <td>19.4</td>\n",
              "      <td>82</td>\n",
              "      <td>1</td>\n",
              "      <td>chevy s-10</td>\n",
              "      <td>True</td>\n",
              "    </tr>\n",
              "  </tbody>\n",
              "</table>\n",
              "<p>392 rows × 10 columns</p>\n",
              "</div>\n",
              "      <button class=\"colab-df-convert\" onclick=\"convertToInteractive('df-6cb98396-f314-49a7-81ed-7f6e99111575')\"\n",
              "              title=\"Convert this dataframe to an interactive table.\"\n",
              "              style=\"display:none;\">\n",
              "        \n",
              "  <svg xmlns=\"http://www.w3.org/2000/svg\" height=\"24px\"viewBox=\"0 0 24 24\"\n",
              "       width=\"24px\">\n",
              "    <path d=\"M0 0h24v24H0V0z\" fill=\"none\"/>\n",
              "    <path d=\"M18.56 5.44l.94 2.06.94-2.06 2.06-.94-2.06-.94-.94-2.06-.94 2.06-2.06.94zm-11 1L8.5 8.5l.94-2.06 2.06-.94-2.06-.94L8.5 2.5l-.94 2.06-2.06.94zm10 10l.94 2.06.94-2.06 2.06-.94-2.06-.94-.94-2.06-.94 2.06-2.06.94z\"/><path d=\"M17.41 7.96l-1.37-1.37c-.4-.4-.92-.59-1.43-.59-.52 0-1.04.2-1.43.59L10.3 9.45l-7.72 7.72c-.78.78-.78 2.05 0 2.83L4 21.41c.39.39.9.59 1.41.59.51 0 1.02-.2 1.41-.59l7.78-7.78 2.81-2.81c.8-.78.8-2.07 0-2.86zM5.41 20L4 18.59l7.72-7.72 1.47 1.35L5.41 20z\"/>\n",
              "  </svg>\n",
              "      </button>\n",
              "      \n",
              "  <style>\n",
              "    .colab-df-container {\n",
              "      display:flex;\n",
              "      flex-wrap:wrap;\n",
              "      gap: 12px;\n",
              "    }\n",
              "\n",
              "    .colab-df-convert {\n",
              "      background-color: #E8F0FE;\n",
              "      border: none;\n",
              "      border-radius: 50%;\n",
              "      cursor: pointer;\n",
              "      display: none;\n",
              "      fill: #1967D2;\n",
              "      height: 32px;\n",
              "      padding: 0 0 0 0;\n",
              "      width: 32px;\n",
              "    }\n",
              "\n",
              "    .colab-df-convert:hover {\n",
              "      background-color: #E2EBFA;\n",
              "      box-shadow: 0px 1px 2px rgba(60, 64, 67, 0.3), 0px 1px 3px 1px rgba(60, 64, 67, 0.15);\n",
              "      fill: #174EA6;\n",
              "    }\n",
              "\n",
              "    [theme=dark] .colab-df-convert {\n",
              "      background-color: #3B4455;\n",
              "      fill: #D2E3FC;\n",
              "    }\n",
              "\n",
              "    [theme=dark] .colab-df-convert:hover {\n",
              "      background-color: #434B5C;\n",
              "      box-shadow: 0px 1px 3px 1px rgba(0, 0, 0, 0.15);\n",
              "      filter: drop-shadow(0px 1px 2px rgba(0, 0, 0, 0.3));\n",
              "      fill: #FFFFFF;\n",
              "    }\n",
              "  </style>\n",
              "\n",
              "      <script>\n",
              "        const buttonEl =\n",
              "          document.querySelector('#df-6cb98396-f314-49a7-81ed-7f6e99111575 button.colab-df-convert');\n",
              "        buttonEl.style.display =\n",
              "          google.colab.kernel.accessAllowed ? 'block' : 'none';\n",
              "\n",
              "        async function convertToInteractive(key) {\n",
              "          const element = document.querySelector('#df-6cb98396-f314-49a7-81ed-7f6e99111575');\n",
              "          const dataTable =\n",
              "            await google.colab.kernel.invokeFunction('convertToInteractive',\n",
              "                                                     [key], {});\n",
              "          if (!dataTable) return;\n",
              "\n",
              "          const docLinkHtml = 'Like what you see? Visit the ' +\n",
              "            '<a target=\"_blank\" href=https://colab.research.google.com/notebooks/data_table.ipynb>data table notebook</a>'\n",
              "            + ' to learn more about interactive tables.';\n",
              "          element.innerHTML = '';\n",
              "          dataTable['output_type'] = 'display_data';\n",
              "          await google.colab.output.renderOutput(dataTable, element);\n",
              "          const docLink = document.createElement('div');\n",
              "          docLink.innerHTML = docLinkHtml;\n",
              "          element.appendChild(docLink);\n",
              "        }\n",
              "      </script>\n",
              "    </div>\n",
              "  </div>\n",
              "  "
            ]
          },
          "metadata": {},
          "execution_count": 46
        }
      ]
    }
  ]
}
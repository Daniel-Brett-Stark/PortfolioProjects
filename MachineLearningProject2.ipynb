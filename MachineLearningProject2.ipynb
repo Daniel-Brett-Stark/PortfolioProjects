{
  "nbformat": 4,
  "nbformat_minor": 0,
  "metadata": {
    "kernelspec": {
      "display_name": "Python 3",
      "language": "python",
      "name": "python3"
    },
    "language_info": {
      "codemirror_mode": {
        "name": "ipython",
        "version": 3
      },
      "file_extension": ".py",
      "mimetype": "text/x-python",
      "name": "python",
      "nbconvert_exporter": "python",
      "pygments_lexer": "ipython3",
      "version": "3.7.4"
    },
    "colab": {
      "provenance": [],
      "collapsed_sections": [],
      "include_colab_link": true
    }
  },
  "cells": [
    {
      "cell_type": "markdown",
      "metadata": {
        "id": "view-in-github",
        "colab_type": "text"
      },
      "source": [
        "<a href=\"https://colab.research.google.com/github/Daniel-Brett-Stark/PortfolioProjects/blob/main/MachineLearningProject2.ipynb\" target=\"_parent\"><img src=\"https://colab.research.google.com/assets/colab-badge.svg\" alt=\"Open In Colab\"/></a>"
      ]
    },
    {
      "cell_type": "code",
      "metadata": {
        "id": "cXwBFq2WS3TI"
      },
      "source": [
        "# import the modules and function you will use here\n",
        "import pandas as pd\n",
        "import numpy as np"
      ],
      "execution_count": 1,
      "outputs": []
    },
    {
      "cell_type": "markdown",
      "metadata": {
        "id": "3LthxlmrS3TK"
      },
      "source": [
        "Regularized Regression"
      ]
    },
    {
      "cell_type": "code",
      "metadata": {
        "colab": {
          "base_uri": "https://localhost:8080/"
        },
        "id": "ySzGs3fVS3TL",
        "outputId": "79125f71-2068-4ef2-98af-f401b962202a"
      },
      "source": [
        "from sklearn.datasets import load_boston\n",
        "boston = load_boston()\n",
        "print(boston['DESCR'])\n",
        "X = pd.DataFrame(boston['data'], columns=boston['feature_names'])\n",
        "y = pd.Series(boston['target'])"
      ],
      "execution_count": 2,
      "outputs": [
        {
          "output_type": "stream",
          "name": "stdout",
          "text": [
            ".. _boston_dataset:\n",
            "\n",
            "Boston house prices dataset\n",
            "---------------------------\n",
            "\n",
            "**Data Set Characteristics:**  \n",
            "\n",
            "    :Number of Instances: 506 \n",
            "\n",
            "    :Number of Attributes: 13 numeric/categorical predictive. Median Value (attribute 14) is usually the target.\n",
            "\n",
            "    :Attribute Information (in order):\n",
            "        - CRIM     per capita crime rate by town\n",
            "        - ZN       proportion of residential land zoned for lots over 25,000 sq.ft.\n",
            "        - INDUS    proportion of non-retail business acres per town\n",
            "        - CHAS     Charles River dummy variable (= 1 if tract bounds river; 0 otherwise)\n",
            "        - NOX      nitric oxides concentration (parts per 10 million)\n",
            "        - RM       average number of rooms per dwelling\n",
            "        - AGE      proportion of owner-occupied units built prior to 1940\n",
            "        - DIS      weighted distances to five Boston employment centres\n",
            "        - RAD      index of accessibility to radial highways\n",
            "        - TAX      full-value property-tax rate per $10,000\n",
            "        - PTRATIO  pupil-teacher ratio by town\n",
            "        - B        1000(Bk - 0.63)^2 where Bk is the proportion of black people by town\n",
            "        - LSTAT    % lower status of the population\n",
            "        - MEDV     Median value of owner-occupied homes in $1000's\n",
            "\n",
            "    :Missing Attribute Values: None\n",
            "\n",
            "    :Creator: Harrison, D. and Rubinfeld, D.L.\n",
            "\n",
            "This is a copy of UCI ML housing dataset.\n",
            "https://archive.ics.uci.edu/ml/machine-learning-databases/housing/\n",
            "\n",
            "\n",
            "This dataset was taken from the StatLib library which is maintained at Carnegie Mellon University.\n",
            "\n",
            "The Boston house-price data of Harrison, D. and Rubinfeld, D.L. 'Hedonic\n",
            "prices and the demand for clean air', J. Environ. Economics & Management,\n",
            "vol.5, 81-102, 1978.   Used in Belsley, Kuh & Welsch, 'Regression diagnostics\n",
            "...', Wiley, 1980.   N.B. Various transformations are used in the table on\n",
            "pages 244-261 of the latter.\n",
            "\n",
            "The Boston house-price data has been used in many machine learning papers that address regression\n",
            "problems.   \n",
            "     \n",
            ".. topic:: References\n",
            "\n",
            "   - Belsley, Kuh & Welsch, 'Regression diagnostics: Identifying Influential Data and Sources of Collinearity', Wiley, 1980. 244-261.\n",
            "   - Quinlan,R. (1993). Combining Instance-Based and Model-Based Learning. In Proceedings on the Tenth International Conference of Machine Learning, 236-243, University of Massachusetts, Amherst. Morgan Kaufmann.\n",
            "\n"
          ]
        },
        {
          "output_type": "stream",
          "name": "stderr",
          "text": [
            "/usr/local/lib/python3.7/dist-packages/sklearn/utils/deprecation.py:87: FutureWarning: Function load_boston is deprecated; `load_boston` is deprecated in 1.0 and will be removed in 1.2.\n",
            "\n",
            "    The Boston housing prices dataset has an ethical problem. You can refer to\n",
            "    the documentation of this function for further details.\n",
            "\n",
            "    The scikit-learn maintainers therefore strongly discourage the use of this\n",
            "    dataset unless the purpose of the code is to study and educate about\n",
            "    ethical issues in data science and machine learning.\n",
            "\n",
            "    In this special case, you can fetch the dataset from the original\n",
            "    source::\n",
            "\n",
            "        import pandas as pd\n",
            "        import numpy as np\n",
            "\n",
            "\n",
            "        data_url = \"http://lib.stat.cmu.edu/datasets/boston\"\n",
            "        raw_df = pd.read_csv(data_url, sep=\"\\s+\", skiprows=22, header=None)\n",
            "        data = np.hstack([raw_df.values[::2, :], raw_df.values[1::2, :2]])\n",
            "        target = raw_df.values[1::2, 2]\n",
            "\n",
            "    Alternative datasets include the California housing dataset (i.e.\n",
            "    :func:`~sklearn.datasets.fetch_california_housing`) and the Ames housing\n",
            "    dataset. You can load the datasets as follows::\n",
            "\n",
            "        from sklearn.datasets import fetch_california_housing\n",
            "        housing = fetch_california_housing()\n",
            "\n",
            "    for the California housing dataset and::\n",
            "\n",
            "        from sklearn.datasets import fetch_openml\n",
            "        housing = fetch_openml(name=\"house_prices\", as_frame=True)\n",
            "\n",
            "    for the Ames housing dataset.\n",
            "    \n",
            "  warnings.warn(msg, category=FutureWarning)\n"
          ]
        }
      ]
    },
    {
      "cell_type": "markdown",
      "metadata": {
        "id": "7rBF1sIfS3TM"
      },
      "source": [
        "$(a)$ Split the data into a train and a test set"
      ]
    },
    {
      "cell_type": "code",
      "metadata": {
        "id": "zg1Nri2RS3TM"
      },
      "source": [
        "from sklearn.model_selection import train_test_split\n",
        "X_train, X_test, y_train, y_test = train_test_split(X, y, random_state=42)"
      ],
      "execution_count": 3,
      "outputs": []
    },
    {
      "cell_type": "markdown",
      "metadata": {
        "id": "imXcj9AMS3TM"
      },
      "source": [
        "$(b)$ Use this data to fit an OLS, LASSO, ridge, and ElasticNet model on the data. For now, use the default for the penalty coefficient. Display the coefficients and test error for each."
      ]
    },
    {
      "cell_type": "code",
      "metadata": {
        "id": "wTJhblD8S3TN",
        "colab": {
          "base_uri": "https://localhost:8080/"
        },
        "outputId": "3557c1bc-74b0-4c06-c1e8-efe1fe7d8a7a"
      },
      "source": [
        "from sklearn.linear_model import LinearRegression\n",
        "from sklearn.preprocessing import StandardScaler\n",
        "from sklearn.linear_model import Lasso\n",
        "from sklearn.linear_model import Ridge\n",
        "from sklearn.linear_model import ElasticNet\n",
        "\n",
        "#OLS\n",
        "lr = LinearRegression().fit(X_train, y_train)\n",
        "###Create a linear regerssion object-->lr = linear_model.LinearRegression()\n",
        "###Train the model using training sets-->.fit(x_train, y_train)\n",
        "#Ridge\n",
        "ridge = Ridge().fit(X_train, y_train)\n",
        "#Lasso\n",
        "lasso = Lasso().fit(X_train, y_train)\n",
        "#Elastic Net\n",
        "EN = ElasticNet().fit(X_train, y_train)\n",
        "print(\"OLS.coef_:\", lr.coef_)\n",
        "print(\"Ridge.coef_:\", ridge.coef_)\n",
        "print(\"Lasso.coef_:\", lasso.coef_)\n",
        "print(\"OLS Test set score: {:.2f}\".format(lr.score(X_test, y_test)))\n",
        "print(\"Ridge Test set score: {:.2f}\".format(ridge.score(X_test, y_test)))\n",
        "print(\"Lasso Test set score: {:.2f}\".format(lasso.score(X_test, y_test)))\n",
        "print(\"EN Test set score: {:.2f}\".format(EN.score(X_test, y_test)))\n"
      ],
      "execution_count": 4,
      "outputs": [
        {
          "output_type": "stream",
          "name": "stdout",
          "text": [
            "OLS.coef_: [-1.28322638e-01  2.95517751e-02  4.88590934e-02  2.77350326e+00\n",
            " -1.62388292e+01  4.36875476e+00 -9.24808158e-03 -1.40086668e+00\n",
            "  2.57761243e-01 -9.95694820e-03 -9.23122944e-01  1.31854199e-02\n",
            " -5.17639519e-01]\n",
            "Ridge.coef_: [-0.12383039  0.03139178  0.01767668  2.54277179 -8.77249222  4.37980204\n",
            " -0.01537349 -1.29086084  0.24406848 -0.01082435 -0.83346553  0.01348642\n",
            " -0.53435396]\n",
            "Lasso.coef_: [-0.0838981   0.02646051 -0.          0.         -0.          1.54544951\n",
            "  0.01345772 -0.58282853  0.20738089 -0.01121302 -0.70500625  0.01198848\n",
            " -0.75783702]\n",
            "OLS Test set score: 0.68\n",
            "Ridge Test set score: 0.68\n",
            "Lasso Test set score: 0.65\n",
            "EN Test set score: 0.66\n"
          ]
        }
      ]
    },
    {
      "cell_type": "markdown",
      "metadata": {
        "id": "l8Hc-dXDS3TN"
      },
      "source": [
        "$(c)$ Describe the differences that you see in the coefficients and error. What is the cause of this difference in coefficients?"
      ]
    },
    {
      "cell_type": "code",
      "metadata": {
        "id": "ALpXxkr01asF"
      },
      "source": [
        "#All of the errors are fairly similar with OLS and Ridge scoring the highest\n",
        "#the Coefficients are much more different even though they are pulling from the same train & test sample\n",
        "#Both OLS and Ridge had similar coefficients as well while Lasso and EN's coefficients were closer to each other.\n",
        "#OLS provides a BLUE estimator meaning that variance could be very high. Ridge & Lasso don't do that so that would explain some difference away"
      ],
      "execution_count": 5,
      "outputs": []
    },
    {
      "cell_type": "markdown",
      "metadata": {
        "id": "nGYgU_eFS3TO"
      },
      "source": [
        "$(d)$ Use K-fold cross validation to find an optimal penalty parameter for Ridge and Lasso."
      ]
    },
    {
      "cell_type": "code",
      "metadata": {
        "id": "hZIyIfQGuL-s",
        "colab": {
          "base_uri": "https://localhost:8080/"
        },
        "outputId": "095a248a-11d9-4af9-f84a-ec5d2a6135ff"
      },
      "source": [
        "from sklearn.model_selection import cross_val_score\n",
        "from numpy import mean\n",
        "from numpy import absolute\n",
        "from numpy import sqrt\n",
        "lasso_scores = cross_val_score(lasso,X_train,y_train,scoring='neg_mean_absolute_error',cv=10)\n",
        "#cross_val_score(estimator, x, y,how it will be scored , cv=number of scores)\n",
        "#mean_square_error type of data measure the distance between the model and the data. They return the negated value of the metric.\n",
        "#neg_mean_absolute_error measures the mean absolute error regression loss \n",
        "ridge_scores = cross_val_score(ridge,X_train,y_train,scoring='neg_mean_absolute_error',cv=10)\n",
        "print(\"Lasso Cross-validation scores: {}\".format(lasso_scores))\n",
        "print(\"Ridge Cross-validation scores: {}\".format(ridge_scores))\n",
        "print(\"Average Lasso cross-validation score: {:.2f}\".format(mean(absolute(lasso_scores))))\n",
        "print(\"Average Ridge cross-validation score: {:.2f}\".format(mean(absolute(ridge_scores))))"
      ],
      "execution_count": 6,
      "outputs": [
        {
          "output_type": "stream",
          "name": "stdout",
          "text": [
            "Lasso Cross-validation scores: [-4.05331725 -3.85569524 -4.16862244 -2.80832749 -3.75512077 -4.14603719\n",
            " -4.32880683 -3.15955767 -3.42914769 -4.13651553]\n",
            "Ridge Cross-validation scores: [-3.46898109 -3.87462782 -4.10393948 -3.2419042  -2.96569063 -3.87285854\n",
            " -3.63999082 -3.18790283 -2.83445681 -3.61160095]\n",
            "Average Lasso cross-validation score: 3.78\n",
            "Average Ridge cross-validation score: 3.48\n"
          ]
        }
      ]
    },
    {
      "cell_type": "markdown",
      "metadata": {
        "id": "J5nGHhgcS3TP"
      },
      "source": [
        "$(e)$ Now use cross validation, to find the optimal penalty parameter. Use LOOCV and Kfold cross validation with K=5 to find optimal parameters for the ElasticNet model. "
      ]
    },
    {
      "cell_type": "code",
      "metadata": {
        "id": "bH0wPwoyS3TP",
        "colab": {
          "base_uri": "https://localhost:8080/"
        },
        "outputId": "296341a9-7e48-4311-fd31-5fb19dc00ccc"
      },
      "source": [
        "from sklearn.model_selection import LeaveOneOut\n",
        "loocv=LeaveOneOut()\n",
        "#LeaveOneOut()-->Provides train/test indices to split data in train/test sets. Each sample is used once as a test set (singleton) while the remaining samples form the training set.\n",
        "EN_scores_loocv=cross_val_score(EN,X_train,y_train,scoring='neg_mean_absolute_error',cv=loocv)\n",
        "#cv=loocv=LeaveOneOut()\n",
        "EN_scores_kfolds=cross_val_score(EN,X_train,y_train,scoring='neg_mean_absolute_error',cv=5)\n",
        "print(\"EN LOOCV scores: {}\".format(EN_scores_loocv))\n",
        "print(\"EN K-folds 5 scores: {}\".format(EN_scores_kfolds))\n",
        "print(\"Average EN LOOCV score: {:.2f}\".format(mean(absolute(EN_scores_loocv))))\n",
        "print(\"Average EN K-folds 5 score: {:.2f}\".format(mean(absolute(EN_scores_kfolds))))\n",
        "print(\"The test errors are fairly the same which is surprising considering the number of variables compared in LOOCV vs the kfolds of 5\")\n",
        "\n",
        "#The test errors are fairly the same which is surprising considering the number of variables compared in LOOCV vs the kfolds of 5\n",
        "\n"
      ],
      "execution_count": 7,
      "outputs": [
        {
          "output_type": "stream",
          "name": "stdout",
          "text": [
            "EN LOOCV scores: [ -5.10351643  -4.82579134  -9.89559939  -3.42168642  -2.16435795\n",
            "  -5.91029495  -1.1187363   -5.65855427  -3.65933568  -4.3083644\n",
            "  -2.10049406  -2.00371274  -2.02987489  -1.28846846  -7.51220394\n",
            "  -6.62315268  -5.76482225  -2.31611112  -5.86479214  -6.42277014\n",
            "  -0.19358129  -0.45194802 -15.90571834  -2.3625962   -6.93357273\n",
            "  -0.84744654  -2.18328407  -4.63136335  -1.01052878  -3.10558916\n",
            "  -1.43790137  -3.34352283  -4.11959048  -5.26664396  -2.06660041\n",
            "  -1.30376652  -3.42182496  -7.98387119  -0.66476973 -11.73056087\n",
            "  -3.44167609  -1.60230635  -7.72301381  -3.8627881   -2.44248279\n",
            "  -4.12826932  -8.64102698  -2.06451324  -0.47367794  -6.73384616\n",
            "  -1.29037914  -4.45493111  -3.89615434  -0.08442743  -9.92112421\n",
            "  -0.77335533  -0.72060514  -1.59966919  -2.02764648  -1.41304576\n",
            " -12.54761849 -19.92943569  -1.02598793  -1.33592411  -2.28548436\n",
            "  -2.58093453  -6.49876122  -4.6131089   -0.25133318  -0.91143408\n",
            "  -0.28959421  -3.40117786  -2.10999473  -5.27941144  -9.59471563\n",
            "  -0.46145457  -5.17921317  -3.2261187   -1.63446837  -0.89508205\n",
            " -15.02997198  -5.81126106  -0.08230121  -1.01871197  -6.52891424\n",
            "  -0.50510243 -14.85929777  -2.1993906   -2.95307775  -1.23450178\n",
            "  -0.41900366  -0.75066244  -6.57565614 -14.68594788  -7.83648448\n",
            "  -0.37863169  -3.09185266  -1.77039765  -3.47934548  -0.82970383\n",
            "  -1.63530675 -21.83804714  -2.00661872  -4.89877792  -0.067348\n",
            "  -4.43942591  -2.8834355   -1.26164917  -1.87674423  -1.66540849\n",
            "  -9.82090185  -4.65016844  -2.76696839  -6.36871241  -3.3618253\n",
            "  -5.63082012  -8.49268045  -2.76696143  -1.91618791  -3.60589014\n",
            "  -4.58586865  -1.25249654  -3.38402019  -0.72630165  -0.10433976\n",
            "  -0.35671571  -0.63915542  -1.74530378  -0.44356853  -2.59300187\n",
            "  -3.81132808  -4.39793156  -5.79946096  -3.13892703  -1.1015249\n",
            "  -1.37612641  -3.22736644  -6.45987193  -2.87477019  -1.00771832\n",
            "  -4.96930692  -1.1806798   -6.70047709  -0.80692867  -0.29684763\n",
            "  -0.97445147  -8.68127733  -1.72820681  -0.50425454  -5.58952529\n",
            "  -1.82301103  -0.66038187  -1.759801    -0.67270422  -1.4695369\n",
            "  -1.10021246  -0.50119784  -1.58862514  -4.55268533  -1.14564177\n",
            "  -1.68303016  -5.04115198  -4.37494549  -2.86198526  -0.07500911\n",
            "  -0.48542176  -0.37754262  -3.17845875 -18.71835214  -7.5806376\n",
            "  -1.59788501  -5.28682169  -5.16363608  -7.95368009  -3.98458414\n",
            "  -1.59648759  -0.08696886 -14.8357015   -2.53406403  -3.34618796\n",
            "  -0.70222115  -0.44457719  -0.90973968  -6.88337734  -1.71490765\n",
            "  -0.62936025  -2.91488561 -10.67890637  -0.87479938  -5.81238624\n",
            "  -0.34961269  -5.18496649  -2.42442577  -0.07484901 -14.38116453\n",
            "  -3.69099237  -0.57889163  -7.27702526  -3.22411893  -6.04713135\n",
            "  -7.28258237 -13.10849099  -1.36544591  -2.18053374 -17.28861849\n",
            "  -0.52092302  -7.24032547  -0.25130256  -6.41433608  -2.52022073\n",
            "  -5.43972093  -1.01498391  -4.88299091  -2.51960534  -3.22519802\n",
            "  -0.5537581   -5.3952976   -3.62092334  -0.37306992  -2.416724\n",
            "  -0.63771828  -1.74926749  -3.02452827  -5.73682799  -0.51267081\n",
            " -10.81978825  -4.70482766  -0.9541341   -7.77118848  -9.52482645\n",
            "  -2.63835397  -3.34740156  -2.89245538  -0.21161011  -3.06096933\n",
            "  -4.57310933  -6.26868036 -12.33795211  -3.26696955  -0.03508276\n",
            "  -4.6028881   -1.22771983  -6.67862052 -14.76183297  -1.47907148\n",
            "  -3.60641803  -3.71894241  -0.99340918  -7.13391527  -0.73010566\n",
            "  -0.54028571  -5.78221494 -14.42797004  -0.38525342  -0.32209726\n",
            "  -4.51780643  -0.86583093  -0.89622826  -2.16708666  -6.48408012\n",
            "  -3.03186203  -1.24057098  -8.37186     -5.58575945  -4.03824924\n",
            "  -5.791474    -1.56755548  -4.98279004  -0.50775522  -6.13943683\n",
            "  -0.93746963  -1.39964891  -1.28436672  -5.46373875  -4.34188654\n",
            "  -2.24805571  -4.60620778  -2.62303258  -0.29789196  -1.81461092\n",
            "  -2.54441561  -3.35591469  -0.17858021  -1.90418665  -0.92384737\n",
            "  -2.23877435  -5.30591155 -14.80495668  -1.10353276  -0.43278716\n",
            "  -9.60713311  -7.34607233  -5.03575306  -5.36931931  -1.12522759\n",
            "  -2.54447804  -4.21698589  -4.43752849  -3.23389111  -2.82334548\n",
            "  -0.63747918  -2.58872285  -0.37052311  -0.78142172  -0.22748275\n",
            "  -0.5549124   -1.34602482  -2.92321213  -2.07446553  -5.6524861\n",
            "  -4.98592907  -0.14972908  -4.01541751  -2.33175703  -1.90487327\n",
            "  -4.01251962  -2.91132599  -7.07744425  -6.88588656  -2.49105841\n",
            "  -5.27507438 -15.97462408  -3.11825235  -0.96712812  -1.10397639\n",
            "  -0.66987091  -0.61325418  -1.4017544   -4.88236275  -2.92911909\n",
            "  -3.84854273  -2.59866919  -3.63831464  -4.82037237  -2.22715522\n",
            "  -3.27715614  -3.93805984  -4.39849596  -1.26281709  -3.99574018\n",
            "  -1.83885957  -7.05259236  -1.96310708  -1.68369933  -2.73730206\n",
            "  -0.14657474  -5.65545235  -0.48234958  -4.23210231  -2.36984859\n",
            "  -2.63292751  -0.33999361  -0.17623102  -2.19996162  -4.70651183\n",
            "  -4.2616916  -11.69306317  -7.52841645  -2.77173905  -1.69772641\n",
            "  -4.82580382  -0.21496608  -3.59640697 -25.31213596  -4.25269771\n",
            "  -3.0151697   -3.07311649 -17.53229195  -5.14401979  -2.79824607\n",
            " -13.5893255   -0.11403063  -1.54018814  -0.43818336  -3.02582068\n",
            "  -1.57253669  -4.53006602  -2.40226357  -0.55205948]\n",
            "EN K-folds 5 scores: [-3.98533634 -3.49700787 -3.90974288 -3.80040819 -3.82523843]\n",
            "Average EN LOOCV score: 3.82\n",
            "Average EN K-folds 5 score: 3.80\n",
            "The test errors are fairly the same which is surprising considering the number of variables compared in LOOCV vs the kfolds of 5\n"
          ]
        }
      ]
    },
    {
      "cell_type": "markdown",
      "metadata": {
        "id": "oK_-fwCgS3TP"
      },
      "source": [
        "\n",
        "$(f)$ Out of all the models that have been tuned, which one performs best on the training data? Which one performs best on the test data? Which of these models allow us to do effective causal inference with the coefficients?"
      ]
    },
    {
      "cell_type": "code",
      "metadata": {
        "id": "mhULX_lQS3TP",
        "colab": {
          "base_uri": "https://localhost:8080/"
        },
        "outputId": "2aba8cd1-6059-4422-a0a4-1ca2aaed54b0"
      },
      "source": [
        "from sklearn.linear_model import LassoCV\n",
        "from sklearn.linear_model import RidgeCV\n",
        "from sklearn.linear_model import ElasticNetCV\n",
        "lassocv = LassoCV(cv=10).fit(X_train, np.ravel(y_train))\n",
        "ridgecv = RidgeCV(cv=10).fit(X_train, np.ravel(y_train))\n",
        "ENloocv = ElasticNetCV(cv=loocv).fit(X_train, np.ravel(y_train))\n",
        "ENkfoldscv = ElasticNetCV(cv=5).fit(X_train, np.ravel(y_train))\n",
        "print(\"Lasso Test set score: {:.2f}\".format(lassocv.score(X_test,y_test)))\n",
        "print(\"Ridge Test set score: {:.2f}\".format(ridgecv.score(X_test,y_test)))\n",
        "print(\"En LOOCV Test set score: {:.2f}\".format(ENloocv.score(X_test,y_test)))\n",
        "print(\"EN K folds Test set score: {:.2f}\".format(ENkfoldscv.score(X_test,y_test)))\n",
        "print(\"Training Data: Elastic net with the LOOCV cross validation\")\n",
        "print(\"Test Data: Ridge performed the best\")\n",
        "print(\"Causal inferences: I would us Ridge based on the train and test scores. The training set score was in the middle of the pack while the test score was the highest of all \")\n",
        "\n",
        "#Causal inferences: I would us Ridge based on the train and test scores. The training set score was in the middle of the pack while the test score was the highest of all"
      ],
      "execution_count": 8,
      "outputs": [
        {
          "output_type": "stream",
          "name": "stdout",
          "text": [
            "Lasso Test set score: 0.66\n",
            "Ridge Test set score: 0.68\n",
            "En LOOCV Test set score: 0.64\n",
            "EN K folds Test set score: 0.64\n",
            "Training Data: Elastic net with the LOOCV cross validation\n",
            "Test Data: Ridge performed the best\n",
            "Causal inferences: I would us Ridge based on the train and test scores. The training set score was in the middle of the pack while the test score was the highest of all \n"
          ]
        }
      ]
    },
    {
      "cell_type": "markdown",
      "metadata": {
        "id": "qxi1UtHlS3TQ"
      },
      "source": [
        "Load \"Carseats\" dataset. Convert the text variables into dummies (using Panda's \"get_dummies\") so that they can be used in the data"
      ]
    },
    {
      "cell_type": "code",
      "metadata": {
        "id": "wnctstwZS3TQ",
        "colab": {
          "base_uri": "https://localhost:8080/"
        },
        "outputId": "94c97543-febe-4169-b896-21f203f1f0d5"
      },
      "source": [
        "from google.colab import drive\n",
        "from pandas import get_dummies\n",
        "drive.mount('/content/gdrive')\n",
        "%cd  '/content/gdrive/My Drive/School/Machine Learning'\n",
        "df =pd.read_csv('/content/gdrive/My Drive/Econ 484/Carseats.csv')\n",
        "df_new = pd.get_dummies(df, columns=['Urban','US','ShelveLoc'])\n",
        "print(df_new.columns)\n",
        "print(df_new.head(n=5))"
      ],
      "execution_count": 9,
      "outputs": [
        {
          "output_type": "stream",
          "name": "stdout",
          "text": [
            "Mounted at /content/gdrive\n",
            "[Errno 2] No such file or directory: '/content/gdrive/My Drive/School/Machine Learning'\n",
            "/content\n",
            "Index(['Unnamed: 0', 'Sales', 'CompPrice', 'Income', 'Advertising',\n",
            "       'Population', 'Price', 'Age', 'Education', 'Urban_No', 'Urban_Yes',\n",
            "       'US_No', 'US_Yes', 'ShelveLoc_Bad', 'ShelveLoc_Good',\n",
            "       'ShelveLoc_Medium'],\n",
            "      dtype='object')\n",
            "   Unnamed: 0  Sales  CompPrice  Income  Advertising  Population  Price  Age  \\\n",
            "0           1   9.50        138      73           11         276    120   42   \n",
            "1           2  11.22        111      48           16         260     83   65   \n",
            "2           3  10.06        113      35           10         269     80   59   \n",
            "3           4   7.40        117     100            4         466     97   55   \n",
            "4           5   4.15        141      64            3         340    128   38   \n",
            "\n",
            "   Education  Urban_No  Urban_Yes  US_No  US_Yes  ShelveLoc_Bad  \\\n",
            "0         17         0          1      0       1              1   \n",
            "1         10         0          1      0       1              0   \n",
            "2         12         0          1      0       1              0   \n",
            "3         14         0          1      0       1              0   \n",
            "4         13         0          1      1       0              1   \n",
            "\n",
            "   ShelveLoc_Good  ShelveLoc_Medium  \n",
            "0               0                 0  \n",
            "1               1                 0  \n",
            "2               0                 1  \n",
            "3               0                 1  \n",
            "4               0                 0  \n"
          ]
        }
      ]
    },
    {
      "cell_type": "markdown",
      "metadata": {
        "id": "vaOvp9gPS3TQ"
      },
      "source": [
        " Use `Sales` as the outcome variable  \n",
        "(a) Split the data set into a training set and a test set.  \n",
        "(b) Fit a regression tree to the training set with the default depth. Find the train and test MSE.\n",
        "\n",
        "(c) Use cross-validation in order to determine the optimal level of tree complexity. Plot a tree with a depth of 3.\n",
        "\n",
        "(d) Use a bagging approach in order to analyze this data. Find the test MSE obtained? Look at the feature importances attribute of your model object to determine which variables are most important.  \n",
        "(e) Use random forests to analyze this data. Look at the feature importances attribute of your model object function to determine which variables are most important. "
      ]
    },
    {
      "cell_type": "code",
      "metadata": {
        "id": "cQmHDb5Yev2n"
      },
      "source": [
        "from sklearn.tree import DecisionTreeRegressor\n",
        "from sklearn.model_selection import GridSearchCV\n",
        "from matplotlib import pyplot as plt"
      ],
      "execution_count": 10,
      "outputs": []
    },
    {
      "cell_type": "code",
      "metadata": {
        "id": "l3RnWoyWGHar"
      },
      "source": [
        "#A\n",
        "X1 =df_new.loc[:,[x for x in df_new.columns if x not in ('Sales')]]\n",
        "y1 = df_new.loc[:,'Sales']\n",
        "X_train1, X_test1, y_train1, y_test1 = train_test_split(X1, y1, random_state=42)\n"
      ],
      "execution_count": 11,
      "outputs": []
    },
    {
      "cell_type": "code",
      "source": [
        "#B\n",
        "tree= DecisionTreeRegressor().fit(X_train1,y_train1)\n",
        "print(\"Train MSE: {:.2f}\".format(tree.score(X_train1,y_train1))) \n",
        "print(\"Test MSE: {:.2f}\".format(tree.score(X_test1,y_test1)))"
      ],
      "metadata": {
        "colab": {
          "base_uri": "https://localhost:8080/"
        },
        "id": "23DHIVB74Svt",
        "outputId": "265c4d28-f361-4c16-d1c5-d84ea04611cc"
      },
      "execution_count": 12,
      "outputs": [
        {
          "output_type": "stream",
          "name": "stdout",
          "text": [
            "Train MSE: 1.00\n",
            "Test MSE: 0.53\n"
          ]
        }
      ]
    },
    {
      "cell_type": "code",
      "source": [
        "tree=DecisionTreeRegressor()"
      ],
      "metadata": {
        "id": "dy8KLGu8_G2J"
      },
      "execution_count": 13,
      "outputs": []
    },
    {
      "cell_type": "code",
      "source": [
        "#C Part 1\n",
        "from pprint import pprint \n",
        "\n",
        "print(cross_val_score(tree,X_train1,y_train1,cv=10))\n",
        "#cross_val_score won't work if 'tree' was fit previously. You've got to make a new 'tree' that isn't fit and run that \n",
        "\n",
        "\n"
      ],
      "metadata": {
        "colab": {
          "base_uri": "https://localhost:8080/"
        },
        "id": "d6OZIQgkWw6k",
        "outputId": "04960ab0-e594-4276-d716-886a0cc9f82f"
      },
      "execution_count": 14,
      "outputs": [
        {
          "output_type": "stream",
          "name": "stdout",
          "text": [
            "[ 0.34328648  0.27679924  0.48746909  0.30895586 -0.08342073  0.13705663\n",
            " -0.02016004  0.4763684   0.49827233  0.32850589]\n"
          ]
        }
      ]
    },
    {
      "cell_type": "code",
      "source": [
        "#C Part 2\n",
        "from sklearn import tree"
      ],
      "metadata": {
        "id": "aR0wrwBy8ZD-"
      },
      "execution_count": 15,
      "outputs": []
    },
    {
      "cell_type": "code",
      "source": [
        "#C Part 3\n",
        "tree3 = DecisionTreeRegressor(max_depth=3).fit(X_train1,y_train1)\n",
        "tree.plot_tree(tree3)"
      ],
      "metadata": {
        "colab": {
          "base_uri": "https://localhost:8080/",
          "height": 508
        },
        "id": "TpaKzzoh8L_6",
        "outputId": "166edbae-20d0-49d9-d667-071c134a5795"
      },
      "execution_count": 16,
      "outputs": [
        {
          "output_type": "execute_result",
          "data": {
            "text/plain": [
              "[Text(0.5, 0.875, 'X[13] <= 0.5\\nsquared_error = 7.497\\nsamples = 300\\nvalue = 7.397'),\n",
              " Text(0.25, 0.625, 'X[5] <= 105.5\\nsquared_error = 6.088\\nsamples = 239\\nvalue = 6.78'),\n",
              " Text(0.125, 0.375, 'X[6] <= 49.5\\nsquared_error = 5.498\\nsamples = 79\\nvalue = 8.294'),\n",
              " Text(0.0625, 0.125, 'squared_error = 2.945\\nsamples = 32\\nvalue = 9.718'),\n",
              " Text(0.1875, 0.125, 'squared_error = 4.918\\nsamples = 47\\nvalue = 7.325'),\n",
              " Text(0.375, 0.375, 'X[12] <= 0.5\\nsquared_error = 4.689\\nsamples = 160\\nvalue = 6.032'),\n",
              " Text(0.3125, 0.125, 'squared_error = 4.084\\nsamples = 114\\nvalue = 6.54'),\n",
              " Text(0.4375, 0.125, 'squared_error = 3.963\\nsamples = 46\\nvalue = 4.774'),\n",
              " Text(0.75, 0.625, 'X[5] <= 135.0\\nsquared_error = 5.683\\nsamples = 61\\nvalue = 9.814'),\n",
              " Text(0.625, 0.375, 'X[5] <= 73.0\\nsquared_error = 3.74\\nsamples = 48\\nvalue = 10.572'),\n",
              " Text(0.5625, 0.125, 'squared_error = 1.171\\nsamples = 3\\nvalue = 14.327'),\n",
              " Text(0.6875, 0.125, 'squared_error = 2.909\\nsamples = 45\\nvalue = 10.321'),\n",
              " Text(0.875, 0.375, 'X[6] <= 62.5\\nsquared_error = 2.912\\nsamples = 13\\nvalue = 7.017'),\n",
              " Text(0.8125, 0.125, 'squared_error = 1.644\\nsamples = 8\\nvalue = 7.944'),\n",
              " Text(0.9375, 0.125, 'squared_error = 1.369\\nsamples = 5\\nvalue = 5.534')]"
            ]
          },
          "metadata": {},
          "execution_count": 16
        },
        {
          "output_type": "display_data",
          "data": {
            "text/plain": [
              "<Figure size 432x288 with 1 Axes>"
            ],
            "image/png": "[encoded data removed]"
          },
          "metadata": {
            "needs_background": "light"
          }
        }
      ]
    },
    {
      "cell_type": "code",
      "source": [
        "print(\"Train MSE: {:.2f}\".format(tree3.score(X_train1,y_train1))) \n",
        "print(\"Test MSE: {:.2f}\".format(tree3.score(X_test1,y_test1)))\n",
        "\n",
        "#Pruning the tree does improve test MSE "
      ],
      "metadata": {
        "colab": {
          "base_uri": "https://localhost:8080/"
        },
        "id": "u1xws7Dr4hcV",
        "outputId": "d14e4fb3-c278-4858-9bcb-496423f10b05"
      },
      "execution_count": 17,
      "outputs": [
        {
          "output_type": "stream",
          "name": "stdout",
          "text": [
            "Train MSE: 0.50\n",
            "Test MSE: 0.45\n"
          ]
        }
      ]
    },
    {
      "cell_type": "code",
      "source": [
        "#D\n",
        "from sklearn.ensemble import BaggingRegressor\n",
        "Bag = BaggingRegressor().fit(X_train1, y_train1)\n",
        "print(\"Test MSE: {:.2f}\".format(Bag.score(X_test1,y_test1)))\n"
      ],
      "metadata": {
        "id": "cPuwYqqOWa8U",
        "colab": {
          "base_uri": "https://localhost:8080/"
        },
        "outputId": "f34115f0-7cfb-4b6c-c6f6-d45f2b93d288"
      },
      "execution_count": 18,
      "outputs": [
        {
          "output_type": "stream",
          "name": "stdout",
          "text": [
            "Test MSE: 0.65\n"
          ]
        }
      ]
    },
    {
      "cell_type": "code",
      "source": [
        "Bag.estimators_"
      ],
      "metadata": {
        "colab": {
          "base_uri": "https://localhost:8080/"
        },
        "id": "Pn9VY56Je6AE",
        "outputId": "13d3bbc8-8953-49bb-971f-e491842f5e6c"
      },
      "execution_count": 19,
      "outputs": [
        {
          "output_type": "execute_result",
          "data": {
            "text/plain": [
              "[DecisionTreeRegressor(random_state=2008819210),\n",
              " DecisionTreeRegressor(random_state=1125674126),\n",
              " DecisionTreeRegressor(random_state=14596649),\n",
              " DecisionTreeRegressor(random_state=1431705561),\n",
              " DecisionTreeRegressor(random_state=1517105052),\n",
              " DecisionTreeRegressor(random_state=1499038213),\n",
              " DecisionTreeRegressor(random_state=1269966975),\n",
              " DecisionTreeRegressor(random_state=1264239866),\n",
              " DecisionTreeRegressor(random_state=1325936581),\n",
              " DecisionTreeRegressor(random_state=1146089087)]"
            ]
          },
          "metadata": {},
          "execution_count": 19
        }
      ]
    },
    {
      "cell_type": "code",
      "source": [
        "for x in [1,2,3]:\n",
        "  print(x)\n",
        "  break"
      ],
      "metadata": {
        "colab": {
          "base_uri": "https://localhost:8080/"
        },
        "id": "W-HzSS0zfBk8",
        "outputId": "c10bdbfa-5e6d-417b-df5b-b5493b017fea"
      },
      "execution_count": 20,
      "outputs": [
        {
          "output_type": "stream",
          "name": "stdout",
          "text": [
            "1\n"
          ]
        }
      ]
    },
    {
      "cell_type": "code",
      "source": [
        "sum([m.feature_importances_ for m in Bag.estimators_])"
      ],
      "metadata": {
        "colab": {
          "base_uri": "https://localhost:8080/"
        },
        "id": "EMr-zOp0eGuT",
        "outputId": "0e8624a9-607b-4d30-c749-08519d57f1c0"
      },
      "execution_count": 21,
      "outputs": [
        {
          "output_type": "execute_result",
          "data": {
            "text/plain": [
              "array([0.4909096 , 1.0774774 , 0.38742937, 0.83693629, 0.27158842,\n",
              "       2.9738267 , 1.00755722, 0.24986316, 0.02306864, 0.0524269 ,\n",
              "       0.07830709, 0.01325898, 0.30124129, 2.00398563, 0.2321233 ])"
            ]
          },
          "metadata": {},
          "execution_count": 21
        }
      ]
    },
    {
      "cell_type": "code",
      "source": [
        "def plot_feature_importances_Sales(model):\n",
        "    n_features = X_train1.shape[1]\n",
        "    plt.barh(np.arange(n_features), sum([m.feature_importances_ for m in Bag.estimators_]), align='center')\n",
        "    plt.yticks(np.arange(n_features), (X_train1).columns)\n",
        "    plt.xlabel(\"Feature importance\")\n",
        "    plt.ylabel(\"Feature\")\n",
        "    plt.ylim(-1, n_features)\n",
        "\n",
        "\n",
        "plot_feature_importances_Sales(Bag)\n",
        "\n",
        "#Price, ShelveLoc_Good, Age, and CompPrice are the most impportant features "
      ],
      "metadata": {
        "colab": {
          "base_uri": "https://localhost:8080/",
          "height": 279
        },
        "id": "fH_w02uEa28H",
        "outputId": "e166e015-a576-4ed8-8328-df0a33915f83"
      },
      "execution_count": 22,
      "outputs": [
        {
          "output_type": "display_data",
          "data": {
            "text/plain": [
              "<Figure size 432x288 with 1 Axes>"
            ],
            "image/png": "[encoded data removed]"
          },
          "metadata": {
            "needs_background": "light"
          }
        }
      ]
    },
    {
      "cell_type": "code",
      "source": [
        "#E\n",
        "from sklearn.ensemble import RandomForestRegressor\n",
        "forest = RandomForestRegressor(n_estimators=100, random_state=2)\n",
        "forest.fit(X_train1, y_train1)\n",
        "print(\"Test MSE: {:.2f}\".format(forest.score(X_test1,y_test1)))\n",
        "\n",
        "\n"
      ],
      "metadata": {
        "id": "KeaRGUktW3Ct",
        "colab": {
          "base_uri": "https://localhost:8080/"
        },
        "outputId": "5bae7b16-7068-4b99-eb4e-3f358350a2a4"
      },
      "execution_count": 23,
      "outputs": [
        {
          "output_type": "stream",
          "name": "stdout",
          "text": [
            "Test MSE: 0.69\n"
          ]
        }
      ]
    },
    {
      "cell_type": "code",
      "source": [
        "#E\n",
        "(X_train1).columns"
      ],
      "metadata": {
        "colab": {
          "base_uri": "https://localhost:8080/"
        },
        "id": "GlQUred0Yhlq",
        "outputId": "85678673-393a-473e-9668-685a05c89097"
      },
      "execution_count": 24,
      "outputs": [
        {
          "output_type": "execute_result",
          "data": {
            "text/plain": [
              "Index(['Unnamed: 0', 'CompPrice', 'Income', 'Advertising', 'Population',\n",
              "       'Price', 'Age', 'Education', 'Urban_No', 'Urban_Yes', 'US_No', 'US_Yes',\n",
              "       'ShelveLoc_Bad', 'ShelveLoc_Good', 'ShelveLoc_Medium'],\n",
              "      dtype='object')"
            ]
          },
          "metadata": {},
          "execution_count": 24
        }
      ]
    },
    {
      "cell_type": "code",
      "source": [
        "#E\n",
        "def plot_feature_importances_sale(model):\n",
        "    n_features = X_train1.shape[1]\n",
        "    plt.barh(np.arange(n_features), model.feature_importances_, align='center')\n",
        "    plt.yticks(np.arange(n_features), (X_train1).columns)\n",
        "    plt.xlabel(\"Feature importance\")\n",
        "    plt.ylabel(\"Feature\")\n",
        "    plt.ylim(-1, n_features)\n",
        "\n",
        "\n",
        "plot_feature_importances_sale(forest)"
      ],
      "metadata": {
        "colab": {
          "base_uri": "https://localhost:8080/",
          "height": 279
        },
        "id": "QT326WNrWQbH",
        "outputId": "d6400c0b-15c1-4610-bd61-ed866aeb07b7"
      },
      "execution_count": 25,
      "outputs": [
        {
          "output_type": "display_data",
          "data": {
            "text/plain": [
              "<Figure size 432x288 with 1 Axes>"
            ],
            "image/png": "[encoded data removed]"
          },
          "metadata": {
            "needs_background": "light"
          }
        }
      ]
    },
    {
      "cell_type": "code",
      "source": [
        "#E\n",
        "print(\"Test MSE: {:.3f}\".format(forest.score(X_test1,y_test1)))\n",
        "\n",
        "#The most important features are still largely the same. "
      ],
      "metadata": {
        "colab": {
          "base_uri": "https://localhost:8080/"
        },
        "id": "CppJkTnrR8aM",
        "outputId": "07805a8a-5a08-4c47-ebee-8e9219b80c31"
      },
      "execution_count": 26,
      "outputs": [
        {
          "output_type": "stream",
          "name": "stdout",
          "text": [
            "Test MSE: 0.687\n"
          ]
        }
      ]
    },
    {
      "cell_type": "code",
      "metadata": {
        "id": "bBNvJ9ZTgT2O",
        "colab": {
          "base_uri": "https://localhost:8080/"
        },
        "outputId": "403ec74f-aa71-4791-8b25-bffae96448c4"
      },
      "source": [
        "dir(tree)"
      ],
      "execution_count": 27,
      "outputs": [
        {
          "output_type": "execute_result",
          "data": {
            "text/plain": [
              "['BaseDecisionTree',\n",
              " 'DecisionTreeClassifier',\n",
              " 'DecisionTreeRegressor',\n",
              " 'ExtraTreeClassifier',\n",
              " 'ExtraTreeRegressor',\n",
              " '__all__',\n",
              " '__builtins__',\n",
              " '__cached__',\n",
              " '__doc__',\n",
              " '__file__',\n",
              " '__loader__',\n",
              " '__name__',\n",
              " '__package__',\n",
              " '__path__',\n",
              " '__spec__',\n",
              " '_classes',\n",
              " '_criterion',\n",
              " '_export',\n",
              " '_reingold_tilford',\n",
              " '_splitter',\n",
              " '_tree',\n",
              " '_utils',\n",
              " 'export_graphviz',\n",
              " 'export_text',\n",
              " 'plot_tree']"
            ]
          },
          "metadata": {},
          "execution_count": 27
        }
      ]
    },
    {
      "cell_type": "markdown",
      "metadata": {
        "id": "pxTAFDtRS3TR"
      },
      "source": [
        "Use boosting to predict Log Salary in the `Hitters` data set.  \n",
        "(a) Appropriately format the data. Use 200 observations in your training set.  \n",
        "(b) Perform boosting on the training set with 1,000 trees for a range of values of the shrinkage parameter λ. Produce a plot with different shrinkage values on the x-axis and the corresponding training set MSE on the y-axis. Add a curve with different shrinkage values on the x-axis and the corresponding test set MSE on the y-axis. \n",
        "\n",
        "(c) Which variables appear to be the most important predictors in the boosted model?\n",
        "\n",
        "(d) Find out if a maximum deph of 3 is the optimal depth for the default for the Decision Tree base estimator. \n",
        "\n",
        "(e) Compare the results to bagging and random forests. Report test errors for your models."
      ]
    },
    {
      "cell_type": "code",
      "source": [
        "#A \n",
        "hitters = pd.read_csv('/content/gdrive/My Drive/Econ 484/Hitters.csv')\n",
        "hitters1=hitters.sample(200, random_state=1000)\n",
        "print(hitters.head())"
      ],
      "metadata": {
        "colab": {
          "base_uri": "https://localhost:8080/"
        },
        "id": "HgtJEXkyfwM8",
        "outputId": "e4438a64-6bce-4b23-a9f7-b0a6c8014a13"
      },
      "execution_count": 28,
      "outputs": [
        {
          "output_type": "stream",
          "name": "stdout",
          "text": [
            "   AtBat  Hits  HmRun  Runs  RBI  Walks  Years  CAtBat  CHits  CHmRun  CRuns  \\\n",
            "0    293    66      1    30   29     14      1     293     66       1     30   \n",
            "1    315    81      7    24   38     39     14    3449    835      69    321   \n",
            "2    479   130     18    66   72     76      3    1624    457      63    224   \n",
            "3    496   141     20    65   78     37     11    5628   1575     225    828   \n",
            "4    321    87     10    39   42     30      2     396    101      12     48   \n",
            "\n",
            "   CRBI  CWalks League Division  PutOuts  Assists  Errors  Salary NewLeague  \n",
            "0    29      14      A        E      446       33      20     NaN         A  \n",
            "1   414     375      N        W      632       43      10   475.0         N  \n",
            "2   266     263      A        W      880       82      14   480.0         A  \n",
            "3   838     354      N        E      200       11       3   500.0         N  \n",
            "4    46      33      N        E      805       40       4    91.5         N  \n"
          ]
        }
      ]
    },
    {
      "cell_type": "code",
      "source": [
        "#B\n",
        "from sklearn.ensemble import GradientBoostingRegressor\n",
        "hittersdummies=pd.get_dummies(hitters, columns=['League','Division', 'NewLeague'])\n",
        "print(hittersdummies.head)\n",
        "h_new=hittersdummies.dropna()\n",
        "\n",
        "y=np.log(h_new ['Salary'])\n",
        "x=h_new.loc[:,[x for x in h_new.columns if x not in ('Salary')]]\n",
        "x_train, x_test, y_train, y_test = train_test_split(x,y,random_state=0)\n",
        "\n",
        "lambdas = [.02, .04, .07, .1, .15, .25, .4, .7, 1]\n",
        "train_mse = []\n",
        "test_mse = []\n",
        "\n",
        "for lambda_ in lambdas:\n",
        "  gbrt = GradientBoostingRegressor(learning_rate=lambda_, \n",
        "                                   n_estimators=1000).fit(x_train, y_train)\n",
        "  train_mse.append(gbrt.score(x_train, y_train))\n",
        "  test_mse.append(gbrt.score(x_test, y_test))\n",
        "\n",
        "fig, ax1 = plt.subplots() \n",
        "\n",
        "ax1.set_xlabel('Learning Rate') \n",
        "ax1.set_ylabel('Train MSE', color = 'red') \n",
        "ax1.plot(lambdas, train_mse, color = 'red') \n",
        "ax1.tick_params(axis ='y', labelcolor = 'red') \n",
        "\n",
        "ax2 = ax1.twinx() \n",
        "ax2.set_ylabel('Test MSE', color = 'blue') \n",
        "ax2.plot(lambdas, test_mse, color = 'blue') \n",
        "ax2.tick_params(axis ='y', labelcolor = 'blue') \n",
        "\n",
        "plt.show()"
      ],
      "metadata": {
        "colab": {
          "base_uri": "https://localhost:8080/",
          "height": 973
        },
        "id": "tK0vp9pjJaYT",
        "outputId": "52eae818-c8e1-4533-d76c-1dd9429b6c6d"
      },
      "execution_count": 29,
      "outputs": [
        {
          "output_type": "stream",
          "name": "stdout",
          "text": [
            "<bound method NDFrame.head of      AtBat  Hits  HmRun  Runs  RBI  Walks  Years  CAtBat  CHits  CHmRun  ...  \\\n",
            "0      293    66      1    30   29     14      1     293     66       1  ...   \n",
            "1      315    81      7    24   38     39     14    3449    835      69  ...   \n",
            "2      479   130     18    66   72     76      3    1624    457      63  ...   \n",
            "3      496   141     20    65   78     37     11    5628   1575     225  ...   \n",
            "4      321    87     10    39   42     30      2     396    101      12  ...   \n",
            "..     ...   ...    ...   ...  ...    ...    ...     ...    ...     ...  ...   \n",
            "317    497   127      7    65   48     37      5    2703    806      32  ...   \n",
            "318    492   136      5    76   50     94     12    5511   1511      39  ...   \n",
            "319    475   126      3    61   43     52      6    1700    433       7  ...   \n",
            "320    573   144      9    85   60     78      8    3198    857      97  ...   \n",
            "321    631   170      9    77   44     31     11    4908   1457      30  ...   \n",
            "\n",
            "     PutOuts  Assists  Errors  Salary  League_A  League_N  Division_E  \\\n",
            "0        446       33      20     NaN         1         0           1   \n",
            "1        632       43      10   475.0         0         1           0   \n",
            "2        880       82      14   480.0         1         0           0   \n",
            "3        200       11       3   500.0         0         1           1   \n",
            "4        805       40       4    91.5         0         1           1   \n",
            "..       ...      ...     ...     ...       ...       ...         ...   \n",
            "317      325        9       3   700.0         0         1           1   \n",
            "318      313      381      20   875.0         1         0           1   \n",
            "319       37      113       7   385.0         1         0           0   \n",
            "320     1314      131      12   960.0         1         0           1   \n",
            "321      408        4       3  1000.0         1         0           0   \n",
            "\n",
            "     Division_W  NewLeague_A  NewLeague_N  \n",
            "0             0            1            0  \n",
            "1             1            0            1  \n",
            "2             1            1            0  \n",
            "3             0            0            1  \n",
            "4             0            0            1  \n",
            "..          ...          ...          ...  \n",
            "317           0            0            1  \n",
            "318           0            1            0  \n",
            "319           1            1            0  \n",
            "320           0            1            0  \n",
            "321           1            1            0  \n",
            "\n",
            "[322 rows x 23 columns]>\n"
          ]
        },
        {
          "output_type": "display_data",
          "data": {
            "text/plain": [
              "<Figure size 432x288 with 2 Axes>"
            ],
            "image/png": "[encoded data removed]"
          },
          "metadata": {
            "needs_background": "light"
          }
        }
      ]
    },
    {
      "cell_type": "code",
      "source": [
        "#C- Answers are embedded in the text cell above "
      ],
      "metadata": {
        "id": "CP11jIRqLQZ8"
      },
      "execution_count": 30,
      "outputs": []
    },
    {
      "cell_type": "code",
      "source": [
        "#C\n",
        "fig, ax=plt.subplots()\n",
        "ax.barh(np.arange(len(gbrt.feature_importances_)),\n",
        "          gbrt.feature_importances_, align='center')\n",
        "ax.set_yticks(np.arange(len(gbrt.feature_importances_)))\n",
        "ax.set_yticklabels(gbrt.feature_names_in_)\n",
        "ax.invert_yaxis()\n",
        "ax.set_xlabel('Feature importance')\n",
        "ax.set_title('Feature')\n",
        "\n",
        "#CAtBat is by far the most influential feature on salary. The next most important influential features would be CRBI, Hits, and AtBat. "
      ],
      "metadata": {
        "colab": {
          "base_uri": "https://localhost:8080/",
          "height": 312
        },
        "id": "6fS25txlLwlV",
        "outputId": "811f9e46-6dce-4a86-88c1-b31b74e13e1f"
      },
      "execution_count": 31,
      "outputs": [
        {
          "output_type": "execute_result",
          "data": {
            "text/plain": [
              "Text(0.5, 1.0, 'Feature')"
            ]
          },
          "metadata": {},
          "execution_count": 31
        },
        {
          "output_type": "display_data",
          "data": {
            "text/plain": [
              "<Figure size 432x288 with 1 Axes>"
            ],
            "image/png": "[encoded data removed]"
          },
          "metadata": {
            "needs_background": "light"
          }
        }
      ]
    },
    {
      "cell_type": "code",
      "source": [
        "tree1=DecisionTreeRegressor().fit(x_train, y_train)"
      ],
      "metadata": {
        "id": "8ZPoNH2ESV_9"
      },
      "execution_count": 32,
      "outputs": []
    },
    {
      "cell_type": "code",
      "source": [
        "#D-The default for base estimator is a Decision Tree with a maximum depth of 3. Is that the optimal depth? Justify your response.\n",
        "tree2 = DecisionTreeRegressor(max_depth=3).fit(x_train,y_train)\n",
        "print(\"Train MSE: {:.2f}\".format(tree2.score(x_train, y_train)))\n",
        "print(\"Test MSE: {:.2f}\".format(tree2.score(x_test, y_test)))"
      ],
      "metadata": {
        "colab": {
          "base_uri": "https://localhost:8080/"
        },
        "id": "W1AtCHLgPVi6",
        "outputId": "e21c0a6f-ed5c-4c2a-8c84-01e1415b610c"
      },
      "execution_count": 33,
      "outputs": [
        {
          "output_type": "stream",
          "name": "stdout",
          "text": [
            "Train MSE: 0.80\n",
            "Test MSE: 0.39\n"
          ]
        }
      ]
    },
    {
      "cell_type": "code",
      "source": [
        "#D\n",
        "tree4 = DecisionTreeRegressor(max_depth=4).fit(x_train,y_train)\n",
        "print(\"Train MSE: {:.2f}\".format(tree4.score(x_train, y_train)))\n",
        "print(\"Test MSE: {:.2f}\".format(tree4.score(x_test, y_test)))"
      ],
      "metadata": {
        "colab": {
          "base_uri": "https://localhost:8080/"
        },
        "id": "WGlZWwKJTUzF",
        "outputId": "32641fb4-4595-48c7-f258-830cd29bb8f8"
      },
      "execution_count": 34,
      "outputs": [
        {
          "output_type": "stream",
          "name": "stdout",
          "text": [
            "Train MSE: 0.85\n",
            "Test MSE: 0.81\n"
          ]
        }
      ]
    },
    {
      "cell_type": "code",
      "source": [
        "#D\n",
        "tree5 = DecisionTreeRegressor(max_depth=5).fit(x_train,y_train)\n",
        "print(\"Train MSE: {:.2f}\".format(tree5.score(x_train, y_train)))\n",
        "print(\"Test MSE: {:.2f}\".format(tree5.score(x_test, y_test)))"
      ],
      "metadata": {
        "colab": {
          "base_uri": "https://localhost:8080/"
        },
        "id": "vsq9t6b7TdOW",
        "outputId": "0d33e236-e891-44b5-b9d9-e5dfc0a3149a"
      },
      "execution_count": 35,
      "outputs": [
        {
          "output_type": "stream",
          "name": "stdout",
          "text": [
            "Train MSE: 0.90\n",
            "Test MSE: 0.79\n"
          ]
        }
      ]
    },
    {
      "cell_type": "code",
      "source": [
        "#D\n",
        "tree6 = DecisionTreeRegressor(max_depth=6).fit(x_train,y_train)\n",
        "print(\"Train MSE: {:.2f}\".format(tree6.score(x_train, y_train)))\n",
        "print(\"Test MSE: {:.2f}\".format(tree6.score(x_test, y_test)))"
      ],
      "metadata": {
        "colab": {
          "base_uri": "https://localhost:8080/"
        },
        "id": "Y2GgtuvDT26_",
        "outputId": "915c8008-6f02-43f2-90a6-ad3d090edbde"
      },
      "execution_count": 36,
      "outputs": [
        {
          "output_type": "stream",
          "name": "stdout",
          "text": [
            "Train MSE: 0.92\n",
            "Test MSE: 0.78\n"
          ]
        }
      ]
    },
    {
      "cell_type": "code",
      "source": [
        "#D\n",
        "#A depth of 4 is the optimal depth. The numbers are higher for both training and test on a depth of four as opposed to three. However, they also don't appear to be overfit "
      ],
      "metadata": {
        "id": "X80hr49BT702"
      },
      "execution_count": 37,
      "outputs": []
    },
    {
      "cell_type": "code",
      "source": [
        "#The best test error rate comes from Random Forest. The next best comes from a tie between bagging and boosting. \n"
      ],
      "metadata": {
        "id": "Az-RRkc7Udv_"
      },
      "execution_count": 38,
      "outputs": []
    },
    {
      "cell_type": "code",
      "source": [
        "#E\n",
        "#Bagging\n",
        "Bag2 = BaggingRegressor().fit(x_train, y_train)\n",
        "print(\"Test MSE: {:.2f}\".format(Bag2.score(x_test,y_test)))"
      ],
      "metadata": {
        "colab": {
          "base_uri": "https://localhost:8080/"
        },
        "id": "OqEhxlO8Vrov",
        "outputId": "0dc33b3d-3471-44ea-c280-e351408525f8"
      },
      "execution_count": 39,
      "outputs": [
        {
          "output_type": "stream",
          "name": "stdout",
          "text": [
            "Test MSE: 0.81\n"
          ]
        }
      ]
    },
    {
      "cell_type": "code",
      "source": [
        "#E\n",
        "#Random Forest\n",
        "forest9 = RandomForestRegressor()\n",
        "forest9.fit(x_train, y_train)\n",
        "print(\"Test MSE: {:.2f}\".format(forest9.score(x_test,y_test)))"
      ],
      "metadata": {
        "id": "S_1lcEQCVs6B",
        "colab": {
          "base_uri": "https://localhost:8080/"
        },
        "outputId": "6ede7203-8b60-4833-9951-648eaf496156"
      },
      "execution_count": 40,
      "outputs": [
        {
          "output_type": "stream",
          "name": "stdout",
          "text": [
            "Test MSE: 0.84\n"
          ]
        }
      ]
    },
    {
      "cell_type": "code",
      "source": [
        "#E\n",
        "#Boosting Test MSE: 0.81 (see above)"
      ],
      "metadata": {
        "id": "l1FAUrv2XCZA"
      },
      "execution_count": 41,
      "outputs": []
    },
    {
      "cell_type": "markdown",
      "metadata": {
        "id": "NINER85US3TU"
      },
      "source": [
        "Use support vector approaches in order to predict whether a given car gets high or low gas mileage based on the Auto data set.  \n",
        "\n",
        "(a) Create a binary variable that takes on a 1 for cars with gas mileage above the median, and a 0 for cars with gas mileage below the median.  \n",
        "(b) Fit a support vector classifier to the data with various values of cost, in order to predict whether a car gets high or low gas mileage. Report the cross-validation errors associated with different values of this parameter.  \n",
        "(c) Make an ROC curve for your model. "
      ]
    },
    {
      "cell_type": "code",
      "metadata": {
        "id": "sw_GoHpkLA28"
      },
      "source": [
        "auto=pd.read_csv('/content/gdrive/My Drive/Econ 484/Auto.csv')\n",
        "#A\n",
        "np.median(auto.mpg)\n",
        "binary = (auto[\"mpg\"] >= auto[\"mpg\"].median()) * 1\n",
        "\n"
      ],
      "execution_count": 42,
      "outputs": []
    },
    {
      "cell_type": "code",
      "source": [
        "#B Part 1\n",
        "y= binary\n",
        "#trying to predict this\n",
        "from sklearn.svm import LinearSVC\n",
        "X =auto.loc[:,['year', 'origin', 'acceleration', 'cylinders', 'displacement', 'weight']]\n",
        "from sklearn.preprocessing import StandardScaler\n",
        "scaler = StandardScaler()\n",
        "scaler.fit(X)\n",
        "X_scaled = scaler.transform(X)\n",
        "X_scaled.shape\n",
        "\n",
        "X_train, X_test, y_train, y_test = train_test_split(X_scaled,y,random_state=0)\n",
        "\n",
        "lsvc = LinearSVC().fit(X_train, y_train)\n",
        "print(\"Training set score: {:.3f}\".format(lsvc.score(X_train, y_train)))\n",
        "print(\"Test set score: {:.3f}\".format(lsvc.score(X_test, y_test)))\n",
        "\n",
        "\n"
      ],
      "metadata": {
        "id": "MjQwGInwfor5",
        "colab": {
          "base_uri": "https://localhost:8080/"
        },
        "outputId": "05c565f9-75c7-4a72-eb36-5e82826b3e38"
      },
      "execution_count": 43,
      "outputs": [
        {
          "output_type": "stream",
          "name": "stdout",
          "text": [
            "Training set score: 0.896\n",
            "Test set score: 0.950\n"
          ]
        }
      ]
    },
    {
      "cell_type": "code",
      "source": [
        "#B Part 2\n",
        "from sklearn.model_selection import GridSearchCV\n",
        "from sklearn.svm import LinearSVC\n",
        "from sklearn.svm import SVC\n",
        "# define grid for parameters\n",
        "param_grid = {'C': [17, 18, 19, 20, 21, 22, 23, 24],'kernel':['rbf','poly','linear']}\n",
        "grid_search = GridSearchCV(SVC(),param_grid,cv=5,return_train_score=True)\n",
        "best_model=grid_search.fit(X_train,y_train)\n",
        "print(\"Best of C\",best_model.best_estimator_.get_params('C'))\n",
        "print(\"Best kernel: \",best_model.best_estimator_.get_params()['kernel'])\n",
        "\n",
        "# print out scores\n",
        "print(\"Accuracy on training set: {:.3f}\".format(\n",
        "    best_model.score(X_train, y_train)))\n",
        "print(\"Accuracy on test set: {:.3f}\".format(best_model.score(X_test, y_test)))\n",
        "\n",
        "#The test set has slightly better results than the training set"
      ],
      "metadata": {
        "id": "K3FaoR3Nm9UW",
        "colab": {
          "base_uri": "https://localhost:8080/"
        },
        "outputId": "dcc60a1e-efaa-4bee-dc74-e8788b1a8cf6"
      },
      "execution_count": 44,
      "outputs": [
        {
          "output_type": "stream",
          "name": "stdout",
          "text": [
            "Best of C {'C': 20, 'break_ties': False, 'cache_size': 200, 'class_weight': None, 'coef0': 0.0, 'decision_function_shape': 'ovr', 'degree': 3, 'gamma': 'scale', 'kernel': 'rbf', 'max_iter': -1, 'probability': False, 'random_state': None, 'shrinking': True, 'tol': 0.001, 'verbose': False}\n",
            "Best kernel:  rbf\n",
            "Accuracy on training set: 0.953\n",
            "Accuracy on test set: 0.960\n"
          ]
        }
      ]
    },
    {
      "cell_type": "code",
      "source": [
        "#C Part 1\n",
        "from sklearn.linear_model import LogisticRegression\n",
        "logit = LogisticRegression(penalty='none').fit(X_train, y_train)\n",
        "print(\"logit.coef_:\", logit.coef_)\n",
        "print(\"logit.intercept_:\", logit.intercept_)"
      ],
      "metadata": {
        "id": "vkpic0OqfqGI",
        "colab": {
          "base_uri": "https://localhost:8080/"
        },
        "outputId": "9ada8077-9761-4655-ae6b-1e070393f7f2"
      },
      "execution_count": 45,
      "outputs": [
        {
          "output_type": "stream",
          "name": "stdout",
          "text": [
            "logit.coef_: [[ 1.61944795  0.21780829  0.61462884 -0.01176822  0.20501941 -4.3581315 ]]\n",
            "logit.intercept_: [-0.90117008]\n"
          ]
        }
      ]
    },
    {
      "cell_type": "code",
      "source": [
        "#C Part 2\n",
        "phat_test=logit.predict_proba(X_test)\n",
        "phat_test=phat_test[:,1]\n",
        "phat_test"
      ],
      "metadata": {
        "id": "HDggDRsoqxyZ",
        "colab": {
          "base_uri": "https://localhost:8080/"
        },
        "outputId": "4adc4c95-ae33-4380-ccbe-c1b9951a5ff0"
      },
      "execution_count": 46,
      "outputs": [
        {
          "output_type": "execute_result",
          "data": {
            "text/plain": [
              "array([1.16691393e-04, 6.22026776e-01, 8.87119669e-05, 1.37312082e-01,\n",
              "       7.93967333e-03, 9.89992709e-01, 9.95370652e-01, 7.04407929e-01,\n",
              "       1.62003711e-04, 7.91137881e-01, 9.91822538e-01, 9.92521542e-01,\n",
              "       8.98235925e-02, 9.39529629e-01, 9.99600404e-01, 8.06015519e-01,\n",
              "       4.65704126e-01, 9.98517817e-01, 6.88034918e-03, 7.27457950e-01,\n",
              "       6.08435335e-04, 8.57478740e-01, 9.73229276e-01, 6.19186123e-02,\n",
              "       9.97158369e-01, 1.89904456e-01, 9.32287291e-01, 9.78378893e-01,\n",
              "       8.45374101e-01, 9.29088012e-03, 3.95464625e-01, 9.77039740e-01,\n",
              "       7.27585930e-02, 9.36481024e-01, 8.80039920e-02, 7.34181948e-01,\n",
              "       9.72164081e-01, 9.61146262e-01, 9.71698975e-01, 2.18438308e-06,\n",
              "       7.61623196e-06, 3.25917323e-04, 9.94819389e-01, 9.76913375e-01,\n",
              "       9.79976162e-01, 2.71797864e-01, 2.46839710e-01, 9.63183454e-01,\n",
              "       4.41093990e-01, 9.64222615e-01, 6.07875239e-01, 9.03582955e-01,\n",
              "       1.08663527e-03, 7.76382495e-01, 4.85285086e-04, 1.95046893e-05,\n",
              "       2.80142198e-02, 9.98804886e-01, 2.46733143e-01, 8.31864418e-04,\n",
              "       1.76303228e-02, 9.59541000e-01, 1.83485702e-01, 4.77610186e-02,\n",
              "       2.40717005e-05, 3.22174511e-05, 9.69684011e-06, 2.18184788e-02,\n",
              "       5.40763380e-03, 8.22356494e-06, 1.17483184e-03, 1.91051620e-05,\n",
              "       1.67430228e-01, 9.96852454e-01, 4.15357709e-01, 9.70366472e-01,\n",
              "       6.44582868e-01, 9.84495502e-01, 1.29813183e-01, 1.26312319e-03,\n",
              "       1.18586790e-04, 9.69476145e-01, 3.43140316e-01, 9.85045737e-01,\n",
              "       8.17987982e-02, 9.99092510e-01, 9.73651963e-01, 5.96268912e-02,\n",
              "       5.53873413e-02, 9.96226928e-01, 9.47233750e-01, 6.62361124e-06,\n",
              "       9.96486976e-01, 9.95501887e-01, 9.97192876e-01, 5.97113088e-01,\n",
              "       9.79516812e-01, 8.79362311e-01, 9.95841045e-01, 2.75150346e-05])"
            ]
          },
          "metadata": {},
          "execution_count": 46
        }
      ]
    },
    {
      "cell_type": "code",
      "source": [
        "#C Part 3\n",
        "tpr=[0]*100\n",
        "fpr=[0]*100\n",
        "for i in range(100):\n",
        "     tau=i/100\n",
        "     yhat_test=phat_test>=tau\n",
        "     tp=sum(yhat_test*y_test) \n",
        "     p=sum(y_test)\n",
        "     tpr[i]=tp/p\n",
        "     n=sum(1-y_test)\n",
        "     fp=sum(yhat_test*(1-y_test))\n",
        "     fpr[i]=fp/n"
      ],
      "metadata": {
        "id": "XGsUrr51q9vJ"
      },
      "execution_count": 47,
      "outputs": []
    },
    {
      "cell_type": "code",
      "source": [
        "#C Part 4\n",
        "fig = plt.figure()\n",
        "ax = plt.axes()\n",
        "ax.plot(fpr,tpr);\n",
        "plt.title(\"Cars Milage\")\n",
        "plt.xlabel(\"False positive rate\")\n",
        "plt.ylabel(\"True positive rate\");"
      ],
      "metadata": {
        "id": "FWVM1K9arCFA",
        "colab": {
          "base_uri": "https://localhost:8080/",
          "height": 295
        },
        "outputId": "ec9360cf-c4e6-4745-fcf9-f99106b323b3"
      },
      "execution_count": 48,
      "outputs": [
        {
          "output_type": "display_data",
          "data": {
            "text/plain": [
              "<Figure size 432x288 with 1 Axes>"
            ],
            "image/png": "[encoded data removed]"
          },
          "metadata": {
            "needs_background": "light"
          }
        }
      ]
    },
    {
      "cell_type": "markdown",
      "metadata": {
        "id": "8pE2mM08S3TU"
      },
      "source": [
        "Below there are some generated datasets of varying structure that you will classifying is SVMs, plotting the data to see what it looks like will likey be helpful. Find the basis kernel that does best job classifying each of them. "
      ]
    },
    {
      "cell_type": "code",
      "metadata": {
        "id": "g47_6VX_S3TU",
        "colab": {
          "base_uri": "https://localhost:8080/",
          "height": 317
        },
        "outputId": "06e59c11-4b3b-4e2f-b9a2-9f36fd813aee"
      },
      "source": [
        "from sklearn.datasets import make_moons\n",
        "x, y = make_moons(n_samples=100, shuffle=True, noise=1/10, random_state=123)\n",
        "\n",
        "from mlxtend.plotting import plot_decision_regions\n",
        "import matplotlib.pyplot as plt\n",
        "from sklearn.svm import SVC\n",
        "\n",
        "svm = SVC(C=0.5, kernel='linear')\n",
        "svm.fit(x, y)\n",
        "plot_decision_regions(x, y, clf=svm, legend=2)"
      ],
      "execution_count": 49,
      "outputs": [
        {
          "output_type": "stream",
          "name": "stderr",
          "text": [
            "/usr/local/lib/python3.7/dist-packages/mlxtend/plotting/decision_regions.py:244: MatplotlibDeprecationWarning: Passing unsupported keyword arguments to axis() will raise a TypeError in 3.3.\n",
            "  ax.axis(xmin=xx.min(), xmax=xx.max(), y_min=yy.min(), y_max=yy.max())\n"
          ]
        },
        {
          "output_type": "execute_result",
          "data": {
            "text/plain": [
              "<matplotlib.axes._subplots.AxesSubplot at 0x7fb22d986910>"
            ]
          },
          "metadata": {},
          "execution_count": 49
        },
        {
          "output_type": "display_data",
          "data": {
            "text/plain": [
              "<Figure size 432x288 with 1 Axes>"
            ],
            "image/png": "[encoded data removed]"
          },
          "metadata": {
            "needs_background": "light"
          }
        }
      ]
    },
    {
      "cell_type": "code",
      "metadata": {
        "id": "lB5jkju_S3TU",
        "colab": {
          "base_uri": "https://localhost:8080/",
          "height": 321
        },
        "outputId": "f707ce0c-99d5-44f3-dbff-105ec2c26933"
      },
      "source": [
        "from sklearn.datasets import make_circles\n",
        "x, y = make_circles(n_samples=100, shuffle=False, noise=1/50, random_state=123, factor=0.6)\n",
        "\n",
        "from mlxtend.plotting import plot_decision_regions\n",
        "import matplotlib.pyplot as plt\n",
        "from sklearn.svm import SVC\n",
        "\n",
        "svm = SVC(C=0.5, kernel='linear')\n",
        "svm.fit(x, y)\n",
        "plot_decision_regions(x, y, clf=svm, legend=2)"
      ],
      "execution_count": 50,
      "outputs": [
        {
          "output_type": "stream",
          "name": "stderr",
          "text": [
            "/usr/local/lib/python3.7/dist-packages/mlxtend/plotting/decision_regions.py:244: MatplotlibDeprecationWarning: Passing unsupported keyword arguments to axis() will raise a TypeError in 3.3.\n",
            "  ax.axis(xmin=xx.min(), xmax=xx.max(), y_min=yy.min(), y_max=yy.max())\n"
          ]
        },
        {
          "output_type": "execute_result",
          "data": {
            "text/plain": [
              "<matplotlib.axes._subplots.AxesSubplot at 0x7fb22d616090>"
            ]
          },
          "metadata": {},
          "execution_count": 50
        },
        {
          "output_type": "display_data",
          "data": {
            "text/plain": [
              "<Figure size 432x288 with 1 Axes>"
            ],
            "image/png": "[encoded data removed]"
          },
          "metadata": {
            "needs_background": "light"
          }
        }
      ]
    },
    {
      "cell_type": "code",
      "metadata": {
        "id": "7uCSpmffS3TU",
        "colab": {
          "base_uri": "https://localhost:8080/",
          "height": 317
        },
        "outputId": "ddfc3829-0599-4ca8-c82e-d82cd3485bb8"
      },
      "source": [
        "from sklearn.datasets import make_blobs\n",
        "x, y = make_blobs(n_samples=100, n_features=2, centers=None, cluster_std=2.0,\n",
        "           center_box=(-10.0, 10.0), shuffle=True, random_state=10)\n",
        "\n",
        "from mlxtend.plotting import plot_decision_regions\n",
        "import matplotlib.pyplot as plt\n",
        "from sklearn.svm import SVC\n",
        "\n",
        "svm = SVC(C=0.5, kernel='linear')\n",
        "svm.fit(x, y)\n",
        "plot_decision_regions(x, y, clf=svm, legend=2)"
      ],
      "execution_count": 51,
      "outputs": [
        {
          "output_type": "stream",
          "name": "stderr",
          "text": [
            "/usr/local/lib/python3.7/dist-packages/mlxtend/plotting/decision_regions.py:244: MatplotlibDeprecationWarning: Passing unsupported keyword arguments to axis() will raise a TypeError in 3.3.\n",
            "  ax.axis(xmin=xx.min(), xmax=xx.max(), y_min=yy.min(), y_max=yy.max())\n"
          ]
        },
        {
          "output_type": "execute_result",
          "data": {
            "text/plain": [
              "<matplotlib.axes._subplots.AxesSubplot at 0x7fb22d329c10>"
            ]
          },
          "metadata": {},
          "execution_count": 51
        },
        {
          "output_type": "display_data",
          "data": {
            "text/plain": [
              "<Figure size 432x288 with 1 Axes>"
            ],
            "image/png": "[encoded data removed]"
          },
          "metadata": {
            "needs_background": "light"
          }
        }
      ]
    }
  ]
}